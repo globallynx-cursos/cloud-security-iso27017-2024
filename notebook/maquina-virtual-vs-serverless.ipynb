{
 "cells": [
  {
   "cell_type": "markdown",
   "metadata": {},
   "source": [
    "# **Introducción a los Servicios Fundamentales de AWS e implementación de seguridad**"
   ]
  },
  {
   "cell_type": "markdown",
   "metadata": {},
   "source": [
    "# Introducción\n",
    "\n",
    "En este notebook, exploraremos cuatro servicios fundamentales de AWS:\n",
    "\n",
    "1. **IAM (Identity and Access Management)** 🛡️\n",
    "2. **AWS Networking: VPC, Subnets, NAT, Internet Gateway, Route Tables, ACL** 🌐\n",
    "3. **Máquinas Virtuales (EC2)** 💻\n",
    "4. **Contenedores (ECS)** 📦\n",
    "5. **Computación Serverless (Lambda)** ⚡\n",
    "\n",
    "Veremos las características de cada uno y cómo se implementan en AWS mediante este ejercicio."
   ]
  },
  {
   "cell_type": "markdown",
   "metadata": {},
   "source": [
    "## Diagrama de ejercicio general\n",
    "\n",
    "![Diagram](assets/diagram.png)"
   ]
  },
  {
   "cell_type": "markdown",
   "metadata": {},
   "source": [
    "## Explicación Arquitectura en AWS \n",
    "\n",
    "En este ejercicio vamos a crear una arquitectura en AWS que utiliza una VPC con subnets públicas y privadas:\n",
    "\n",
    "- **Subnet pública**: alojará una aplicación web. 🌐\n",
    "- **Subnet privada**: contendrá una base de datos. 💾\n",
    "\n",
    "## Componentes clave:\n",
    "\n",
    "- **Internet Gateway**: permitirá el acceso externo. 🌍\n",
    "- **NAT Gateway**: permitirá que la base de datos acceda a internet sin ser expuesta. 🔒\n",
    "- **Security Groups**: protegerán los recursos controlando el tráfico. 🛡️\n",
    "- **ECR (Elastic Container Registry)**: almacenará imágenes de contenedores utilizadas por la aplicación. 📦\n",
    "- **Lambda**: se empleará para hacer llamadas al servicio web. ⚡\n",
    "- **S3**: almacenará los logs de las llamadas Lambda. La Lambda tendrá un rol con acceso exclusivo a un bucket S3. 🗃️\n",
    "- **Session Manager**: se usará para una conexión segura a las instancias. 🔐\n",
    "- **Tablas de enrutamiento**: gestionarán el flujo del tráfico dentro de la VPC. 🛣️\n",
    "\n",
    "Esta arquitectura asegura una comunicación eficiente y segura entre los diferentes componentes.\n"
   ]
  },
  {
   "cell_type": "markdown",
   "metadata": {},
   "source": [
    "# IAM (Identity and Access Management)"
   ]
  },
  {
   "cell_type": "markdown",
   "metadata": {},
   "source": [
    "**IAM** es un servicio web que ayuda a controlar de forma segura el acceso a los recursos de AWS. 🛡️\n",
    "\n",
    "Características:\n",
    "- Gestión centralizada de usuarios y accesos 👥\n",
    "- Autenticación y autorización granular 🔐\n",
    "- Integración con servicios AWS 🔗\n",
    "- Soporte para identidades federadas 🌍\n",
    "- Sin costo adicional 💸\n"
   ]
  },
  {
   "cell_type": "markdown",
   "metadata": {},
   "source": [
    "## Conceptos Clave\n",
    "\n",
    "- **Cuenta Root**: Al crear una cuenta de AWS, se crea una cuenta root por defecto. Esta cuenta tiene acceso completo a todos los recursos y servicios de AWS y **no debe ser compartida**. 🔑\n",
    "- **Usuarios**: Son entidades que creas en AWS para representar personas o servicios que interactúan con los recursos de AWS. Cada usuario tiene un conjunto único de credenciales. 👤\n",
    "- **Grupos**: Son colecciones de usuarios. No pueden contener otros grupos, solo usuarios. Los usuarios pueden pertenecer a uno o más grupos. 👥\n",
    "- **Roles**: Son similares a los usuarios, pero están destinados a ser asumidos por cualquier entidad que necesite acceso temporal a recursos específicos. 🎭\n",
    "- **Políticas**: Definen permisos y pueden ser adjuntadas a usuarios, grupos o roles. 📜\n"
   ]
  },
  {
   "cell_type": "markdown",
   "metadata": {},
   "source": [
    "### Ejemplo: Asignar nuevo usuario grupo con acceso a S3\n",
    "\n",
    "En este ejercicio, vamos a crear un usuario y un grupo en AWS. El grupo tendrá permisos exclusivamente para enlistar y crear buckets en S3.\n"
   ]
  },
  {
   "cell_type": "code",
   "execution_count": 6,
   "metadata": {},
   "outputs": [
    {
     "data": {
      "text/html": [
       "\n",
       "        <iframe\n",
       "            width=\"1000\"\n",
       "            height=\"500\"\n",
       "            src=\"assets/iam.pdf\"\n",
       "            frameborder=\"0\"\n",
       "            allowfullscreen\n",
       "            \n",
       "        ></iframe>\n",
       "        "
      ],
      "text/plain": [
       "<IPython.lib.display.IFrame at 0x7fad3c335e80>"
      ]
     },
     "execution_count": 6,
     "metadata": {},
     "output_type": "execute_result"
    }
   ],
   "source": [
    "from IPython.display import IFrame\n",
    "\n",
    "pdf_path = 'assets/iam.pdf'\n",
    "\n",
    "IFrame(pdf_path, width=1000, height=500)\n"
   ]
  },
  {
   "cell_type": "markdown",
   "metadata": {},
   "source": [
    "### Ejemplo: Crear un Rol de Administrador y Asumirlo por el Usuario\n",
    "En este ejercicio, crearemos un rol de tipo Administrador, que tendrá permisos para crear y leer cualquier recurso en la cuenta de AWS. Además, otorgaremos al usuario los permisos necesarios para asumir este rol y ejecutar dichas acciones"
   ]
  },
  {
   "cell_type": "code",
   "execution_count": 2,
   "metadata": {},
   "outputs": [
    {
     "data": {
      "text/html": [
       "\n",
       "        <iframe\n",
       "            width=\"1000\"\n",
       "            height=\"500\"\n",
       "            src=\"assets/roleassume.pdf\"\n",
       "            frameborder=\"0\"\n",
       "            allowfullscreen\n",
       "            \n",
       "        ></iframe>\n",
       "        "
      ],
      "text/plain": [
       "<IPython.lib.display.IFrame at 0x7f2cb9c6b1a0>"
      ]
     },
     "execution_count": 2,
     "metadata": {},
     "output_type": "execute_result"
    }
   ],
   "source": [
    "from IPython.display import IFrame\n",
    "\n",
    "pdf_path = 'assets/roleassume.pdf'\n",
    "\n",
    "IFrame(pdf_path, width=1000, height=500)"
   ]
  },
  {
   "cell_type": "markdown",
   "metadata": {},
   "source": [
    "### Documentación"
   ]
  },
  {
   "cell_type": "markdown",
   "metadata": {},
   "source": [
    "Consultar esta información para más detalles:\n",
    "- [Crear usuarios en IAM](https://docs.aws.amazon.com/es_es/IAM/latest/UserGuide/id_users_create.html)\n",
    "- [Crear grupos en IAM](https://docs.aws.amazon.com/es_es/IAM/latest/UserGuide/id_groups_create.html)\n",
    "- [Crear roles para servicios en IAM](https://docs.aws.amazon.com/es_es/IAM/latest/UserGuide/id_roles_create_for-service.html)\n",
    "- [Crear roles en IAM](https://docs.aws.amazon.com/es_es/IAM/latest/UserGuide/id_roles_create.html)\n",
    "- [Roles de IAM](https://docs.aws.amazon.com/es_es/IAM/latest/UserGuide/id_roles.html)\n",
    "- [Asumir roles de AWS](https://docs.aws.amazon.com/es_es/IAM/latest/UserGuide/id_roles_use.html)"
   ]
  },
  {
   "cell_type": "markdown",
   "metadata": {},
   "source": [
    "# Setup Inicial para ejecutar proyecto 🚀"
   ]
  },
  {
   "cell_type": "markdown",
   "metadata": {},
   "source": [
    "### Importar bibliotecas 🚀"
   ]
  },
  {
   "cell_type": "code",
   "execution_count": 2,
   "metadata": {},
   "outputs": [],
   "source": [
    "import boto3"
   ]
  },
  {
   "cell_type": "markdown",
   "metadata": {},
   "source": [
    "### Configurar el cliente de AWS (asegúrate de tener tus credenciales configuradas) 🚀"
   ]
  },
  {
   "cell_type": "code",
   "execution_count": 3,
   "metadata": {},
   "outputs": [],
   "source": [
    "iam = boto3.client('iam')\n",
    "ec2 = boto3.client('ec2')\n",
    "lambda_client = boto3.client('lambda')\n",
    "ecs = boto3.client('ecs')"
   ]
  },
  {
   "cell_type": "markdown",
   "metadata": {},
   "source": [
    "# AWS Networking: VPC, Subnets, NAT, Internet Gateway, Route Tables, ACL 🌐\n",
    "\n",
    "AWS Networking se centra en la configuración y gestión de redes dentro de AWS utilizando varios componentes clave:\n",
    "\n",
    "- **VPC (Virtual Private Cloud):** Una red virtual aislada dentro de AWS donde se despliegan recursos. 🏠\n",
    "- **Subnets:** Segmentos de una VPC que permiten organizar y asegurar los recursos de manera granular. 📊\n",
    "- **NAT (Network Address Translation):** Permite que instancias en subnets privadas accedan a Internet sin exponer sus direcciones IP privadas. 🔄\n",
    "- **Internet Gateway:** Un componente que permite la comunicación entre instancias en una VPC y la Internet. 🌍\n",
    "- **Route Tables:** Definen las reglas de enrutamiento para controlar el tráfico dentro de la VPC y hacia fuera. 🛣️\n",
    "- **ACL (Access Control Lists):** Listas de control de acceso que proporcionan una capa de seguridad adicional a nivel de subred, permitiendo o denegando tráfico. 🔒\n",
    "\n",
    "Estos componentes juntos permiten diseñar y gestionar redes seguras y eficientes en la nube de AWS.\n"
   ]
  },
  {
   "cell_type": "markdown",
   "metadata": {},
   "source": [
    "# Máquinas Virtuales (EC2 en AWS) 💻"
   ]
  },
  {
   "cell_type": "markdown",
   "metadata": {},
   "source": [
    "Las máquinas virtuales son emulaciones de sistemas informáticos completos. En AWS, se implementan como instancias EC2 (Elastic Compute Cloud).\n",
    "\n",
    "Características:\n",
    "- Emula hardware completo 🖥️\n",
    "- Control total sobre el sistema operativo ⚙️\n",
    "- Requiere gestión y mantenimiento del sistema operativo 🛠️\n",
    "- Escalado manual o automatizado, pero no instantáneo 📈\n",
    "- Facturación por hora/segundo de ejecución ⏲️"
   ]
  },
  {
   "cell_type": "markdown",
   "metadata": {},
   "source": [
    "## Ejemplo: Instancia EC2 AWS 🚀"
   ]
  },
  {
   "cell_type": "code",
   "execution_count": null,
   "metadata": {},
   "outputs": [],
   "source": [
    "def create_ec2_instance():\n",
    "    response = ec2.run_instances(\n",
    "        ImageId='ami-xxxxxxxx',  # AMI ID (ejemplo)\n",
    "        InstanceType='t2.micro',\n",
    "        MinCount=1,\n",
    "        MaxCount=1\n",
    "    )\n",
    "    return response['Instances'][0]['InstanceId']\n",
    "\n",
    "instance_id = create_ec2_instance()\n",
    "print(f\"Instancia EC2 creada con ID: {instance_id}\")"
   ]
  },
  {
   "cell_type": "markdown",
   "metadata": {},
   "source": [
    "# Serverless (AWS Lambda) ⚡"
   ]
  },
  {
   "cell_type": "markdown",
   "metadata": {},
   "source": [
    "La computación serverless permite ejecutar código sin provisionar ni administrar servidores. AWS Lambda es el servicio serverless de AWS.\n",
    "\n",
    "Características:\n",
    "- No hay que gestionar servidores 🛠️\n",
    "- Escalado automático e instantáneo 📈\n",
    "- Facturación por milisegundo de ejecución ⏱️\n",
    "- Ideal para cargas de trabajo intermitentes 🌐\n",
    "- Limitado en tiempo de ejecución y recursos ⏳"
   ]
  },
  {
   "cell_type": "markdown",
   "metadata": {},
   "source": [
    "### Ejemplo: Crear una función Lambda"
   ]
  },
  {
   "cell_type": "code",
   "execution_count": null,
   "metadata": {},
   "outputs": [],
   "source": [
    "def create_lambda_function():\n",
    "    with open('lambda_function.zip', 'rb') as f:\n",
    "        zipped_code = f.read()\n",
    "    \n",
    "    response = lambda_client.create_function(\n",
    "        FunctionName='MyLambdaFunction',\n",
    "        Runtime='python3.8',\n",
    "        Role='arn:aws:iam::XXXXXXXXXXXX:role/lambda-role',  # IAM role ARN\n",
    "        Handler='lambda_function.handler',\n",
    "        Code=dict(ZipFile=zipped_code),\n",
    "        Timeout=30\n",
    "    )\n",
    "    return response['FunctionArn']\n",
    "\n",
    "lambda_arn = create_lambda_function()\n",
    "print(f\"Función Lambda creada con ARN: {lambda_arn}\")"
   ]
  },
  {
   "cell_type": "markdown",
   "metadata": {},
   "source": [
    "## Contenedores (ECS en AWS)"
   ]
  },
  {
   "cell_type": "markdown",
   "metadata": {},
   "source": [
    "Los contenedores son unidades estándar de software que empaquetan el código y todas sus dependencias.\n",
    "AWS ECS (Elastic Container Service) es un servicio de orquestación de contenedores.\n",
    "\n",
    "Características:\n",
    "- Ligeros y portables\n",
    "- Aislamiento de aplicaciones\n",
    "- Rápido despliegue y escalado\n",
    "- Eficiente uso de recursos\n",
    "- Ideal para microservicios"
   ]
  },
  {
   "cell_type": "markdown",
   "metadata": {},
   "source": [
    "### Ejemplo: Crear un cluster ECS"
   ]
  },
  {
   "cell_type": "code",
   "execution_count": null,
   "metadata": {},
   "outputs": [],
   "source": [
    "def create_ecs_cluster(cluster_name):\n",
    "    response = ecs.create_cluster(clusterName=cluster_name)\n",
    "    return response['cluster']['clusterArn']\n",
    "\n",
    "cluster_arn = create_ecs_cluster('MiClusterECS')\n",
    "print(f\"Cluster ECS creado con ARN: {cluster_arn}\")"
   ]
  },
  {
   "cell_type": "markdown",
   "metadata": {},
   "source": [
    "## Comparación de servicios"
   ]
  },
  {
   "cell_type": "markdown",
   "metadata": {},
   "source": [
    "1. IAM:\n",
    "   - Gestión centralizada de accesos\n",
    "   - Crucial para la seguridad en la nube\n",
    "   - Se integra con todos los servicios AWS\n",
    "   - Sin costo adicional\n",
    "\n",
    "2. Máquinas Virtuales (EC2):\n",
    "   - Mayor control y flexibilidad\n",
    "   - Requiere más gestión\n",
    "   - Mejor para aplicaciones que necesitan el sistema operativo completo\n",
    "   - Costo: Puede ser más alto para cargas de trabajo intermitentes\n",
    "\n",
    "3. Serverless (Lambda):\n",
    "   - Sin gestión de servidores\n",
    "   - Escalado automático\n",
    "   - Ideal para microservicios y funciones específicas\n",
    "   - Costo: Muy eficiente para cargas de trabajo variables\n",
    "\n",
    "4. Contenedores (ECS):\n",
    "   - Portabilidad y consistencia\n",
    "   - Menos sobrecarga que las VMs\n",
    "   - Bueno para microservicios y aplicaciones distribuidas\n",
    "   - Costo: Equilibrio entre VMs y serverless\n",
    "\n",
    "La elección depende de los requisitos específicos de tu aplicación, \n",
    "la experiencia de tu equipo y las necesidades de gestión y escalabilidad."
   ]
  }
 ],
 "metadata": {
  "kernelspec": {
   "display_name": "Python 3 (ipykernel)",
   "language": "python",
   "name": "python3"
  },
  "language_info": {
   "codemirror_mode": {
    "name": "ipython",
    "version": 3
   },
   "file_extension": ".py",
   "mimetype": "text/x-python",
   "name": "python",
   "nbconvert_exporter": "python",
   "pygments_lexer": "ipython3",
   "version": "3.12.4"
  }
 },
 "nbformat": 4,
 "nbformat_minor": 4
}
