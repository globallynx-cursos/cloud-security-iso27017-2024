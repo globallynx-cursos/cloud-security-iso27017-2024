{
 "cells": [
  {
   "cell_type": "markdown",
   "metadata": {},
   "source": [
    "# **Introducción a los Servicios Fundamentales de AWS e implementación de seguridad**"
   ]
  },
  {
   "cell_type": "markdown",
   "metadata": {},
   "source": [
    "# Introducción\n",
    "\n",
    "En este notebook, exploraremos cuatro servicios fundamentales de AWS:\n",
    "\n",
    "1. **IAM (Identity and Access Management)** 🛡️\n",
    "2. **AWS Networking: VPC, Subnets, NAT, Internet Gateway, Route Tables, ACL** 🌐\n",
    "3. **Máquinas Virtuales (EC2)** 💻\n",
    "4. **Contenedores (ECS)** 📦\n",
    "5. **Computación Serverless (Lambda)** ⚡\n",
    "\n",
    "Veremos las características de cada uno y cómo se implementan en AWS mediante este ejercicio."
   ]
  },
  {
   "cell_type": "markdown",
   "metadata": {
    "jp-MarkdownHeadingCollapsed": true
   },
   "source": [
    "## Diagrama de ejercicio general\n",
    "\n",
    "![Diagram](assets/diagram.png)"
   ]
  },
  {
   "cell_type": "markdown",
   "metadata": {},
   "source": [
    "## Explicación Arquitectura en AWS \n",
    "\n",
    "En este ejercicio vamos a crear una arquitectura en AWS que utiliza una VPC con subnets públicas y privadas:\n",
    "\n",
    "- **Subnet pública**: alojará una aplicación web. 🌐\n",
    "- **Subnet privada**: contendrá una base de datos. 💾\n",
    "\n",
    "## Componentes clave:\n",
    "\n",
    "- **Internet Gateway**: permitirá el acceso externo. 🌍\n",
    "- **NAT Gateway**: permitirá que la base de datos acceda a internet sin ser expuesta. 🔒\n",
    "- **Security Groups**: protegerán los recursos controlando el tráfico. 🛡️\n",
    "- **ECR (Elastic Container Registry)**: almacenará imágenes de contenedores utilizadas por la aplicación. 📦\n",
    "- **Lambda**: se empleará para hacer llamadas al servicio web. ⚡\n",
    "- **S3**: almacenará los logs de las llamadas Lambda. La Lambda tendrá un rol con acceso exclusivo a un bucket S3. 🗃️\n",
    "- **Session Manager**: se usará para una conexión segura a las instancias. 🔐\n",
    "- **Tablas de enrutamiento**: gestionarán el flujo del tráfico dentro de la VPC. 🛣️\n",
    "\n",
    "Esta arquitectura asegura una comunicación eficiente y segura entre los diferentes componentes.\n"
   ]
  },
  {
   "cell_type": "markdown",
   "metadata": {},
   "source": [
    "# IAM (Identity and Access Management)"
   ]
  },
  {
   "cell_type": "markdown",
   "metadata": {},
   "source": [
    "**IAM** es un servicio web que ayuda a controlar de forma segura el acceso a los recursos de AWS. 🛡️\n",
    "\n",
    "Características:\n",
    "- Gestión centralizada de usuarios y accesos 👥\n",
    "- Autenticación y autorización granular 🔐\n",
    "- Integración con servicios AWS 🔗\n",
    "- Soporte para identidades federadas 🌍\n",
    "- Sin costo adicional 💸\n"
   ]
  },
  {
   "cell_type": "markdown",
   "metadata": {},
   "source": [
    "## Conceptos Clave\n",
    "\n",
    "- **Cuenta Root**: Al crear una cuenta de AWS, se crea una cuenta root por defecto. Esta cuenta tiene acceso completo a todos los recursos y servicios de AWS y **no debe ser compartida**. 🔑\n",
    "- **Usuarios**: Son entidades que creas en AWS para representar personas o servicios que interactúan con los recursos de AWS. Cada usuario tiene un conjunto único de credenciales. 👤\n",
    "- **Grupos**: Son colecciones de usuarios. No pueden contener otros grupos, solo usuarios. Los usuarios pueden pertenecer a uno o más grupos. 👥\n",
    "- **Roles**: Son similares a los usuarios, pero están destinados a ser asumidos por cualquier entidad que necesite acceso temporal a recursos específicos. 🎭\n",
    "- **Políticas**: Definen permisos y pueden ser adjuntadas a usuarios, grupos o roles. 📜\n"
   ]
  },
  {
   "cell_type": "markdown",
   "metadata": {},
   "source": [
    "### 🚀 Ejemplo: Asignar nuevo usuario a grupo con acceso a S3 🛠️\n",
    "\n",
    "En este ejercicio, vamos a crear un **usuario** y un **grupo** en AWS. El grupo tendrá permisos exclusivamente para **enlistar** y **crear buckets** en S3. 📝🔒\n",
    "\n",
    "Pasos a seguir:\n",
    "\n",
    "1. **Crear un usuario en IAM** 👤\n",
    "2. **Crear un grupo en IAM** 👥\n",
    "3. **Asignar permisos al grupo** 🛡️\n",
    "4. **Añadir el usuario al grupo** 🔗\n"
   ]
  },
  {
   "cell_type": "code",
   "execution_count": 6,
   "metadata": {},
   "outputs": [
    {
     "name": "stdout",
     "output_type": "stream",
     "text": [
      "Título: IAM (Identity and Access Management)\n",
      "📁 Ruta del archivo PDF: 'assets/iam.pdf'\n",
      "📑🖥️ Mostrando el archivo PDF...\n"
     ]
    },
    {
     "data": {
      "text/html": [
       "\n",
       "        <iframe\n",
       "            width=\"1000\"\n",
       "            height=\"500\"\n",
       "            src=\"assets/iam.pdf\"\n",
       "            frameborder=\"0\"\n",
       "            allowfullscreen\n",
       "            \n",
       "        ></iframe>\n",
       "        "
      ],
      "text/plain": [
       "<IPython.lib.display.IFrame at 0x7f9b4c0eb8c0>"
      ]
     },
     "execution_count": 6,
     "metadata": {},
     "output_type": "execute_result"
    }
   ],
   "source": [
    "# Importamos la función IFrame del módulo IPython.display\n",
    "from IPython.display import IFrame\n",
    "\n",
    "# Definimos la ruta del archivo PDF\n",
    "pdf_path = 'assets/iam.pdf'\n",
    "\n",
    "# 📝🖇️ Información sobre el PDF\n",
    "print(\"Título: IAM (Identity and Access Management)\")\n",
    "print(\"📁 Ruta del archivo PDF: 'assets/iam.pdf'\")\n",
    "print(\"📑🖥️ Mostrando el archivo PDF...\")\n",
    "\n",
    "# Usamos IFrame para mostrar el PDF\n",
    "IFrame(pdf_path, width=1000, height=500)\n",
    "\n"
   ]
  },
  {
   "cell_type": "markdown",
   "metadata": {},
   "source": [
    "### 🚀 Ejemplo: Crear un Rol de Administrador y Asumirlo por el Usuario 🛠️\n",
    "\n",
    "En este ejercicio, crearemos un **rol** de tipo Administrador, que tendrá permisos para **crear** y **leer** cualquier recurso en la cuenta de AWS. Además, otorgaremos al **usuario** los permisos necesarios para asumir este rol y ejecutar dichas acciones. 👤🔄👑\n",
    "\n",
    "Pasos a seguir:\n",
    "\n",
    "1. **Crear un rol de Administrador en IAM** 👑\n",
    "2. **Definir la política de asunción del rol** 📜\n",
    "3. **Asignar permisos al rol** 🛡️\n",
    "4. **Otorgar al usuario permisos para asumir el rol** 🔗\n",
    "5. **Asumir el rol como usuario** 🔄"
   ]
  },
  {
   "cell_type": "code",
   "execution_count": 7,
   "metadata": {},
   "outputs": [
    {
     "name": "stdout",
     "output_type": "stream",
     "text": [
      "Título: Creación de Rol de Administrador y Asumirlo\n",
      "📁 Ruta del archivo PDF: 'assets/roleassume.pdf'\n",
      "📑🖥️ Mostrando el archivo PDF...\n"
     ]
    },
    {
     "data": {
      "text/html": [
       "\n",
       "        <iframe\n",
       "            width=\"1000\"\n",
       "            height=\"500\"\n",
       "            src=\"assets/roleassume.pdf\"\n",
       "            frameborder=\"0\"\n",
       "            allowfullscreen\n",
       "            \n",
       "        ></iframe>\n",
       "        "
      ],
      "text/plain": [
       "<IPython.lib.display.IFrame at 0x7f9b4c0eb740>"
      ]
     },
     "execution_count": 7,
     "metadata": {},
     "output_type": "execute_result"
    }
   ],
   "source": [
    "# Importamos la función IFrame del módulo IPython.display\n",
    "from IPython.display import IFrame\n",
    "\n",
    "# Definimos la ruta del archivo PDF\n",
    "pdf_path = 'assets/roleassume.pdf'\n",
    "\n",
    "# 📝🖇️ Información sobre el PDF\n",
    "print(\"Título: Creación de Rol de Administrador y Asumirlo\")\n",
    "print(\"📁 Ruta del archivo PDF: 'assets/roleassume.pdf'\")\n",
    "print(\"📑🖥️ Mostrando el archivo PDF...\")\n",
    "\n",
    "# Usamos IFrame para mostrar el PDF\n",
    "IFrame(pdf_path, width=1000, height=500)"
   ]
  },
  {
   "cell_type": "markdown",
   "metadata": {},
   "source": [
    "### 📚 Documentación  📄🔍"
   ]
  },
  {
   "cell_type": "markdown",
   "metadata": {},
   "source": [
    "Consultar esta información para más detalles:\n",
    "\n",
    "- [📝 Crear usuarios en IAM](https://docs.aws.amazon.com/es_es/IAM/latest/UserGuide/id_users_create.html)\n",
    "- [👥 Crear grupos en IAM](https://docs.aws.amazon.com/es_es/IAM/latest/UserGuide/id_groups_create.html)\n",
    "- [🔧 Crear roles para servicios en IAM](https://docs.aws.amazon.com/es_es/IAM/latest/UserGuide/id_roles_create_for-service.html)\n",
    "- [🏷️ Crear roles en IAM](https://docs.aws.amazon.com/es_es/IAM/latest/UserGuide/id_roles_create.html)\n",
    "- [🎭 Roles de IAM](https://docs.aws.amazon.com/es_es/IAM/latest/UserGuide/id_roles.html)\n",
    "- [🔄 Asumir roles de AWS](https://docs.aws.amazon.com/es_es/IAM/latest/UserGuide/id_roles_use.html)"
   ]
  },
  {
   "cell_type": "markdown",
   "metadata": {},
   "source": [
    "# Setup Inicial para ejecutar proyecto 🚀"
   ]
  },
  {
   "cell_type": "markdown",
   "metadata": {},
   "source": [
    "### Importar bibliotecas 🚀"
   ]
  },
  {
   "cell_type": "code",
   "execution_count": 8,
   "metadata": {},
   "outputs": [],
   "source": [
    "import boto3\n",
    "from botocore.exceptions import ClientError\n",
    "import json\n",
    "import time\n",
    "import requests"
   ]
  },
  {
   "cell_type": "markdown",
   "metadata": {},
   "source": [
    "### Configurar el cliente de AWS (asegúrate de tener tus credenciales configuradas) 🚀"
   ]
  },
  {
   "cell_type": "code",
   "execution_count": 9,
   "metadata": {},
   "outputs": [],
   "source": [
    "iam = boto3.client('iam')\n",
    "ec2 = boto3.client('ec2')\n",
    "lambda_client = boto3.client('lambda')\n",
    "ecs = boto3.client('ecs')"
   ]
  },
  {
   "cell_type": "markdown",
   "metadata": {},
   "source": [
    "# AWS Networking: VPC, Subnets, NAT, Internet Gateway, Route Tables, ACL 🌐\n",
    "\n",
    "AWS Networking se centra en la configuración y gestión de redes dentro de AWS utilizando varios componentes clave:\n",
    "\n",
    "- **VPC (Virtual Private Cloud):** Una red virtual aislada dentro de AWS donde se despliegan recursos. 🏠\n",
    "- **Subnets:** Segmentos de una VPC que permiten organizar y asegurar los recursos de manera granular. 📊\n",
    "- **NAT (Network Address Translation):** Permite que instancias en subnets privadas accedan a Internet sin exponer sus direcciones IP privadas. 🔄\n",
    "- **Internet Gateway:** Un componente que permite la comunicación entre instancias en una VPC y la Internet. 🌍\n",
    "- **Route Tables:** Definen las reglas de enrutamiento para controlar el tráfico dentro de la VPC y hacia fuera. 🛣️\n",
    "- **ACL (Access Control Lists):** Listas de control de acceso que proporcionan una capa de seguridad adicional a nivel de subred, permitiendo o denegando tráfico. 🔒\n",
    "\n",
    "Estos componentes juntos permiten diseñar y gestionar redes seguras y eficientes en la nube de AWS.\n"
   ]
  },
  {
   "cell_type": "markdown",
   "metadata": {},
   "source": [
    "## Creación y Configuración de una VPC 🏗️"
   ]
  },
  {
   "cell_type": "markdown",
   "metadata": {},
   "source": [
    "Una Virtual Private Cloud (VPC) es una red virtual en la nube de AWS, aislada lógicamente de otras redes virtuales. A continuación, se detalla cómo crear y configurar una VPC usando Boto3, la biblioteca de AWS para Python."
   ]
  },
  {
   "cell_type": "code",
   "execution_count": 10,
   "metadata": {},
   "outputs": [
    {
     "name": "stdout",
     "output_type": "stream",
     "text": [
      "🚀 Iniciando la creación de la VPC...\n",
      "✅ VPC creada con ID: vpc-0524e23d560960cf8\n",
      "🔧 Habilitando soporte de DNS para la VPC...\n",
      "🌐 Soporte de DNS habilitado.\n",
      "🔧 Habilitando nombres de host DNS para la VPC...\n",
      "🏷️ Nombres de host DNS habilitados.\n",
      "🛠️ Creando etiqueta para la VPC...\n",
      "🏷️ Etiqueta 'DemoVPC' creada para la VPC.\n",
      "🎉 Proceso de creación y configuración de la VPC completado.\n"
     ]
    }
   ],
   "source": [
    "print(\"🚀 Iniciando la creación de la VPC...\")\n",
    "\n",
    "# Crear una VPC\n",
    "response = ec2.create_vpc(\n",
    "    CidrBlock='10.0.0.0/16'\n",
    ")\n",
    "\n",
    "vpc_id = response['Vpc']['VpcId']\n",
    "print(f'✅ VPC creada con ID: {vpc_id}')\n",
    "\n",
    "print(\"🔧 Habilitando soporte de DNS para la VPC...\")\n",
    "\n",
    "# Habilitar soporte de DNS\n",
    "ec2.modify_vpc_attribute(\n",
    "    VpcId=vpc_id,\n",
    "    EnableDnsSupport={'Value': True}\n",
    ")\n",
    "print(\"🌐 Soporte de DNS habilitado.\")\n",
    "\n",
    "print(\"🔧 Habilitando nombres de host DNS para la VPC...\")\n",
    "\n",
    "# Habilitar nombres de host DNS\n",
    "ec2.modify_vpc_attribute(\n",
    "    VpcId=vpc_id,\n",
    "    EnableDnsHostnames={'Value': True}\n",
    ")\n",
    "print(\"🏷️ Nombres de host DNS habilitados.\")\n",
    "\n",
    "print(\"🛠️ Creando etiqueta para la VPC...\")\n",
    "\n",
    "# Crear una etiqueta para la VPC\n",
    "ec2.create_tags(\n",
    "    Resources=[vpc_id],\n",
    "    Tags=[{'Key': 'Name', 'Value': 'DemoVPC'}]\n",
    ")\n",
    "print(\"🏷️ Etiqueta 'DemoVPC' creada para la VPC.\")\n",
    "\n",
    "print(\"🎉 Proceso de creación y configuración de la VPC completado.\")\n"
   ]
  },
  {
   "cell_type": "markdown",
   "metadata": {},
   "source": [
    "## Creación y Configuración de Subnets 🌐🔧\n",
    "Una VPC se divide en subnets para organizar y gestionar los recursos de red de manera eficiente. A continuación, crearemos una subnet pública con acceso a Internet y una subnet privada sin acceso directo a Internet. También configuraremos las tablas de rutas y un Internet Gateway para habilitar la comunicación adecuada. 🚀\n"
   ]
  },
  {
   "cell_type": "code",
   "execution_count": 11,
   "metadata": {},
   "outputs": [
    {
     "name": "stdout",
     "output_type": "stream",
     "text": [
      "🟢 Subnet pública creada con ID: subnet-00b73f022f7583e6c\n",
      "🔵 Subnet privada creada con ID: subnet-0ba31041411b84a1f\n",
      "🌐 Internet Gateway creado con ID: igw-09080f3b32d4a0af1\n",
      "🗺️ Tabla de rutas predeterminada con ID: rtb-0baf3f42b379caa45\n",
      "🔒 Tabla de rutas privada creada con ID: rtb-0b46030e8365b1ea9\n",
      "✅ Configuración de VPC completa. La subnet pública tiene acceso a Internet y la subnet privada tiene su propia tabla de rutas.\n"
     ]
    }
   ],
   "source": [
    "# 🌐 Crear la subnet pública\n",
    "response_public_subnet = ec2.create_subnet(\n",
    "    VpcId=vpc_id,\n",
    "    CidrBlock='10.0.1.0/24',\n",
    "    AvailabilityZone='us-east-1a'\n",
    ")\n",
    "public_subnet_id = response_public_subnet['Subnet']['SubnetId']\n",
    "print(f'🟢 Subnet pública creada con ID: {public_subnet_id}')\n",
    "\n",
    "# 🏷️ Crear una etiqueta para la subnet pública\n",
    "ec2.create_tags(\n",
    "    Resources=[public_subnet_id],\n",
    "    Tags=[{'Key': 'Name', 'Value': 'PublicSubnet'}]\n",
    ")\n",
    "\n",
    "# 🔒 Crear la subnet privada\n",
    "response_private_subnet = ec2.create_subnet(\n",
    "    VpcId=vpc_id,\n",
    "    CidrBlock='10.0.2.0/24',\n",
    "    AvailabilityZone='us-east-1a'\n",
    ")\n",
    "private_subnet_id = response_private_subnet['Subnet']['SubnetId']\n",
    "print(f'🔵 Subnet privada creada con ID: {private_subnet_id}')\n",
    "\n",
    "# 🏷️ Crear una etiqueta para la subnet privada\n",
    "ec2.create_tags(\n",
    "    Resources=[private_subnet_id],\n",
    "    Tags=[{'Key': 'Name', 'Value': 'PrivateSubnet'}]\n",
    ")\n",
    "\n",
    "# 🌍 Crear un Internet Gateway\n",
    "response_igw = ec2.create_internet_gateway()\n",
    "igw_id = response_igw['InternetGateway']['InternetGatewayId']\n",
    "print(f'🌐 Internet Gateway creado con ID: {igw_id}')\n",
    "\n",
    "# 🔗 Adjuntar el Internet Gateway a la VPC\n",
    "ec2.attach_internet_gateway(\n",
    "    InternetGatewayId=igw_id,\n",
    "    VpcId=vpc_id\n",
    ")\n",
    "\n",
    "# 🏷️ Crear una etiqueta para el Internet Gateway\n",
    "ec2.create_tags(\n",
    "    Resources=[igw_id],\n",
    "    Tags=[{'Key': 'Name', 'Value': 'DemoIGW'}]\n",
    ")\n",
    "\n",
    "# 🗺️ Obtener la tabla de rutas predeterminada\n",
    "response_route_tables = ec2.describe_route_tables(\n",
    "    Filters=[\n",
    "        {\n",
    "            'Name': 'vpc-id',\n",
    "            'Values': [vpc_id]\n",
    "        }\n",
    "    ]\n",
    ")\n",
    "route_table_id = response_route_tables['RouteTables'][0]['RouteTableId']\n",
    "print(f'🗺️ Tabla de rutas predeterminada con ID: {route_table_id}')\n",
    "\n",
    "# 🛣️ Crear una ruta en la tabla de rutas predeterminada que apunte al Internet Gateway\n",
    "ec2.create_route(\n",
    "    RouteTableId=route_table_id,\n",
    "    DestinationCidrBlock='0.0.0.0/0',\n",
    "    GatewayId=igw_id\n",
    ")\n",
    "\n",
    "# 🔗 Asociar la tabla de rutas predeterminada con la subnet pública\n",
    "ec2.associate_route_table(\n",
    "    RouteTableId=route_table_id,\n",
    "    SubnetId=public_subnet_id\n",
    ")\n",
    "\n",
    "# 🗺️ Crear una nueva tabla de rutas para la subnet privada\n",
    "response_private_route_table = ec2.create_route_table(\n",
    "    VpcId=vpc_id\n",
    ")\n",
    "private_route_table_id = response_private_route_table['RouteTable']['RouteTableId']\n",
    "print(f'🔒 Tabla de rutas privada creada con ID: {private_route_table_id}')\n",
    "\n",
    "# 🏷️ Crear una etiqueta para la tabla de rutas privada\n",
    "ec2.create_tags(\n",
    "    Resources=[private_route_table_id],\n",
    "    Tags=[{'Key': 'Name', 'Value': 'PrivateRouteTable'}]\n",
    ")\n",
    "\n",
    "# 🔗 Asociar la nueva tabla de rutas con la subnet privada\n",
    "ec2.associate_route_table(\n",
    "    RouteTableId=private_route_table_id,\n",
    "    SubnetId=private_subnet_id\n",
    ")\n",
    "\n",
    "print('✅ Configuración de VPC completa. La subnet pública tiene acceso a Internet y la subnet privada tiene su propia tabla de rutas.')"
   ]
  },
  {
   "cell_type": "markdown",
   "metadata": {},
   "source": [
    "# Máquinas Virtuales (EC2 en AWS) 💻"
   ]
  },
  {
   "cell_type": "markdown",
   "metadata": {},
   "source": [
    "Las máquinas virtuales son emulaciones de sistemas informáticos completos. En AWS, se implementan como instancias EC2 (Elastic Compute Cloud).\n",
    "\n",
    "Características:\n",
    "- Emula hardware completo 🖥️\n",
    "- Control total sobre el sistema operativo ⚙️\n",
    "- Requiere gestión y mantenimiento del sistema operativo 🛠️\n",
    "- Escalado manual o automatizado, pero no instantáneo 📈\n",
    "- Facturación por hora/segundo de ejecución ⏲️"
   ]
  },
  {
   "cell_type": "markdown",
   "metadata": {},
   "source": [
    "## Creación Instancia EC2 AWS Pública 🚀"
   ]
  },
  {
   "cell_type": "markdown",
   "metadata": {},
   "source": [
    "En esta sección, se explica cómo:\n",
    "\n",
    "Lanzar una instancia EC2 en AWS 🖥️\n",
    "Configurar su grupo de seguridad para permitir conexiones SSH usando EC2 Instance Connect 🔒\n",
    "Ejecutar un script de instalación de Docker en el momento del lanzamiento de la instancia 🐋\n"
   ]
  },
  {
   "cell_type": "markdown",
   "metadata": {},
   "source": [
    "### Creación y Configuración de un Grupo de Seguridad para EC2 Instance Connect 🚀"
   ]
  },
  {
   "cell_type": "markdown",
   "metadata": {},
   "source": [
    "### Variables necesarias"
   ]
  },
  {
   "cell_type": "code",
   "execution_count": 12,
   "metadata": {},
   "outputs": [],
   "source": [
    "security_group_name = 'SSMAccessSecurityGroup'\n",
    "iam_role_name = 'EC2SSMRole'\n",
    "instance_profile_name = 'EC2SSMInstanceProfile'"
   ]
  },
  {
   "cell_type": "markdown",
   "metadata": {},
   "source": [
    "#### 1. Crear Rol IAM y Perfil de Instancia\n",
    "Descripción: Esta función crea un rol IAM y un perfil de instancia necesarios para que la instancia EC2 pueda utilizar Systems Manager Session Manager."
   ]
  },
  {
   "cell_type": "code",
   "execution_count": 13,
   "metadata": {},
   "outputs": [],
   "source": [
    "def create_iam_role_and_instance_profile():\n",
    "    iam = boto3.client('iam')\n",
    "    \n",
    "    try:\n",
    "        # Crear el rol IAM\n",
    "        print(\"Creando rol IAM... 👤\")\n",
    "        trust_relationship = {\n",
    "            \"Version\": \"2012-10-17\",\n",
    "            \"Statement\": [\n",
    "                {\n",
    "                    \"Effect\": \"Allow\",\n",
    "                    \"Principal\": {\"Service\": \"ec2.amazonaws.com\"},\n",
    "                    \"Action\": \"sts:AssumeRole\"\n",
    "                }\n",
    "            ]\n",
    "        }\n",
    "        \n",
    "        iam.create_role(\n",
    "            RoleName=iam_role_name,\n",
    "            AssumeRolePolicyDocument=json.dumps(trust_relationship)\n",
    "        )\n",
    "        print(f\"Rol IAM '{iam_role_name}' creado. ✅\")\n",
    "\n",
    "        # Adjuntar la política AmazonSSMManagedInstanceCore\n",
    "        print(\"Adjuntando política AmazonSSMManagedInstanceCore... 📄\")\n",
    "        iam.attach_role_policy(\n",
    "            RoleName=iam_role_name,\n",
    "            PolicyArn='arn:aws:iam::aws:policy/AmazonSSMManagedInstanceCore'\n",
    "        )\n",
    "        print(\"Política adjuntada. 🔒\")\n",
    "\n",
    "        # Crear el perfil de instancia\n",
    "        print(\"Creando perfil de instancia... 📂\")\n",
    "        iam.create_instance_profile(InstanceProfileName=instance_profile_name)\n",
    "        print(f\"Perfil de instancia '{instance_profile_name}' creado. ✅\")\n",
    "\n",
    "        # Añadir el rol al perfil de instancia\n",
    "        print(\"Añadiendo rol al perfil de instancia... 🔗\")\n",
    "        iam.add_role_to_instance_profile(\n",
    "            InstanceProfileName=instance_profile_name,\n",
    "            RoleName=iam_role_name\n",
    "        )\n",
    "        print(f\"Rol '{iam_role_name}' añadido al perfil de instancia. 🔗\")\n",
    "\n",
    "        # Esperar a que el perfil de instancia esté disponible\n",
    "        print(\"Esperando a que el perfil de instancia esté disponible... ⏳\")\n",
    "        time.sleep(10)\n",
    "\n",
    "    except ClientError as e:\n",
    "        if e.response['Error']['Code'] == 'EntityAlreadyExists':\n",
    "            print(\"El rol IAM o el perfil de instancia ya existen.\")\n",
    "            \n",
    "            # Verificar si el rol está asociado al perfil de instancia\n",
    "            try:\n",
    "                response = iam.get_instance_profile(InstanceProfileName=instance_profile_name)\n",
    "                if not response['InstanceProfile']['Roles']:\n",
    "                    print(\"El perfil de instancia existe pero no tiene un rol asociado. Asociando rol...\")\n",
    "                    iam.add_role_to_instance_profile(\n",
    "                        InstanceProfileName=instance_profile_name,\n",
    "                        RoleName=iam_role_name\n",
    "                    )\n",
    "                    print(f\"Rol '{iam_role_name}' añadido al perfil de instancia existente. 🔗\")\n",
    "                else:\n",
    "                    print(\"El perfil de instancia ya tiene un rol asociado. ✅\")\n",
    "            except ClientError as inner_e:\n",
    "                print(f\"Error al verificar o actualizar el perfil de instancia: {inner_e} ❌\")\n",
    "                return False\n",
    "        else:\n",
    "            print(f\"Error al crear el rol IAM o el perfil de instancia: {e} ❌\")\n",
    "            return False\n",
    "\n",
    "    # Verificación final\n",
    "    try:\n",
    "        response = iam.get_instance_profile(InstanceProfileName=instance_profile_name)\n",
    "        if response['InstanceProfile']['Roles']:\n",
    "            print(f\"Verificación final: El perfil de instancia '{instance_profile_name}' tiene el rol '{iam_role_name}' asociado. ✅\")\n",
    "        else:\n",
    "            print(f\"Advertencia: El perfil de instancia '{instance_profile_name}' no tiene roles asociados. ⚠️\")\n",
    "    except ClientError as e:\n",
    "        print(f\"Error al verificar el perfil de instancia: {e} ❌\")\n",
    "\n",
    "    return True"
   ]
  },
  {
   "cell_type": "markdown",
   "metadata": {},
   "source": [
    "#### 2. Crear Grupo de Seguridad\n",
    "Descripción: Esta función crea un grupo de seguridad que permite todo el tráfico de salida pero no permite tráfico de entrada, lo cual es suficiente para Session Manager."
   ]
  },
  {
   "cell_type": "code",
   "execution_count": 14,
   "metadata": {},
   "outputs": [],
   "source": [
    "def get_or_create_security_group():\n",
    "    ec2 = boto3.client('ec2')\n",
    "    try:\n",
    "        print(\"Checking for existing security group... 🔍\")\n",
    "        response = ec2.describe_security_groups(\n",
    "            Filters=[\n",
    "                {'Name': 'group-name', 'Values': [security_group_name]},\n",
    "                {'Name': 'vpc-id', 'Values': [vpc_id]}\n",
    "            ]\n",
    "        )\n",
    "        \n",
    "        if response['SecurityGroups']:\n",
    "            security_group_id = response['SecurityGroups'][0]['GroupId']\n",
    "            print(f\"Existing security group found with ID: {security_group_id} 🔒\")\n",
    "            return security_group_id\n",
    "        \n",
    "        print(\"Creating new security group... 🛡️\")\n",
    "        security_group = ec2.create_security_group(\n",
    "            GroupName=security_group_name,\n",
    "            Description='Security group for Ubuntu with Session Manager access',\n",
    "            VpcId=vpc_id\n",
    "        )\n",
    "        \n",
    "        security_group_id = security_group['GroupId']\n",
    "\n",
    "        try:\n",
    "            print(\"Authorizing egress rules for the security group... 🔓\")\n",
    "            ec2.authorize_security_group_egress(\n",
    "                GroupId=security_group_id,\n",
    "                IpPermissions=[\n",
    "                    {\n",
    "                        'IpProtocol': '-1',\n",
    "                        'FromPort': -1,\n",
    "                        'ToPort': -1,\n",
    "                        'IpRanges': [{'CidrIp': '0.0.0.0/0'}]\n",
    "                    }\n",
    "                ]\n",
    "            )\n",
    "        except ClientError as e:\n",
    "            if e.response['Error']['Code'] != 'InvalidPermission.Duplicate':\n",
    "                raise\n",
    "            print(\"Egress rule already exists, continuing... ✅\")\n",
    "\n",
    "        print(f\"New security group created with ID: {security_group_id} 🆕\")\n",
    "        return security_group_id\n",
    "    except ClientError as e:\n",
    "        print(f\"Error handling security group: {e} ❌\")\n",
    "        return None"
   ]
  },
  {
   "cell_type": "markdown",
   "metadata": {},
   "source": [
    "#### 3. Crear Instancia EC2\n",
    "Descripción: Esta función crea una instancia EC2 con el rol IAM, perfil de instancia y grupo de seguridad creados anteriormente. También instala Docker en la instancia"
   ]
  },
  {
   "cell_type": "code",
   "execution_count": 15,
   "metadata": {},
   "outputs": [],
   "source": [
    "# Read the contents of docker_install.sh\n",
    "with open('scripts/docker_install.sh', 'r') as file:\n",
    "    docker_install_script = file.read()\n",
    "    \n",
    "def create_ubuntu_instance(security_group_id):\n",
    "    ec2 = boto3.resource('ec2')\n",
    "    \n",
    "    try:\n",
    "        print(\"Creando instancia Ubuntu... 🖥️\")\n",
    "        instances = ec2.create_instances(\n",
    "            ImageId='ami-04a81a99f5ec58529',  # Ubuntu en us-east-1\n",
    "            InstanceType='t2.micro',\n",
    "            MinCount=1,\n",
    "            MaxCount=1,\n",
    "            NetworkInterfaces=[{\n",
    "                'SubnetId': public_subnet_id,\n",
    "                'DeviceIndex': 0,\n",
    "                'AssociatePublicIpAddress': True,\n",
    "                'Groups': [security_group_id]\n",
    "            }],\n",
    "            IamInstanceProfile={'Name': instance_profile_name},\n",
    "            UserData=f'''#!/bin/bash\n",
    "                apt-get update\n",
    "                apt-get install -y snapd\n",
    "                snap install amazon-ssm-agent --classic\n",
    "                systemctl enable snap.amazon-ssm-agent.amazon-ssm-agent.service\n",
    "                systemctl start snap.amazon-ssm-agent.amazon-ssm-agent.service\n",
    "                # Docker installation script\n",
    "                {docker_install_script}\n",
    "            ''',\n",
    "            TagSpecifications=[\n",
    "                {\n",
    "                    'ResourceType': 'instance',\n",
    "                    'Tags': [\n",
    "                        {\n",
    "                            'Key': 'Name',\n",
    "                            'Value': 'WebApp'\n",
    "                        },\n",
    "                    ]\n",
    "                },\n",
    "            ]\n",
    "        )\n",
    "        \n",
    "        instance = instances[0]\n",
    "        print(\"Esperando a que la instancia se inicie... ⏳\")\n",
    "        instance.wait_until_running()\n",
    "        instance.reload()\n",
    "        \n",
    "        print(f\"Instancia Ubuntu creada con ID: {instance.id} 🎉\")\n",
    "        print(f\"IP privada: {instance.private_ip_address} 📍\")\n",
    "        print(f\"IP pública: {instance.public_ip_address} 🌐\")\n",
    "        return instance\n",
    "    except ClientError as e:\n",
    "        print(f\"Error al crear la instancia: {e} ❌\")\n",
    "        return None\n"
   ]
  },
  {
   "cell_type": "markdown",
   "metadata": {},
   "source": [
    "#### 4. Función Principal\n",
    "Descripción: Esta función orquesta todo el proceso de creación y muestra un resumen al final."
   ]
  },
  {
   "cell_type": "code",
   "execution_count": 16,
   "metadata": {},
   "outputs": [
    {
     "name": "stdout",
     "output_type": "stream",
     "text": [
      "Creando rol IAM... 👤\n",
      "Rol IAM 'EC2SSMRole' creado. ✅\n",
      "Adjuntando política AmazonSSMManagedInstanceCore... 📄\n",
      "Política adjuntada. 🔒\n",
      "Creando perfil de instancia... 📂\n",
      "El rol IAM o el perfil de instancia ya existen.\n",
      "El perfil de instancia existe pero no tiene un rol asociado. Asociando rol...\n",
      "Rol 'EC2SSMRole' añadido al perfil de instancia existente. 🔗\n",
      "Verificación final: El perfil de instancia 'EC2SSMInstanceProfile' tiene el rol 'EC2SSMRole' asociado. ✅\n",
      "Checking for existing security group... 🔍\n",
      "Creating new security group... 🛡️\n",
      "Authorizing egress rules for the security group... 🔓\n",
      "Egress rule already exists, continuing... ✅\n",
      "New security group created with ID: sg-02aa9742fdfac5332 🆕\n",
      "Creando instancia Ubuntu... 🖥️\n",
      "Esperando a que la instancia se inicie... ⏳\n",
      "Instancia Ubuntu creada con ID: i-08abba30d5494b6fc 🎉\n",
      "IP privada: 10.0.1.210 📍\n",
      "IP pública: 54.162.79.243 🌐\n",
      "\n",
      "🎉 ¡Configuración completada!\n",
      "📝 Resumen:\n",
      "   - Instancia EC2 ID: ec2.Instance(id='i-08abba30d5494b6fc')\n",
      "   - Grupo de Seguridad ID: sg-02aa9742fdfac5332\n",
      "   - Rol IAM: EC2SSMRole\n",
      "   - Perfil de Instancia: EC2SSMInstanceProfile\n",
      "\n",
      "🔐 La instancia está configurada para acceso mediante Session Manager.\n",
      "🐳 Docker se instalará durante el proceso de inicialización.\n",
      "📌 Usa la consola de AWS o el AWS CLI para conectarte a la instancia a través de Session Manager.\n",
      "\n"
     ]
    }
   ],
   "source": [
    "def main():\n",
    "    create_iam_role_and_instance_profile()\n",
    "    security_group_id = get_or_create_security_group()\n",
    "    instance_id = create_ubuntu_instance(security_group_id)\n",
    "    \n",
    "    print(f\"\"\"\n",
    "🎉 ¡Configuración completada!\n",
    "📝 Resumen:\n",
    "   - Instancia EC2 ID: {instance_id}\n",
    "   - Grupo de Seguridad ID: {security_group_id}\n",
    "   - Rol IAM: {iam_role_name}\n",
    "   - Perfil de Instancia: {instance_profile_name}\n",
    "\n",
    "🔐 La instancia está configurada para acceso mediante Session Manager.\n",
    "🐳 Docker se instalará durante el proceso de inicialización.\n",
    "📌 Usa la consola de AWS o el AWS CLI para conectarte a la instancia a través de Session Manager.\n",
    "\"\"\")\n",
    "\n",
    "# Ejecutar el script\n",
    "main()"
   ]
  },
  {
   "cell_type": "markdown",
   "metadata": {},
   "source": [
    "### Lanzamiento de la Instancia EC2 para la Base de Datos 🗄️🚀\n",
    "En esta sección, crearemos y configuraremos una instancia EC2 que alojará nuestra base de datos. Esta instancia se lanzará en la subnet privada para mayor seguridad.\n",
    "\n",
    "- 🌐 Vamos a crear una NAT Gateway para que la instancia pueda conectarse a Internet.\n",
    "- 🔒 La única manera en que se pueda acceder a ella será mediante el Security Group de la instancia web.\n",
    "- 🐋 Además, tendrá Docker instalado.\n",
    "- 🐘 También tendrá PostgreSQL instalado."
   ]
  },
  {
   "cell_type": "markdown",
   "metadata": {},
   "source": [
    "#### 1. Creación de la NAT Gateway"
   ]
  },
  {
   "cell_type": "code",
   "execution_count": 20,
   "metadata": {},
   "outputs": [
    {
     "name": "stdout",
     "output_type": "stream",
     "text": [
      "Starting NAT Gateway creation and route configuration... 🚀\n",
      "Creating Elastic IP... 🌐\n",
      "Elastic IP created with Allocation ID: eipalloc-05013f6525ea0da03 📍\n",
      "Creating NAT Gateway in the public subnet... 🚀\n",
      "NAT Gateway created with ID: nat-038535b4517440eab 🛠️\n",
      "Waiting for NAT Gateway to become available... ⏳\n",
      "NAT Gateway is now available! 🎉\n",
      "Updating the route table... 🛣️\n",
      "Route added to route table rtb-0b46030e8365b1ea9 📋\n",
      "Checking if the route table is associated with the private subnet... 🔍\n",
      "Route table rtb-0b46030e8365b1ea9 is already associated with private subnet subnet-0ba31041411b84a1f ⚙️\n",
      "NAT Gateway created and routes configured successfully. 🎊\n"
     ]
    }
   ],
   "source": [
    "def create_nat_gateway_and_update_route_table():\n",
    "    ec2 = boto3.client('ec2')\n",
    "    \n",
    "    try:\n",
    "        # Create an Elastic IP for the NAT Gateway\n",
    "        print(\"Creating Elastic IP... 🌐\")\n",
    "        eip_response = ec2.allocate_address(Domain='vpc')\n",
    "        allocation_id = eip_response['AllocationId']\n",
    "        print(f\"Elastic IP created with Allocation ID: {allocation_id} 📍\")\n",
    "\n",
    "        # Create NAT Gateway in the public subnet\n",
    "        print(\"Creating NAT Gateway in the public subnet... 🚀\")\n",
    "        nat_gateway_response = ec2.create_nat_gateway(\n",
    "            AllocationId=allocation_id,\n",
    "            SubnetId=public_subnet_id,\n",
    "        )\n",
    "        nat_gateway_id = nat_gateway_response['NatGateway']['NatGatewayId']\n",
    "        print(f\"NAT Gateway created with ID: {nat_gateway_id} 🛠️\")\n",
    "\n",
    "        # Wait for the NAT Gateway to become available\n",
    "        print(\"Waiting for NAT Gateway to become available... ⏳\")\n",
    "        waiter = ec2.get_waiter('nat_gateway_available')\n",
    "        waiter.wait(NatGatewayIds=[nat_gateway_id])\n",
    "        print(\"NAT Gateway is now available! 🎉\")\n",
    "\n",
    "        # Update the existing route table\n",
    "        print(\"Updating the route table... 🛣️\")\n",
    "        ec2.create_route(\n",
    "            RouteTableId=private_route_table_id,\n",
    "            DestinationCidrBlock='0.0.0.0/0',\n",
    "            NatGatewayId=nat_gateway_id\n",
    "        )\n",
    "        print(f\"Route added to route table {private_route_table_id} 📋\")\n",
    "\n",
    "        # Check if the route table is associated with the private subnet\n",
    "        print(\"Checking if the route table is associated with the private subnet... 🔍\")\n",
    "        associations = ec2.describe_route_tables(RouteTableIds=[private_route_table_id])['RouteTables'][0]['Associations']\n",
    "        is_associated = any(assoc['SubnetId'] == private_subnet_id for assoc in associations)\n",
    "        \n",
    "        if not is_associated:\n",
    "            print(\"Associating route table with the private subnet... 🔗\")\n",
    "            ec2.associate_route_table(\n",
    "                RouteTableId=private_route_table_id,\n",
    "                SubnetId=private_subnet_id\n",
    "            )\n",
    "            print(f\"Route table {private_route_table_id} associated with private subnet {private_subnet_id} ✅\")\n",
    "        else:\n",
    "            print(f\"Route table {private_route_table_id} is already associated with private subnet {private_subnet_id} ⚙️\")\n",
    "\n",
    "        return True\n",
    "    except ClientError as e:\n",
    "        print(f\"Error creating NAT Gateway or configuring routes: {e} ❌\")\n",
    "        return False\n",
    "\n",
    "\n",
    "print(\"Starting NAT Gateway creation and route configuration... 🚀\")\n",
    "if create_nat_gateway_and_update_route_table():\n",
    "    print(\"NAT Gateway created and routes configured successfully. 🎊\")\n",
    "else:\n",
    "    print(\"Failed to create NAT Gateway or configure routes. 😢\")"
   ]
  },
  {
   "cell_type": "code",
   "execution_count": 32,
   "metadata": {},
   "outputs": [],
   "source": [
    "SECURITY_GROUP_NAME = 'PrivateInstanceSSMSG'\n",
    "IAM_ROLE_NAME = 'SSMPrivateInstanceRole'\n",
    "IAM_INSTANCE_PROFILE_NAME = 'SSMPrivateInstanceProfile'"
   ]
  },
  {
   "cell_type": "markdown",
   "metadata": {},
   "source": [
    "#### 2. Creación de Security groups"
   ]
  },
  {
   "cell_type": "code",
   "execution_count": 33,
   "metadata": {},
   "outputs": [],
   "source": [
    "def get_or_create_security_group():\n",
    "    ec2 = boto3.client('ec2')\n",
    "    try:\n",
    "        # Attempt to get the existing security group\n",
    "        print(\"Checking for existing security group... 🔍\")\n",
    "        response = ec2.describe_security_groups(\n",
    "            Filters=[\n",
    "                {'Name': 'group-name', 'Values': [SECURITY_GROUP_NAME]},\n",
    "                {'Name': 'vpc-id', 'Values': [vpc_id]}\n",
    "            ]\n",
    "        )\n",
    "        if response['SecurityGroups']:\n",
    "            security_group_id = response['SecurityGroups'][0]['GroupId']\n",
    "            print(f\"Existing security group '{SECURITY_GROUP_NAME}' found with ID: {security_group_id} 🔒\")\n",
    "        else:\n",
    "            # If it doesn't exist, create a new one\n",
    "            print(\"Creating new security group... 🛡️\")\n",
    "            response = ec2.create_security_group(\n",
    "                GroupName=SECURITY_GROUP_NAME,\n",
    "                Description='Security group for private instance with Session Manager access and PostgreSQL',\n",
    "                VpcId=vpc_id\n",
    "            )\n",
    "            security_group_id = response['GroupId']\n",
    "            print(f\"New security group '{SECURITY_GROUP_NAME}' created with ID: {security_group_id} 🆕\")\n",
    "\n",
    "        # Add the egress rule\n",
    "        try:\n",
    "            print(\"Adding egress rule to the security group... 🔓\")\n",
    "            ec2.authorize_security_group_egress(\n",
    "                GroupId=security_group_id,\n",
    "                IpPermissions=[\n",
    "                    {\n",
    "                        'IpProtocol': '-1',\n",
    "                        'FromPort': -1,\n",
    "                        'ToPort': -1,\n",
    "                        'IpRanges': [{'CidrIp': '0.0.0.0/0'}]\n",
    "                    }\n",
    "                ]\n",
    "            )\n",
    "            print(\"Egress rule added to the security group. ✅\")\n",
    "        except ClientError as e:\n",
    "            if e.response['Error']['Code'] == 'InvalidPermission.Duplicate':\n",
    "                print(\"Egress rule already exists in the security group. ✅\")\n",
    "            else:\n",
    "                raise\n",
    "\n",
    "        # Add the PostgreSQL ingress rule (TODO: Ingress from Webapp security group)\n",
    "        try:\n",
    "            print(\"Adding PostgreSQL ingress rule to the security group... 🔓\")\n",
    "            ec2.authorize_security_group_ingress(\n",
    "                GroupId=security_group_id,\n",
    "                IpPermissions=[\n",
    "                    {\n",
    "                        'IpProtocol': 'tcp',\n",
    "                        'FromPort': 5432,\n",
    "                        'ToPort': 5432,\n",
    "                        'IpRanges': [{'CidrIp': '0.0.0.0/0'}]\n",
    "                    }\n",
    "                ]\n",
    "            )\n",
    "            print(\"PostgreSQL ingress rule added to the security group. ✅\")\n",
    "        except ClientError as e:\n",
    "            if e.response['Error']['Code'] == 'InvalidPermission.Duplicate':\n",
    "                print(\"PostgreSQL ingress rule already exists in the security group. ✅\")\n",
    "            else:\n",
    "                raise\n",
    "\n",
    "        return security_group_id\n",
    "    except ClientError as e:\n",
    "        print(f\"Error handling the security group: {e} ❌\")\n",
    "        return None"
   ]
  },
  {
   "cell_type": "markdown",
   "metadata": {},
   "source": [
    "#### 3. Creación de IAM Role e Instance Profile"
   ]
  },
  {
   "cell_type": "code",
   "execution_count": 34,
   "metadata": {},
   "outputs": [],
   "source": [
    "def create_iam_role_and_instance_profile():\n",
    "    iam = boto3.client('iam')\n",
    "    \n",
    "    try:\n",
    "        print(\"Creating IAM role... 👤\")\n",
    "        trust_relationship = {\n",
    "            \"Version\": \"2012-10-17\",\n",
    "            \"Statement\": [\n",
    "                {\n",
    "                    \"Effect\": \"Allow\",\n",
    "                    \"Principal\": {\"Service\": \"ec2.amazonaws.com\"},\n",
    "                    \"Action\": \"sts:AssumeRole\"\n",
    "                }\n",
    "            ]\n",
    "        }\n",
    "        \n",
    "        iam.create_role(\n",
    "            RoleName=IAM_ROLE_NAME,\n",
    "            AssumeRolePolicyDocument=json.dumps(trust_relationship)\n",
    "        )\n",
    "        print(f\"IAM role '{IAM_ROLE_NAME}' created. ✅\")\n",
    "\n",
    "        print(\"Attaching AmazonSSMManagedInstanceCore policy to the role... 📄\")\n",
    "        iam.attach_role_policy(\n",
    "            RoleName=IAM_ROLE_NAME,\n",
    "            PolicyArn='arn:aws:iam::aws:policy/AmazonSSMManagedInstanceCore'\n",
    "        )\n",
    "        print(\"Policy attached to the role. 🔒\")\n",
    "\n",
    "        print(\"Creating instance profile... 📂\")\n",
    "        iam.create_instance_profile(InstanceProfileName=IAM_INSTANCE_PROFILE_NAME)\n",
    "        print(f\"Instance profile '{IAM_INSTANCE_PROFILE_NAME}' created. ✅\")\n",
    "\n",
    "        print(\"Adding role to instance profile... 🔗\")\n",
    "        iam.add_role_to_instance_profile(\n",
    "            InstanceProfileName=IAM_INSTANCE_PROFILE_NAME,\n",
    "            RoleName=IAM_ROLE_NAME\n",
    "        )\n",
    "        print(f\"Role '{IAM_ROLE_NAME}' added to instance profile. 🔗\")\n",
    "\n",
    "        return True\n",
    "    except ClientError as e:\n",
    "        if e.response['Error']['Code'] == 'EntityAlreadyExists':\n",
    "            print(\"IAM role or instance profile already exists. Continuing... ✅\")\n",
    "            return True\n",
    "        else:\n",
    "            print(f\"Error creating IAM role or instance profile: {e} ❌\")\n",
    "            return False"
   ]
  },
  {
   "cell_type": "markdown",
   "metadata": {},
   "source": [
    "#### 4. Creacion de instancia privada con docker y postgres"
   ]
  },
  {
   "cell_type": "code",
   "execution_count": 35,
   "metadata": {},
   "outputs": [],
   "source": [
    "def create_private_instance(security_group_id):\n",
    "    ec2 = boto3.resource('ec2')\n",
    "    \n",
    "    try:\n",
    "        print(\"Creating private Ubuntu instance... 🖥️\")\n",
    "        instances = ec2.create_instances(\n",
    "            ImageId='ami-04a81a99f5ec58529',  # Ubuntu 22.04 LTS\n",
    "            InstanceType='t2.micro',\n",
    "            MinCount=1,\n",
    "            MaxCount=1,\n",
    "            NetworkInterfaces=[{\n",
    "                'SubnetId': private_subnet_id,\n",
    "                'DeviceIndex': 0,\n",
    "                'AssociatePublicIpAddress': False,\n",
    "                'Groups': [security_group_id]\n",
    "            }],\n",
    "            IamInstanceProfile={'Name': IAM_INSTANCE_PROFILE_NAME},\n",
    "            UserData=f'''#!/bin/bash\n",
    "                apt-get update\n",
    "                apt-get install -y snapd\n",
    "                snap install amazon-ssm-agent --classic\n",
    "                systemctl enable snap.amazon-ssm-agent.amazon-ssm-agent.service\n",
    "                systemctl start snap.amazon-ssm-agent.amazon-ssm-agent.service\n",
    "                # Docker installation script\n",
    "                {docker_install_script}\n",
    "                # Install PostgreSQL with Docker\n",
    "                docker run --name postgres-db -e POSTGRES_PASSWORD=mysecretpassword -d -p 5432:5432 postgres:13\n",
    "                # TODO: secret manager for manage pass and configuration\n",
    "            ''',\n",
    "            TagSpecifications=[\n",
    "                {\n",
    "                    'ResourceType': 'instance',\n",
    "                    'Tags': [\n",
    "                        {\n",
    "                            'Key': 'Name',\n",
    "                            'Value': 'DataBase'\n",
    "                        },\n",
    "                    ]\n",
    "                },\n",
    "            ]\n",
    "        )\n",
    "        \n",
    "        instance = instances[0]\n",
    "        print(\"Waiting for instance to start... ⏳\")\n",
    "        instance.wait_until_running()\n",
    "        instance.reload()\n",
    "        \n",
    "        print(f\"Private instance created with ID: {instance.id} 🎉\")\n",
    "        print(f\"Private IP: {instance.private_ip_address} 📍\")\n",
    "        return instance\n",
    "    except ClientError as e:\n",
    "        print(f\"Error creating the instance: {e} ❌\")\n",
    "        return None"
   ]
  },
  {
   "cell_type": "markdown",
   "metadata": {},
   "source": [
    "#### 5. Inicia proceso de creación"
   ]
  },
  {
   "cell_type": "code",
   "execution_count": 37,
   "metadata": {},
   "outputs": [
    {
     "name": "stdout",
     "output_type": "stream",
     "text": [
      "Starting IAM role, security group, and instance setup... 🚀\n",
      "Creating IAM role... 👤\n",
      "IAM role or instance profile already exists. Continuing... ✅\n",
      "Checking for existing security group... 🔍\n",
      "Existing security group 'PrivateInstanceSSMSG' found with ID: sg-06baebce0e551c6d9 🔒\n",
      "Adding egress rule to the security group... 🔓\n",
      "Egress rule already exists in the security group. ✅\n",
      "Adding PostgreSQL ingress rule to the security group... 🔓\n",
      "PostgreSQL ingress rule already exists in the security group. ✅\n",
      "Creating private Ubuntu instance... 🖥️\n",
      "Waiting for instance to start... ⏳\n",
      "Private instance created with ID: i-0f84044cf749eb40e 🎉\n",
      "Private IP: 10.0.2.45 📍\n",
      "Private instance created successfully for use with Session Manager. 🎊\n"
     ]
    }
   ],
   "source": [
    "print(\"Starting IAM role, security group, and instance setup... 🚀\")\n",
    "if create_iam_role_and_instance_profile():\n",
    "    security_group_id = get_or_create_security_group()\n",
    "    if security_group_id:\n",
    "        instance = create_private_instance(security_group_id)\n",
    "        if instance:\n",
    "            print(\"Private instance created successfully for use with Session Manager. 🎊\")\n",
    "        else:\n",
    "            print(\"Failed to create the private instance. 😢\")\n",
    "    else:\n",
    "        print(\"Failed to get or create the security group. 😢\")\n",
    "else:\n",
    "    print(\"Failed to create IAM role or instance profile. 😢\")"
   ]
  },
  {
   "cell_type": "markdown",
   "metadata": {},
   "source": [
    "# [WIP] Containers usando Docker y ECR 🐳🚀\n",
    "En esta sección, exploramos cómo usar contenedores Docker y Amazon Elastic Container Service (ECS) para desplegar y gestionar aplicaciones en AWS.\n",
    "\n",
    "**Docker:**\n",
    "- 🐳 **Docker:** Una plataforma para desarrollar, enviar y ejecutar aplicaciones dentro de contenedores ligeros y portátiles.\n",
    "- 📦 **Imágenes:** Archivos que contienen todo lo necesario para ejecutar una aplicación: código, runtime, bibliotecas y configuraciones.\n",
    "- 🚀 **Contenedores:** Instancias ejecutables de imágenes Docker que pueden iniciarse y detenerse rápidamente.\n",
    "\n",
    "**Amazon ECR:**\n",
    "- 📦 **ECR (Elastic Container Registry):** Un servicio de almacenamiento completamente gestionado para imágenes Docker, que facilita el almacenamiento, la gestión y el despliegue de imágenes de contenedores.\n",
    "- 🔒 **Seguridad:** Integración con IAM para controlar el acceso a los repositorios de imágenes.\n",
    "- 🔄 **Automatización:** Soporte para pipelines de CI/CD para automatizar el despliegue de imágenes.\n"
   ]
  },
  {
   "cell_type": "markdown",
   "metadata": {},
   "source": [
    "#### 1. Creación de repositorio ECR"
   ]
  },
  {
   "cell_type": "code",
   "execution_count": 38,
   "metadata": {},
   "outputs": [
    {
     "name": "stdout",
     "output_type": "stream",
     "text": [
      "Repositorio ECR creado exitosamente: 021891591921.dkr.ecr.us-east-1.amazonaws.com/spend-wise-app\n"
     ]
    }
   ],
   "source": [
    "import boto3\n",
    "from botocore.exceptions import ClientError\n",
    "\n",
    "# Crear un cliente para ECR\n",
    "ecr_client = boto3.client('ecr')\n",
    "\n",
    "# Nombre del repositorio ECR\n",
    "repository_name = 'spend-wise-app'\n",
    "\n",
    "try:\n",
    "    # Crear el repositorio ECR\n",
    "    response = ecr_client.create_repository(\n",
    "        repositoryName=repository_name,\n",
    "        imageTagMutability='MUTABLE',\n",
    "        imageScanningConfiguration={'scanOnPush': True}\n",
    "    )\n",
    "\n",
    "    # Extraer y mostrar detalles del repositorio creado\n",
    "    repository_uri = response['repository']['repositoryUri']\n",
    "    print(f\"Repositorio ECR creado exitosamente: {repository_uri}\")\n",
    "\n",
    "except ClientError as e:\n",
    "    # Manejo de errores específicos de AWS\n",
    "    if e.response['Error']['Code'] == 'RepositoryAlreadyExistsException':\n",
    "        print(f\"El repositorio {repository_name} ya existe.\")\n",
    "    else:\n",
    "        print(f\"Error al crear el repositorio ECR: {e}\")\n"
   ]
  },
  {
   "cell_type": "code",
   "execution_count": 1,
   "metadata": {},
   "outputs": [
    {
     "name": "stdout",
     "output_type": "stream",
     "text": [
      "CONTAINER ID   IMAGE           COMMAND       CREATED          STATUS          PORTS                    NAMES\n",
      "6624f69651a9   demo-notebook   \"/start.sh\"   25 seconds ago   Up 24 seconds   0.0.0.0:8888->8888/tcp   goofy_ganguly\n"
     ]
    }
   ],
   "source": [
    "!docker ps"
   ]
  },
  {
   "cell_type": "markdown",
   "metadata": {},
   "source": [
    "# [WIP] Serverless (AWS Lambda) ⚡"
   ]
  },
  {
   "cell_type": "markdown",
   "metadata": {},
   "source": [
    "La computación serverless permite ejecutar código sin provisionar ni administrar servidores. AWS Lambda es el servicio serverless de AWS.\n",
    "\n",
    "Características:\n",
    "- No hay que gestionar servidores 🛠️\n",
    "- Escalado automático e instantáneo 📈\n",
    "- Facturación por milisegundo de ejecución ⏱️\n",
    "- Ideal para cargas de trabajo intermitentes 🌐\n",
    "- Limitado en tiempo de ejecución y recursos ⏳"
   ]
  },
  {
   "cell_type": "markdown",
   "metadata": {},
   "source": [
    "### [WIP] Ejemplo: Crear una función Lambda"
   ]
  },
  {
   "cell_type": "code",
   "execution_count": null,
   "metadata": {},
   "outputs": [],
   "source": []
  },
  {
   "cell_type": "markdown",
   "metadata": {},
   "source": [
    "## [WIP] Contenedores (ECS en AWS)"
   ]
  },
  {
   "cell_type": "markdown",
   "metadata": {},
   "source": [
    "Los contenedores son unidades estándar de software que empaquetan el código y todas sus dependencias.\n",
    "AWS ECS (Elastic Container Service) es un servicio de orquestación de contenedores.\n",
    "\n",
    "Características:\n",
    "- Ligeros y portables\n",
    "- Aislamiento de aplicaciones\n",
    "- Rápido despliegue y escalado\n",
    "- Eficiente uso de recursos\n",
    "- Ideal para microservicios"
   ]
  },
  {
   "cell_type": "markdown",
   "metadata": {},
   "source": [
    "### [WIP] Ejemplo: Crear un cluster ECS"
   ]
  },
  {
   "cell_type": "code",
   "execution_count": null,
   "metadata": {},
   "outputs": [],
   "source": [
    "def create_ecs_cluster(cluster_name):\n",
    "    response = ecs.create_cluster(clusterName=cluster_name)\n",
    "    return response['cluster']['clusterArn']\n",
    "\n",
    "cluster_arn = create_ecs_cluster('MiClusterECS')\n",
    "print(f\"Cluster ECS creado con ARN: {cluster_arn}\")"
   ]
  },
  {
   "cell_type": "markdown",
   "metadata": {},
   "source": [
    "## Comparación de servicios"
   ]
  },
  {
   "cell_type": "markdown",
   "metadata": {},
   "source": [
    "1. IAM:\n",
    "   - Gestión centralizada de accesos\n",
    "   - Crucial para la seguridad en la nube\n",
    "   - Se integra con todos los servicios AWS\n",
    "   - Sin costo adicional\n",
    "\n",
    "2. Máquinas Virtuales (EC2):\n",
    "   - Mayor control y flexibilidad\n",
    "   - Requiere más gestión\n",
    "   - Mejor para aplicaciones que necesitan el sistema operativo completo\n",
    "   - Costo: Puede ser más alto para cargas de trabajo intermitentes\n",
    "\n",
    "3. Serverless (Lambda):\n",
    "   - Sin gestión de servidores\n",
    "   - Escalado automático\n",
    "   - Ideal para microservicios y funciones específicas\n",
    "   - Costo: Muy eficiente para cargas de trabajo variables\n",
    "\n",
    "4. Contenedores (ECS):\n",
    "   - Portabilidad y consistencia\n",
    "   - Menos sobrecarga que las VMs\n",
    "   - Bueno para microservicios y aplicaciones distribuidas\n",
    "   - Costo: Equilibrio entre VMs y serverless\n",
    "\n",
    "La elección depende de los requisitos específicos de tu aplicación, \n",
    "la experiencia de tu equipo y las necesidades de gestión y escalabilidad."
   ]
  }
 ],
 "metadata": {
  "kernelspec": {
   "display_name": "Python 3 (ipykernel)",
   "language": "python",
   "name": "python3"
  },
  "language_info": {
   "codemirror_mode": {
    "name": "ipython",
    "version": 3
   },
   "file_extension": ".py",
   "mimetype": "text/x-python",
   "name": "python",
   "nbconvert_exporter": "python",
   "pygments_lexer": "ipython3",
   "version": "3.12.5"
  }
 },
 "nbformat": 4,
 "nbformat_minor": 4
}
