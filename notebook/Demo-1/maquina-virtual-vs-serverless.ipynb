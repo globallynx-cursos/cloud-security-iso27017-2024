{
 "cells": [
  {
   "cell_type": "markdown",
   "metadata": {},
   "source": [
    "# **Introducción a los Servicios Fundamentales de AWS e implementación de seguridad**"
   ]
  },
  {
   "cell_type": "markdown",
   "metadata": {},
   "source": [
    "# Introducción\n",
    "\n",
    "En este notebook, exploraremos cuatro servicios fundamentales de AWS:\n",
    "\n",
    "1. **IAM (Identity and Access Management)** 🛡️\n",
    "2. **AWS Networking: VPC, Subnets, NAT, Internet Gateway, Route Tables, ACL** 🌐\n",
    "3. **Máquinas Virtuales (EC2)** 💻\n",
    "4. **Contenedores (ECS)** 📦\n",
    "5. **Computación Serverless (Lambda)** ⚡\n",
    "\n",
    "Veremos las características de cada uno y cómo se implementan en AWS mediante este ejercicio."
   ]
  },
  {
   "cell_type": "markdown",
   "metadata": {
    "jp-MarkdownHeadingCollapsed": true
   },
   "source": [
    "## Diagrama de ejercicio general\n",
    "\n",
    "![Diagram](assets/diagram.png)"
   ]
  },
  {
   "cell_type": "markdown",
   "metadata": {},
   "source": [
    "## Explicación Arquitectura en AWS \n",
    "\n",
    "En este ejercicio vamos a crear una arquitectura en AWS que utiliza una VPC con subnets públicas y privadas:\n",
    "\n",
    "- **Subnet pública**: alojará una aplicación web. 🌐\n",
    "- **Subnet privada**: contendrá una base de datos. 💾\n",
    "\n",
    "## Componentes clave:\n",
    "\n",
    "- **Internet Gateway**: permitirá el acceso externo. 🌍\n",
    "- **NAT Gateway**: permitirá que la base de datos acceda a internet sin ser expuesta. 🔒\n",
    "- **Security Groups**: protegerán los recursos controlando el tráfico. 🛡️\n",
    "- **ECR (Elastic Container Registry)**: almacenará imágenes de contenedores utilizadas por la aplicación. 📦\n",
    "- **Lambda**: se empleará para hacer llamadas al servicio web. ⚡\n",
    "- **S3**: almacenará los logs de las llamadas Lambda. La Lambda tendrá un rol con acceso exclusivo a un bucket S3. 🗃️\n",
    "- **Session Manager**: se usará para una conexión segura a las instancias. 🔐\n",
    "- **Tablas de enrutamiento**: gestionarán el flujo del tráfico dentro de la VPC. 🛣️\n",
    "\n",
    "Esta arquitectura asegura una comunicación eficiente y segura entre los diferentes componentes.\n"
   ]
  },
  {
   "cell_type": "markdown",
   "metadata": {},
   "source": [
    "# IAM (Identity and Access Management)"
   ]
  },
  {
   "cell_type": "markdown",
   "metadata": {},
   "source": [
    "**IAM** es un servicio web que ayuda a controlar de forma segura el acceso a los recursos de AWS. 🛡️\n",
    "\n",
    "Características:\n",
    "- Gestión centralizada de usuarios y accesos 👥\n",
    "- Autenticación y autorización granular 🔐\n",
    "- Integración con servicios AWS 🔗\n",
    "- Soporte para identidades federadas 🌍\n",
    "- Sin costo adicional 💸\n"
   ]
  },
  {
   "cell_type": "markdown",
   "metadata": {},
   "source": [
    "## Conceptos Clave\n",
    "\n",
    "- **Cuenta Root**: Al crear una cuenta de AWS, se crea una cuenta root por defecto. Esta cuenta tiene acceso completo a todos los recursos y servicios de AWS y **no debe ser compartida**. 🔑\n",
    "- **Usuarios**: Son entidades que creas en AWS para representar personas o servicios que interactúan con los recursos de AWS. Cada usuario tiene un conjunto único de credenciales. 👤\n",
    "- **Grupos**: Son colecciones de usuarios. No pueden contener otros grupos, solo usuarios. Los usuarios pueden pertenecer a uno o más grupos. 👥\n",
    "- **Roles**: Son similares a los usuarios, pero están destinados a ser asumidos por cualquier entidad que necesite acceso temporal a recursos específicos. 🎭\n",
    "- **Políticas**: Definen permisos y pueden ser adjuntadas a usuarios, grupos o roles. 📜\n"
   ]
  },
  {
   "cell_type": "markdown",
   "metadata": {},
   "source": [
    "### 🚀 Ejemplo: Asignar nuevo usuario a grupo con acceso a S3 🛠️\n",
    "\n",
    "En este ejercicio, vamos a crear un **usuario** y un **grupo** en AWS. El grupo tendrá permisos exclusivamente para **enlistar** y **crear buckets** en S3. 📝🔒\n",
    "\n",
    "Pasos a seguir:\n",
    "\n",
    "1. **Crear un usuario en IAM** 👤\n",
    "2. **Crear un grupo en IAM** 👥\n",
    "3. **Asignar permisos al grupo** 🛡️\n",
    "4. **Añadir el usuario al grupo** 🔗\n"
   ]
  },
  {
   "cell_type": "code",
   "execution_count": 6,
   "metadata": {},
   "outputs": [
    {
     "name": "stdout",
     "output_type": "stream",
     "text": [
      "Título: IAM (Identity and Access Management)\n",
      "📁 Ruta del archivo PDF: 'assets/iam.pdf'\n",
      "📑🖥️ Mostrando el archivo PDF...\n"
     ]
    },
    {
     "data": {
      "text/html": [
       "\n",
       "        <iframe\n",
       "            width=\"1000\"\n",
       "            height=\"500\"\n",
       "            src=\"assets/iam.pdf\"\n",
       "            frameborder=\"0\"\n",
       "            allowfullscreen\n",
       "            \n",
       "        ></iframe>\n",
       "        "
      ],
      "text/plain": [
       "<IPython.lib.display.IFrame at 0x7f9b4c0eb8c0>"
      ]
     },
     "execution_count": 6,
     "metadata": {},
     "output_type": "execute_result"
    }
   ],
   "source": [
    "# Importamos la función IFrame del módulo IPython.display\n",
    "from IPython.display import IFrame\n",
    "\n",
    "# Definimos la ruta del archivo PDF\n",
    "pdf_path = 'assets/iam.pdf'\n",
    "\n",
    "# 📝🖇️ Información sobre el PDF\n",
    "print(\"Título: IAM (Identity and Access Management)\")\n",
    "print(\"📁 Ruta del archivo PDF: 'assets/iam.pdf'\")\n",
    "print(\"📑🖥️ Mostrando el archivo PDF...\")\n",
    "\n",
    "# Usamos IFrame para mostrar el PDF\n",
    "IFrame(pdf_path, width=1000, height=500)\n",
    "\n"
   ]
  },
  {
   "cell_type": "markdown",
   "metadata": {},
   "source": [
    "### 🚀 Ejemplo: Crear un Rol de Administrador y Asumirlo por el Usuario 🛠️\n",
    "\n",
    "En este ejercicio, crearemos un **rol** de tipo Administrador, que tendrá permisos para **crear** y **leer** cualquier recurso en la cuenta de AWS. Además, otorgaremos al **usuario** los permisos necesarios para asumir este rol y ejecutar dichas acciones. 👤🔄👑\n",
    "\n",
    "Pasos a seguir:\n",
    "\n",
    "1. **Crear un rol de Administrador en IAM** 👑\n",
    "2. **Definir la política de asunción del rol** 📜\n",
    "3. **Asignar permisos al rol** 🛡️\n",
    "4. **Otorgar al usuario permisos para asumir el rol** 🔗\n",
    "5. **Asumir el rol como usuario** 🔄"
   ]
  },
  {
   "cell_type": "code",
   "execution_count": 7,
   "metadata": {},
   "outputs": [
    {
     "name": "stdout",
     "output_type": "stream",
     "text": [
      "Título: Creación de Rol de Administrador y Asumirlo\n",
      "📁 Ruta del archivo PDF: 'assets/roleassume.pdf'\n",
      "📑🖥️ Mostrando el archivo PDF...\n"
     ]
    },
    {
     "data": {
      "text/html": [
       "\n",
       "        <iframe\n",
       "            width=\"1000\"\n",
       "            height=\"500\"\n",
       "            src=\"assets/roleassume.pdf\"\n",
       "            frameborder=\"0\"\n",
       "            allowfullscreen\n",
       "            \n",
       "        ></iframe>\n",
       "        "
      ],
      "text/plain": [
       "<IPython.lib.display.IFrame at 0x7f9b4c0eb740>"
      ]
     },
     "execution_count": 7,
     "metadata": {},
     "output_type": "execute_result"
    }
   ],
   "source": [
    "# Importamos la función IFrame del módulo IPython.display\n",
    "from IPython.display import IFrame\n",
    "\n",
    "# Definimos la ruta del archivo PDF\n",
    "pdf_path = 'assets/roleassume.pdf'\n",
    "\n",
    "# 📝🖇️ Información sobre el PDF\n",
    "print(\"Título: Creación de Rol de Administrador y Asumirlo\")\n",
    "print(\"📁 Ruta del archivo PDF: 'assets/roleassume.pdf'\")\n",
    "print(\"📑🖥️ Mostrando el archivo PDF...\")\n",
    "\n",
    "# Usamos IFrame para mostrar el PDF\n",
    "IFrame(pdf_path, width=1000, height=500)"
   ]
  },
  {
   "cell_type": "markdown",
   "metadata": {},
   "source": [
    "### 📚 Documentación  📄🔍"
   ]
  },
  {
   "cell_type": "markdown",
   "metadata": {},
   "source": [
    "Consultar esta información para más detalles:\n",
    "\n",
    "- [📝 Crear usuarios en IAM](https://docs.aws.amazon.com/es_es/IAM/latest/UserGuide/id_users_create.html)\n",
    "- [👥 Crear grupos en IAM](https://docs.aws.amazon.com/es_es/IAM/latest/UserGuide/id_groups_create.html)\n",
    "- [🔧 Crear roles para servicios en IAM](https://docs.aws.amazon.com/es_es/IAM/latest/UserGuide/id_roles_create_for-service.html)\n",
    "- [🏷️ Crear roles en IAM](https://docs.aws.amazon.com/es_es/IAM/latest/UserGuide/id_roles_create.html)\n",
    "- [🎭 Roles de IAM](https://docs.aws.amazon.com/es_es/IAM/latest/UserGuide/id_roles.html)\n",
    "- [🔄 Asumir roles de AWS](https://docs.aws.amazon.com/es_es/IAM/latest/UserGuide/id_roles_use.html)"
   ]
  },
  {
   "cell_type": "markdown",
   "metadata": {},
   "source": [
    "# Setup Inicial para ejecutar proyecto 🚀"
   ]
  },
  {
   "cell_type": "markdown",
   "metadata": {},
   "source": [
    "### Importar bibliotecas 🚀"
   ]
  },
  {
   "cell_type": "code",
   "execution_count": 8,
   "metadata": {},
   "outputs": [],
   "source": [
    "import boto3\n",
    "from botocore.exceptions import ClientError\n",
    "import json\n",
    "import time\n",
    "import requests"
   ]
  },
  {
   "cell_type": "markdown",
   "metadata": {},
   "source": [
    "### Configurar el cliente de AWS (asegúrate de tener tus credenciales configuradas) 🚀"
   ]
  },
  {
   "cell_type": "code",
   "execution_count": 9,
   "metadata": {},
   "outputs": [],
   "source": [
    "iam = boto3.client('iam')\n",
    "ec2 = boto3.client('ec2')\n",
    "lambda_client = boto3.client('lambda')\n",
    "ecs = boto3.client('ecs')"
   ]
  },
  {
   "cell_type": "markdown",
   "metadata": {},
   "source": [
    "# AWS Networking: VPC, Subnets, NAT, Internet Gateway, Route Tables, ACL 🌐\n",
    "\n",
    "AWS Networking se centra en la configuración y gestión de redes dentro de AWS utilizando varios componentes clave:\n",
    "\n",
    "- **VPC (Virtual Private Cloud):** Una red virtual aislada dentro de AWS donde se despliegan recursos. 🏠\n",
    "- **Subnets:** Segmentos de una VPC que permiten organizar y asegurar los recursos de manera granular. 📊\n",
    "- **NAT (Network Address Translation):** Permite que instancias en subnets privadas accedan a Internet sin exponer sus direcciones IP privadas. 🔄\n",
    "- **Internet Gateway:** Un componente que permite la comunicación entre instancias en una VPC y la Internet. 🌍\n",
    "- **Route Tables:** Definen las reglas de enrutamiento para controlar el tráfico dentro de la VPC y hacia fuera. 🛣️\n",
    "- **ACL (Access Control Lists):** Listas de control de acceso que proporcionan una capa de seguridad adicional a nivel de subred, permitiendo o denegando tráfico. 🔒\n",
    "\n",
    "Estos componentes juntos permiten diseñar y gestionar redes seguras y eficientes en la nube de AWS.\n"
   ]
  },
  {
   "cell_type": "markdown",
   "metadata": {},
   "source": [
    "## Creación y Configuración de una VPC 🏗️"
   ]
  },
  {
   "cell_type": "markdown",
   "metadata": {},
   "source": [
    "Una Virtual Private Cloud (VPC) es una red virtual en la nube de AWS, aislada lógicamente de otras redes virtuales. A continuación, se detalla cómo crear y configurar una VPC usando Boto3, la biblioteca de AWS para Python."
   ]
  },
  {
   "cell_type": "code",
   "execution_count": 10,
   "metadata": {},
   "outputs": [
    {
     "name": "stdout",
     "output_type": "stream",
     "text": [
      "🚀 Iniciando la creación de la VPC...\n",
      "✅ VPC creada con ID: vpc-0524e23d560960cf8\n",
      "🔧 Habilitando soporte de DNS para la VPC...\n",
      "🌐 Soporte de DNS habilitado.\n",
      "🔧 Habilitando nombres de host DNS para la VPC...\n",
      "🏷️ Nombres de host DNS habilitados.\n",
      "🛠️ Creando etiqueta para la VPC...\n",
      "🏷️ Etiqueta 'DemoVPC' creada para la VPC.\n",
      "🎉 Proceso de creación y configuración de la VPC completado.\n"
     ]
    }
   ],
   "source": [
    "print(\"🚀 Iniciando la creación de la VPC...\")\n",
    "\n",
    "# Crear una VPC\n",
    "response = ec2.create_vpc(\n",
    "    CidrBlock='10.0.0.0/16'\n",
    ")\n",
    "\n",
    "vpc_id = response['Vpc']['VpcId']\n",
    "print(f'✅ VPC creada con ID: {vpc_id}')\n",
    "\n",
    "print(\"🔧 Habilitando soporte de DNS para la VPC...\")\n",
    "\n",
    "# Habilitar soporte de DNS\n",
    "ec2.modify_vpc_attribute(\n",
    "    VpcId=vpc_id,\n",
    "    EnableDnsSupport={'Value': True}\n",
    ")\n",
    "print(\"🌐 Soporte de DNS habilitado.\")\n",
    "\n",
    "print(\"🔧 Habilitando nombres de host DNS para la VPC...\")\n",
    "\n",
    "# Habilitar nombres de host DNS\n",
    "ec2.modify_vpc_attribute(\n",
    "    VpcId=vpc_id,\n",
    "    EnableDnsHostnames={'Value': True}\n",
    ")\n",
    "print(\"🏷️ Nombres de host DNS habilitados.\")\n",
    "\n",
    "print(\"🛠️ Creando etiqueta para la VPC...\")\n",
    "\n",
    "# Crear una etiqueta para la VPC\n",
    "ec2.create_tags(\n",
    "    Resources=[vpc_id],\n",
    "    Tags=[{'Key': 'Name', 'Value': 'DemoVPC'}]\n",
    ")\n",
    "print(\"🏷️ Etiqueta 'DemoVPC' creada para la VPC.\")\n",
    "\n",
    "print(\"🎉 Proceso de creación y configuración de la VPC completado.\")\n"
   ]
  },
  {
   "cell_type": "markdown",
   "metadata": {},
   "source": [
    "## Creación y Configuración de Subnets 🌐🔧\n",
    "Una VPC se divide en subnets para organizar y gestionar los recursos de red de manera eficiente. A continuación, crearemos una subnet pública con acceso a Internet y una subnet privada sin acceso directo a Internet. También configuraremos las tablas de rutas y un Internet Gateway para habilitar la comunicación adecuada. 🚀\n"
   ]
  },
  {
   "cell_type": "code",
   "execution_count": 11,
   "metadata": {},
   "outputs": [
    {
     "name": "stdout",
     "output_type": "stream",
     "text": [
      "🟢 Subnet pública creada con ID: subnet-00b73f022f7583e6c\n",
      "🔵 Subnet privada creada con ID: subnet-0ba31041411b84a1f\n",
      "🌐 Internet Gateway creado con ID: igw-09080f3b32d4a0af1\n",
      "🗺️ Tabla de rutas predeterminada con ID: rtb-0baf3f42b379caa45\n",
      "🔒 Tabla de rutas privada creada con ID: rtb-0b46030e8365b1ea9\n",
      "✅ Configuración de VPC completa. La subnet pública tiene acceso a Internet y la subnet privada tiene su propia tabla de rutas.\n"
     ]
    }
   ],
   "source": [
    "# 🌐 Crear la subnet pública\n",
    "response_public_subnet = ec2.create_subnet(\n",
    "    VpcId=vpc_id,\n",
    "    CidrBlock='10.0.1.0/24',\n",
    "    AvailabilityZone='us-east-1a'\n",
    ")\n",
    "public_subnet_id = response_public_subnet['Subnet']['SubnetId']\n",
    "print(f'🟢 Subnet pública creada con ID: {public_subnet_id}')\n",
    "\n",
    "# 🏷️ Crear una etiqueta para la subnet pública\n",
    "ec2.create_tags(\n",
    "    Resources=[public_subnet_id],\n",
    "    Tags=[{'Key': 'Name', 'Value': 'PublicSubnet'}]\n",
    ")\n",
    "\n",
    "# 🔒 Crear la subnet privada\n",
    "response_private_subnet = ec2.create_subnet(\n",
    "    VpcId=vpc_id,\n",
    "    CidrBlock='10.0.2.0/24',\n",
    "    AvailabilityZone='us-east-1a'\n",
    ")\n",
    "private_subnet_id = response_private_subnet['Subnet']['SubnetId']\n",
    "print(f'🔵 Subnet privada creada con ID: {private_subnet_id}')\n",
    "\n",
    "# 🏷️ Crear una etiqueta para la subnet privada\n",
    "ec2.create_tags(\n",
    "    Resources=[private_subnet_id],\n",
    "    Tags=[{'Key': 'Name', 'Value': 'PrivateSubnet'}]\n",
    ")\n",
    "\n",
    "# 🌍 Crear un Internet Gateway\n",
    "response_igw = ec2.create_internet_gateway()\n",
    "igw_id = response_igw['InternetGateway']['InternetGatewayId']\n",
    "print(f'🌐 Internet Gateway creado con ID: {igw_id}')\n",
    "\n",
    "# 🔗 Adjuntar el Internet Gateway a la VPC\n",
    "ec2.attach_internet_gateway(\n",
    "    InternetGatewayId=igw_id,\n",
    "    VpcId=vpc_id\n",
    ")\n",
    "\n",
    "# 🏷️ Crear una etiqueta para el Internet Gateway\n",
    "ec2.create_tags(\n",
    "    Resources=[igw_id],\n",
    "    Tags=[{'Key': 'Name', 'Value': 'DemoIGW'}]\n",
    ")\n",
    "\n",
    "# 🗺️ Obtener la tabla de rutas predeterminada\n",
    "response_route_tables = ec2.describe_route_tables(\n",
    "    Filters=[\n",
    "        {\n",
    "            'Name': 'vpc-id',\n",
    "            'Values': [vpc_id]\n",
    "        }\n",
    "    ]\n",
    ")\n",
    "route_table_id = response_route_tables['RouteTables'][0]['RouteTableId']\n",
    "print(f'🗺️ Tabla de rutas predeterminada con ID: {route_table_id}')\n",
    "\n",
    "# 🛣️ Crear una ruta en la tabla de rutas predeterminada que apunte al Internet Gateway\n",
    "ec2.create_route(\n",
    "    RouteTableId=route_table_id,\n",
    "    DestinationCidrBlock='0.0.0.0/0',\n",
    "    GatewayId=igw_id\n",
    ")\n",
    "\n",
    "# 🔗 Asociar la tabla de rutas predeterminada con la subnet pública\n",
    "ec2.associate_route_table(\n",
    "    RouteTableId=route_table_id,\n",
    "    SubnetId=public_subnet_id\n",
    ")\n",
    "\n",
    "# 🗺️ Crear una nueva tabla de rutas para la subnet privada\n",
    "response_private_route_table = ec2.create_route_table(\n",
    "    VpcId=vpc_id\n",
    ")\n",
    "private_route_table_id = response_private_route_table['RouteTable']['RouteTableId']\n",
    "print(f'🔒 Tabla de rutas privada creada con ID: {private_route_table_id}')\n",
    "\n",
    "# 🏷️ Crear una etiqueta para la tabla de rutas privada\n",
    "ec2.create_tags(\n",
    "    Resources=[private_route_table_id],\n",
    "    Tags=[{'Key': 'Name', 'Value': 'PrivateRouteTable'}]\n",
    ")\n",
    "\n",
    "# 🔗 Asociar la nueva tabla de rutas con la subnet privada\n",
    "ec2.associate_route_table(\n",
    "    RouteTableId=private_route_table_id,\n",
    "    SubnetId=private_subnet_id\n",
    ")\n",
    "\n",
    "print('✅ Configuración de VPC completa. La subnet pública tiene acceso a Internet y la subnet privada tiene su propia tabla de rutas.')"
   ]
  },
  {
   "cell_type": "markdown",
   "metadata": {},
   "source": [
    "# Máquinas Virtuales (EC2 en AWS) 💻"
   ]
  },
  {
   "cell_type": "markdown",
   "metadata": {},
   "source": [
    "Las máquinas virtuales son emulaciones de sistemas informáticos completos. En AWS, se implementan como instancias EC2 (Elastic Compute Cloud).\n",
    "\n",
    "Características:\n",
    "- Emula hardware completo 🖥️\n",
    "- Control total sobre el sistema operativo ⚙️\n",
    "- Requiere gestión y mantenimiento del sistema operativo 🛠️\n",
    "- Escalado manual o automatizado, pero no instantáneo 📈\n",
    "- Facturación por hora/segundo de ejecución ⏲️"
   ]
  },
  {
   "cell_type": "markdown",
   "metadata": {},
   "source": [
    "## Creación Instancia EC2 AWS Pública 🚀"
   ]
  },
  {
   "cell_type": "markdown",
   "metadata": {},
   "source": [
    "En esta sección, se explica cómo:\n",
    "\n",
    "Lanzar una instancia EC2 en AWS 🖥️\n",
    "Configurar su grupo de seguridad para permitir conexiones SSH usando EC2 Instance Connect 🔒\n",
    "Ejecutar un script de instalación de Docker en el momento del lanzamiento de la instancia 🐋\n"
   ]
  },
  {
   "cell_type": "markdown",
   "metadata": {},
   "source": [
    "#### Variables necesarias"
   ]
  },
  {
   "cell_type": "code",
   "execution_count": 11,
   "metadata": {},
   "outputs": [],
   "source": [
    "security_group_name = 'SSMAccessSecurityGroup'\n",
    "iam_role_name = 'EC2SSMRole'\n",
    "instance_profile_name = 'EC2SSMInstanceProfile'"
   ]
  },
  {
   "cell_type": "markdown",
   "metadata": {},
   "source": [
    "#### 1. Crear Rol IAM y Perfil de Instancia\n",
    "Descripción: Esta función crea un rol IAM y un perfil de instancia necesarios para que la instancia EC2 pueda utilizar Systems Manager Session Manager."
   ]
  },
  {
   "cell_type": "code",
   "execution_count": 13,
   "metadata": {},
   "outputs": [],
   "source": [
    "def create_iam_role_and_instance_profile():\n",
    "    iam = boto3.client('iam')\n",
    "    \n",
    "    try:\n",
    "        # Crear el rol IAM\n",
    "        print(\"Creando rol IAM... 👤\")\n",
    "        trust_relationship = {\n",
    "            \"Version\": \"2012-10-17\",\n",
    "            \"Statement\": [\n",
    "                {\n",
    "                    \"Effect\": \"Allow\",\n",
    "                    \"Principal\": {\"Service\": \"ec2.amazonaws.com\"},\n",
    "                    \"Action\": \"sts:AssumeRole\"\n",
    "                }\n",
    "            ]\n",
    "        }\n",
    "        \n",
    "        iam.create_role(\n",
    "            RoleName=iam_role_name,\n",
    "            AssumeRolePolicyDocument=json.dumps(trust_relationship)\n",
    "        )\n",
    "        print(f\"Rol IAM '{iam_role_name}' creado. ✅\")\n",
    "\n",
    "        # Adjuntar la política AmazonSSMManagedInstanceCore\n",
    "        print(\"Adjuntando política AmazonSSMManagedInstanceCore... 📄\")\n",
    "        iam.attach_role_policy(\n",
    "            RoleName=iam_role_name,\n",
    "            PolicyArn='arn:aws:iam::aws:policy/AmazonSSMManagedInstanceCore'\n",
    "        )\n",
    "        print(\"Política AmazonSSMManagedInstanceCore adjuntada. 🔒\")\n",
    "\n",
    "        # Adjuntar la política personalizada para ECR\n",
    "        print(\"Adjuntando política personalizada para ECR... 📄\")\n",
    "        ecr_policy = {\n",
    "            \"Version\": \"2012-10-17\",\n",
    "            \"Statement\": [\n",
    "                {\n",
    "                    \"Effect\": \"Allow\",\n",
    "                    \"Action\": [\n",
    "                        \"ecr:GetDownloadUrlForLayer\",\n",
    "                        \"ecr:BatchGetImage\",\n",
    "                        \"ecr:GetAuthorizationToken\"\n",
    "                    ],\n",
    "                    \"Resource\": \"*\"\n",
    "                }\n",
    "            ]\n",
    "        }\n",
    "        \n",
    "        policy_response = iam.create_policy(\n",
    "            PolicyName='ECRAccessPolicy',\n",
    "            PolicyDocument=json.dumps(ecr_policy)\n",
    "        )\n",
    "        \n",
    "        iam.attach_role_policy(\n",
    "            RoleName=iam_role_name,\n",
    "            PolicyArn=policy_response['Policy']['Arn']\n",
    "        )\n",
    "        print(\"Política personalizada para ECR adjuntada. 🔒\")\n",
    "\n",
    "        # Crear el perfil de instancia\n",
    "        print(\"Creando perfil de instancia... 📂\")\n",
    "        iam.create_instance_profile(InstanceProfileName=instance_profile_name)\n",
    "        print(f\"Perfil de instancia '{instance_profile_name}' creado. ✅\")\n",
    "\n",
    "        # Añadir el rol al perfil de instancia\n",
    "        print(\"Añadiendo rol al perfil de instancia... 🔗\")\n",
    "        iam.add_role_to_instance_profile(\n",
    "            InstanceProfileName=instance_profile_name,\n",
    "            RoleName=iam_role_name\n",
    "        )\n",
    "        print(f\"Rol '{iam_role_name}' añadido al perfil de instancia. 🔗\")\n",
    "\n",
    "        # Esperar a que el perfil de instancia esté disponible\n",
    "        print(\"Esperando a que el perfil de instancia esté disponible... ⏳\")\n",
    "        time.sleep(10)\n",
    "\n",
    "    except ClientError as e:\n",
    "        if e.response['Error']['Code'] == 'EntityAlreadyExists':\n",
    "            print(\"El rol IAM o el perfil de instancia ya existen.\")\n",
    "            \n",
    "            # Verificar si el rol está asociado al perfil de instancia\n",
    "            try:\n",
    "                response = iam.get_instance_profile(InstanceProfileName=instance_profile_name)\n",
    "                if not response['InstanceProfile']['Roles']:\n",
    "                    print(\"El perfil de instancia existe pero no tiene un rol asociado. Asociando rol...\")\n",
    "                    iam.add_role_to_instance_profile(\n",
    "                        InstanceProfileName=instance_profile_name,\n",
    "                        RoleName=iam_role_name\n",
    "                    )\n",
    "                    print(f\"Rol '{iam_role_name}' añadido al perfil de instancia existente. 🔗\")\n",
    "                else:\n",
    "                    print(\"El perfil de instancia ya tiene un rol asociado. ✅\")\n",
    "            except ClientError as inner_e:\n",
    "                print(f\"Error al verificar o actualizar el perfil de instancia: {inner_e} ❌\")\n",
    "                return False\n",
    "        else:\n",
    "            print(f\"Error al crear el rol IAM o el perfil de instancia: {e} ❌\")\n",
    "            return False\n",
    "\n",
    "    # Verificación final\n",
    "    try:\n",
    "        response = iam.get_instance_profile(InstanceProfileName=instance_profile_name)\n",
    "        if response['InstanceProfile']['Roles']:\n",
    "            print(f\"Verificación final: El perfil de instancia '{instance_profile_name}' tiene el rol '{iam_role_name}' asociado. ✅\")\n",
    "        else:\n",
    "            print(f\"Advertencia: El perfil de instancia '{instance_profile_name}' no tiene roles asociados. ⚠️\")\n",
    "    except ClientError as e:\n",
    "        print(f\"Error al verificar el perfil de instancia: {e} ❌\")\n",
    "\n",
    "    return True"
   ]
  },
  {
   "cell_type": "markdown",
   "metadata": {},
   "source": [
    "#### 2. Crear Grupo de Seguridad\n",
    "Descripción: Esta función crea un grupo de seguridad que permite todo el tráfico de salida pero no permite tráfico de entrada, lo cual es suficiente para Session Manager."
   ]
  },
  {
   "cell_type": "code",
   "execution_count": 14,
   "metadata": {},
   "outputs": [],
   "source": [
    "def get_or_create_security_group():\n",
    "    ec2 = boto3.client('ec2')\n",
    "    try:\n",
    "        print(\"Comprobando si existe un grupo de seguridad... 🔍\")\n",
    "        response = ec2.describe_security_groups(\n",
    "            Filters=[\n",
    "                {'Name': 'group-name', 'Values': [security_group_name]},\n",
    "                {'Name': 'vpc-id', 'Values': [vpc_id]}\n",
    "            ]\n",
    "        )\n",
    "        \n",
    "        if response['SecurityGroups']:\n",
    "            security_group_id = response['SecurityGroups'][0]['GroupId']\n",
    "            print(f\"Grupo de seguridad existente encontrado con ID: {security_group_id} 🔒\")\n",
    "            return security_group_id\n",
    "        \n",
    "        print(\"Creando un nuevo grupo de seguridad... 🛡️\")\n",
    "        security_group = ec2.create_security_group(\n",
    "            GroupName=security_group_name,\n",
    "            Description='Grupo de seguridad para Ubuntu con acceso a Session Manager',\n",
    "            VpcId=vpc_id\n",
    "        )\n",
    "        \n",
    "        security_group_id = security_group['GroupId']\n",
    "\n",
    "        try:\n",
    "            print(\"Autorizando reglas de salida para el grupo de seguridad... 🔓\")\n",
    "            ec2.authorize_security_group_egress(\n",
    "                GroupId=security_group_id,\n",
    "                IpPermissions=[\n",
    "                    {\n",
    "                        'IpProtocol': '-1',\n",
    "                        'FromPort': -1,\n",
    "                        'ToPort': -1,\n",
    "                        'IpRanges': [{'CidrIp': '0.0.0.0/0'}]\n",
    "                    }\n",
    "                ]\n",
    "            )\n",
    "        except ClientError as e:\n",
    "            if e.response['Error']['Code'] != 'InvalidPermission.Duplicate':\n",
    "                raise\n",
    "            print(\"La regla de salida ya existe, continuando... ✅\")\n",
    "\n",
    "        print(f\"Nuevo grupo de seguridad creado con ID: {security_group_id} 🆕\")\n",
    "        return security_group_id\n",
    "    except ClientError as e:\n",
    "        print(f\"Error al manejar el grupo de seguridad: {e} ❌\")\n",
    "        return None\n"
   ]
  },
  {
   "cell_type": "markdown",
   "metadata": {},
   "source": [
    "#### 3. Crear Instancia EC2\n",
    "Descripción: Esta función crea una instancia EC2 con el rol IAM, perfil de instancia y grupo de seguridad creados anteriormente. También instala Docker en la instancia"
   ]
  },
  {
   "cell_type": "code",
   "execution_count": 15,
   "metadata": {},
   "outputs": [],
   "source": [
    "# Read the contents of docker_install.sh\n",
    "with open('scripts/docker_install.sh', 'r') as file:\n",
    "    docker_install_script = file.read()\n",
    "    \n",
    "def create_ubuntu_instance(security_group_id):\n",
    "    ec2 = boto3.resource('ec2')\n",
    "    \n",
    "    try:\n",
    "        print(\"Creando instancia Ubuntu... 🖥️\")\n",
    "        instances = ec2.create_instances(\n",
    "            ImageId='ami-04a81a99f5ec58529',  # Ubuntu en us-east-1\n",
    "            InstanceType='t2.micro',\n",
    "            MinCount=1,\n",
    "            MaxCount=1,\n",
    "            NetworkInterfaces=[{\n",
    "                'SubnetId': public_subnet_id,\n",
    "                'DeviceIndex': 0,\n",
    "                'AssociatePublicIpAddress': True,\n",
    "                'Groups': [security_group_id]\n",
    "            }],\n",
    "            IamInstanceProfile={'Name': instance_profile_name},\n",
    "            UserData=f'''#!/bin/bash\n",
    "                apt-get update\n",
    "                apt-get install -y snapd\n",
    "                snap install amazon-ssm-agent --classic\n",
    "                systemctl enable snap.amazon-ssm-agent.amazon-ssm-agent.service\n",
    "                systemctl start snap.amazon-ssm-agent.amazon-ssm-agent.service\n",
    "                # Docker installation script\n",
    "                {docker_install_script}\n",
    "            ''',\n",
    "            TagSpecifications=[\n",
    "                {\n",
    "                    'ResourceType': 'instance',\n",
    "                    'Tags': [\n",
    "                        {\n",
    "                            'Key': 'Name',\n",
    "                            'Value': 'WebApp'\n",
    "                        },\n",
    "                    ]\n",
    "                },\n",
    "            ]\n",
    "        )\n",
    "        \n",
    "        instance = instances[0]\n",
    "        print(\"Esperando a que la instancia se inicie... ⏳\")\n",
    "        instance.wait_until_running()\n",
    "        instance.reload()\n",
    "        \n",
    "        print(f\"Instancia Ubuntu creada con ID: {instance.id} 🎉\")\n",
    "        print(f\"IP privada: {instance.private_ip_address} 📍\")\n",
    "        print(f\"IP pública: {instance.public_ip_address} 🌐\")\n",
    "        return instance\n",
    "    except ClientError as e:\n",
    "        print(f\"Error al crear la instancia: {e} ❌\")\n",
    "        return None\n"
   ]
  },
  {
   "cell_type": "markdown",
   "metadata": {},
   "source": [
    "#### 4. Función Principal\n",
    "Descripción: Esta función orquesta todo el proceso de creación y muestra un resumen al final."
   ]
  },
  {
   "cell_type": "code",
   "execution_count": 16,
   "metadata": {},
   "outputs": [
    {
     "name": "stdout",
     "output_type": "stream",
     "text": [
      "Creando rol IAM... 👤\n",
      "Rol IAM 'EC2SSMRole' creado. ✅\n",
      "Adjuntando política AmazonSSMManagedInstanceCore... 📄\n",
      "Política adjuntada. 🔒\n",
      "Creando perfil de instancia... 📂\n",
      "El rol IAM o el perfil de instancia ya existen.\n",
      "El perfil de instancia existe pero no tiene un rol asociado. Asociando rol...\n",
      "Rol 'EC2SSMRole' añadido al perfil de instancia existente. 🔗\n",
      "Verificación final: El perfil de instancia 'EC2SSMInstanceProfile' tiene el rol 'EC2SSMRole' asociado. ✅\n",
      "Checking for existing security group... 🔍\n",
      "Creating new security group... 🛡️\n",
      "Authorizing egress rules for the security group... 🔓\n",
      "Egress rule already exists, continuing... ✅\n",
      "New security group created with ID: sg-02aa9742fdfac5332 🆕\n",
      "Creando instancia Ubuntu... 🖥️\n",
      "Esperando a que la instancia se inicie... ⏳\n",
      "Instancia Ubuntu creada con ID: i-08abba30d5494b6fc 🎉\n",
      "IP privada: 10.0.1.210 📍\n",
      "IP pública: 54.162.79.243 🌐\n",
      "\n",
      "🎉 ¡Configuración completada!\n",
      "📝 Resumen:\n",
      "   - Instancia EC2 ID: ec2.Instance(id='i-08abba30d5494b6fc')\n",
      "   - Grupo de Seguridad ID: sg-02aa9742fdfac5332\n",
      "   - Rol IAM: EC2SSMRole\n",
      "   - Perfil de Instancia: EC2SSMInstanceProfile\n",
      "\n",
      "🔐 La instancia está configurada para acceso mediante Session Manager.\n",
      "🐳 Docker se instalará durante el proceso de inicialización.\n",
      "📌 Usa la consola de AWS o el AWS CLI para conectarte a la instancia a través de Session Manager.\n",
      "\n"
     ]
    }
   ],
   "source": [
    "def main():\n",
    "    create_iam_role_and_instance_profile()\n",
    "    security_group_id = get_or_create_security_group()\n",
    "    instance_id = create_ubuntu_instance(security_group_id)\n",
    "    \n",
    "    print(f\"\"\"\n",
    "🎉 ¡Configuración completada!\n",
    "📝 Resumen:\n",
    "   - Instancia EC2 ID: {instance_id}\n",
    "   - Grupo de Seguridad ID: {security_group_id}\n",
    "   - Rol IAM: {iam_role_name}\n",
    "   - Perfil de Instancia: {instance_profile_name}\n",
    "\n",
    "🔐 La instancia está configurada para acceso mediante Session Manager.\n",
    "🐳 Docker se instalará durante el proceso de inicialización.\n",
    "📌 Usa la consola de AWS o el AWS CLI para conectarte a la instancia a través de Session Manager.\n",
    "\"\"\")\n",
    "\n",
    "# Ejecutar el script\n",
    "main()"
   ]
  },
  {
   "cell_type": "markdown",
   "metadata": {},
   "source": [
    "### Lanzamiento de la Instancia EC2 para la Base de Datos 🗄️🚀\n",
    "En esta sección, crearemos y configuraremos una instancia EC2 que alojará nuestra base de datos. Esta instancia se lanzará en la subnet privada para mayor seguridad.\n",
    "\n",
    "- 🌐 Vamos a crear una NAT Gateway para que la instancia pueda conectarse a Internet.\n",
    "- 🔒 La única manera en que se pueda acceder a ella será mediante el Security Group de la instancia web.\n",
    "- 🐋 Además, tendrá Docker instalado.\n",
    "- 🐘 También tendrá PostgreSQL instalado."
   ]
  },
  {
   "cell_type": "markdown",
   "metadata": {},
   "source": [
    "#### 1. Creación de la NAT Gateway"
   ]
  },
  {
   "cell_type": "code",
   "execution_count": 20,
   "metadata": {},
   "outputs": [
    {
     "name": "stdout",
     "output_type": "stream",
     "text": [
      "Starting NAT Gateway creation and route configuration... 🚀\n",
      "Creating Elastic IP... 🌐\n",
      "Elastic IP created with Allocation ID: eipalloc-05013f6525ea0da03 📍\n",
      "Creating NAT Gateway in the public subnet... 🚀\n",
      "NAT Gateway created with ID: nat-038535b4517440eab 🛠️\n",
      "Waiting for NAT Gateway to become available... ⏳\n",
      "NAT Gateway is now available! 🎉\n",
      "Updating the route table... 🛣️\n",
      "Route added to route table rtb-0b46030e8365b1ea9 📋\n",
      "Checking if the route table is associated with the private subnet... 🔍\n",
      "Route table rtb-0b46030e8365b1ea9 is already associated with private subnet subnet-0ba31041411b84a1f ⚙️\n",
      "NAT Gateway created and routes configured successfully. 🎊\n"
     ]
    }
   ],
   "source": [
    "def create_nat_gateway_and_update_route_table():\n",
    "    ec2 = boto3.client('ec2')\n",
    "    \n",
    "    try:\n",
    "        # Crear una IP elástica para el NAT Gateway\n",
    "        print(\"Creando IP elástica... 🌐\")\n",
    "        eip_response = ec2.allocate_address(Domain='vpc')\n",
    "        allocation_id = eip_response['AllocationId']\n",
    "        print(f\"IP elástica creada con ID de asignación: {allocation_id} 📍\")\n",
    "\n",
    "        # Crear NAT Gateway en la subred pública\n",
    "        print(\"Creando NAT Gateway en la subred pública... 🚀\")\n",
    "        nat_gateway_response = ec2.create_nat_gateway(\n",
    "            AllocationId=allocation_id,\n",
    "            SubnetId=public_subnet_id,\n",
    "        )\n",
    "        nat_gateway_id = nat_gateway_response['NatGateway']['NatGatewayId']\n",
    "        print(f\"NAT Gateway creado con ID: {nat_gateway_id} 🛠️\")\n",
    "\n",
    "        # Esperar a que el NAT Gateway esté disponible\n",
    "        print(\"Esperando a que el NAT Gateway esté disponible... ⏳\")\n",
    "        waiter = ec2.get_waiter('nat_gateway_available')\n",
    "        waiter.wait(NatGatewayIds=[nat_gateway_id])\n",
    "        print(\"¡NAT Gateway ya está disponible! 🎉\")\n",
    "\n",
    "        # Actualizar la tabla de rutas existente\n",
    "        print(\"Actualizando la tabla de rutas... 🛣️\")\n",
    "        ec2.create_route(\n",
    "            RouteTableId=private_route_table_id,\n",
    "            DestinationCidrBlock='0.0.0.0/0',\n",
    "            NatGatewayId=nat_gateway_id\n",
    "        )\n",
    "        print(f\"Ruta añadida a la tabla de rutas {private_route_table_id} 📋\")\n",
    "\n",
    "        # Comprobar si la tabla de rutas está asociada con la subred privada\n",
    "        print(\"Comprobando si la tabla de rutas está asociada con la subred privada... 🔍\")\n",
    "        associations = ec2.describe_route_tables(RouteTableIds=[private_route_table_id])['RouteTables'][0]['Associations']\n",
    "        is_associated = any(assoc['SubnetId'] == private_subnet_id for assoc in associations)\n",
    "        \n",
    "        if not is_associated:\n",
    "            print(\"Asociando la tabla de rutas con la subred privada... 🔗\")\n",
    "            ec2.associate_route_table(\n",
    "                RouteTableId=private_route_table_id,\n",
    "                SubnetId=private_subnet_id\n",
    "            )\n",
    "            print(f\"Tabla de rutas {private_route_table_id} asociada con la subred privada {private_subnet_id} ✅\")\n",
    "        else:\n",
    "            print(f\"La tabla de rutas {private_route_table_id} ya está asociada con la subred privada {private_subnet_id} ⚙️\")\n",
    "\n",
    "        return True\n",
    "    except ClientError as e:\n",
    "        print(f\"Error al crear el NAT Gateway o al configurar las rutas: {e} ❌\")\n",
    "        return False\n",
    "\n",
    "\n",
    "print(\"Iniciando la creación del NAT Gateway y la configuración de rutas... 🚀\")\n",
    "if create_nat_gateway_and_update_route_table():\n",
    "    print(\"NAT Gateway creado y rutas configuradas con éxito. 🎊\")\n",
    "else:\n",
    "    print(\"Error al crear el NAT Gateway o configurar las rutas. 😢\")\n"
   ]
  },
  {
   "cell_type": "code",
   "execution_count": 32,
   "metadata": {},
   "outputs": [],
   "source": [
    "SECURITY_GROUP_NAME = 'PrivateInstanceSSMSG'\n",
    "IAM_ROLE_NAME = 'SSMPrivateInstanceRole'\n",
    "IAM_INSTANCE_PROFILE_NAME = 'SSMPrivateInstanceProfile'"
   ]
  },
  {
   "cell_type": "markdown",
   "metadata": {},
   "source": [
    "#### 2. Creación de Security groups"
   ]
  },
  {
   "cell_type": "code",
   "execution_count": 33,
   "metadata": {},
   "outputs": [],
   "source": [
    "def get_or_create_security_group():\n",
    "    ec2 = boto3.client('ec2')\n",
    "    try:\n",
    "        # Intentar obtener el grupo de seguridad existente\n",
    "        print(\"Comprobando si existe un grupo de seguridad... 🔍\")\n",
    "        response = ec2.describe_security_groups(\n",
    "            Filters=[\n",
    "                {'Name': 'group-name', 'Values': [SECURITY_GROUP_NAME]},\n",
    "                {'Name': 'vpc-id', 'Values': [vpc_id]}\n",
    "            ]\n",
    "        )\n",
    "        if response['SecurityGroups']:\n",
    "            security_group_id = response['SecurityGroups'][0]['GroupId']\n",
    "            print(f\"Grupo de seguridad existente '{SECURITY_GROUP_NAME}' encontrado con ID: {security_group_id} 🔒\")\n",
    "        else:\n",
    "            # Si no existe, crear uno nuevo\n",
    "            print(\"Creando un nuevo grupo de seguridad... 🛡️\")\n",
    "            response = ec2.create_security_group(\n",
    "                GroupName=SECURITY_GROUP_NAME,\n",
    "                Description='Grupo de seguridad para instancia privada con acceso a Session Manager y PostgreSQL',\n",
    "                VpcId=vpc_id\n",
    "            )\n",
    "            security_group_id = response['GroupId']\n",
    "            print(f\"Nuevo grupo de seguridad '{SECURITY_GROUP_NAME}' creado con ID: {security_group_id} 🆕\")\n",
    "\n",
    "        # Agregar la regla de salida\n",
    "        try:\n",
    "            print(\"Añadiendo regla de salida al grupo de seguridad... 🔓\")\n",
    "            ec2.authorize_security_group_egress(\n",
    "                GroupId=security_group_id,\n",
    "                IpPermissions=[\n",
    "                    {\n",
    "                        'IpProtocol': '-1',\n",
    "                        'FromPort': -1,\n",
    "                        'ToPort': -1,\n",
    "                        'IpRanges': [{'CidrIp': '0.0.0.0/0'}]\n",
    "                    }\n",
    "                ]\n",
    "            )\n",
    "            print(\"Regla de salida añadida al grupo de seguridad. ✅\")\n",
    "        except ClientError as e:\n",
    "            if e.response['Error']['Code'] == 'InvalidPermission.Duplicate':\n",
    "                print(\"La regla de salida ya existe en el grupo de seguridad. ✅\")\n",
    "            else:\n",
    "                raise\n",
    "\n",
    "        # Agregar la regla de ingreso de PostgreSQL (TODO: Ingreso desde el grupo de seguridad de la aplicación web)\n",
    "        try:\n",
    "            print(\"Añadiendo regla de ingreso de PostgreSQL al grupo de seguridad... 🔓\")\n",
    "            ec2.authorize_security_group_ingress(\n",
    "                GroupId=security_group_id,\n",
    "                IpPermissions=[\n",
    "                    {\n",
    "                        'IpProtocol': 'tcp',\n",
    "                        'FromPort': 5432,\n",
    "                        'ToPort': 5432,\n",
    "                        'IpRanges': [{'CidrIp': '0.0.0.0/0'}]\n",
    "                    }\n",
    "                ]\n",
    "            )\n",
    "            print(\"Regla de ingreso de PostgreSQL añadida al grupo de seguridad. ✅\")\n",
    "        except ClientError as e:\n",
    "            if e.response['Error']['Code'] == 'InvalidPermission.Duplicate':\n",
    "                print(\"La regla de ingreso de PostgreSQL ya existe en el grupo de seguridad. ✅\")\n",
    "            else:\n",
    "                raise\n",
    "\n",
    "        return security_group_id\n",
    "    except ClientError as e:\n",
    "        print(f\"Error al manejar el grupo de seguridad: {e} ❌\")\n",
    "        return None\n"
   ]
  },
  {
   "cell_type": "markdown",
   "metadata": {},
   "source": [
    "#### 3. Creación de IAM Role e Instance Profile"
   ]
  },
  {
   "cell_type": "code",
   "execution_count": 34,
   "metadata": {},
   "outputs": [],
   "source": [
    "def create_iam_role_and_instance_profile():\n",
    "    iam = boto3.client('iam')\n",
    "    \n",
    "    try:\n",
    "        print(\"Creando rol de IAM... 👤\")\n",
    "        trust_relationship = {\n",
    "            \"Version\": \"2012-10-17\",\n",
    "            \"Statement\": [\n",
    "                {\n",
    "                    \"Effect\": \"Allow\",\n",
    "                    \"Principal\": {\"Service\": \"ec2.amazonaws.com\"},\n",
    "                    \"Action\": \"sts:AssumeRole\"\n",
    "                }\n",
    "            ]\n",
    "        }\n",
    "        \n",
    "        iam.create_role(\n",
    "            RoleName=IAM_ROLE_NAME,\n",
    "            AssumeRolePolicyDocument=json.dumps(trust_relationship)\n",
    "        )\n",
    "        print(f\"Rol de IAM '{IAM_ROLE_NAME}' creado. ✅\")\n",
    "\n",
    "        print(\"Adjuntando política AmazonSSMManagedInstanceCore al rol... 📄\")\n",
    "        iam.attach_role_policy(\n",
    "            RoleName=IAM_ROLE_NAME,\n",
    "            PolicyArn='arn:aws:iam::aws:policy/AmazonSSMManagedInstanceCore'\n",
    "        )\n",
    "        print(\"Política adjuntada al rol. 🔒\")\n",
    "\n",
    "        print(\"Creando perfil de instancia... 📂\")\n",
    "        iam.create_instance_profile(InstanceProfileName=IAM_INSTANCE_PROFILE_NAME)\n",
    "        print(f\"Perfil de instancia '{IAM_INSTANCE_PROFILE_NAME}' creado. ✅\")\n",
    "\n",
    "        print(\"Añadiendo rol al perfil de instancia... 🔗\")\n",
    "        iam.add_role_to_instance_profile(\n",
    "            InstanceProfileName=IAM_INSTANCE_PROFILE_NAME,\n",
    "            RoleName=IAM_ROLE_NAME\n",
    "        )\n",
    "        print(f\"Rol '{IAM_ROLE_NAME}' añadido al perfil de instancia. 🔗\")\n",
    "\n",
    "        return True\n",
    "    except ClientError as e:\n",
    "        if e.response['Error']['Code'] == 'EntityAlreadyExists':\n",
    "            print(\"El rol de IAM o el perfil de instancia ya existen. Continuando... ✅\")\n",
    "            return True\n",
    "        else:\n",
    "            print(f\"Error al crear el rol de IAM o el perfil de instancia: {e} ❌\")\n",
    "            return False\n"
   ]
  },
  {
   "cell_type": "markdown",
   "metadata": {},
   "source": [
    "#### 4. Creacion de instancia privada con docker y postgres"
   ]
  },
  {
   "cell_type": "code",
   "execution_count": 35,
   "metadata": {},
   "outputs": [],
   "source": [
    "def create_private_instance(security_group_id):\n",
    "    ec2 = boto3.resource('ec2')\n",
    "    \n",
    "    try:\n",
    "        print(\"Creando instancia privada de Ubuntu... 🖥️\")\n",
    "        instances = ec2.create_instances(\n",
    "            ImageId='ami-04a81a99f5ec58529',  # Ubuntu 22.04 LTS\n",
    "            InstanceType='t2.micro',\n",
    "            MinCount=1,\n",
    "            MaxCount=1,\n",
    "            NetworkInterfaces=[{\n",
    "                'SubnetId': private_subnet_id,\n",
    "                'DeviceIndex': 0,\n",
    "                'AssociatePublicIpAddress': False,\n",
    "                'Groups': [security_group_id]\n",
    "            }],\n",
    "            IamInstanceProfile={'Name': IAM_INSTANCE_PROFILE_NAME},\n",
    "            UserData=f'''#!/bin/bash\n",
    "                apt-get update\n",
    "                apt-get install -y snapd\n",
    "                snap install amazon-ssm-agent --classic\n",
    "                systemctl enable snap.amazon-ssm-agent.amazon-ssm-agent.service\n",
    "                systemctl start snap.amazon-ssm-agent.amazon-ssm-agent.service\n",
    "                # Script de instalación de Docker\n",
    "                {docker_install_script}\n",
    "                # Instalar PostgreSQL con Docker\n",
    "                docker run --name postgres-db -e POSTGRES_PASSWORD=mysecretpassword -d -p 5432:5432 postgres:13\n",
    "                # TODO: secret manager para gestionar contraseña y configuración\n",
    "            ''',\n",
    "            TagSpecifications=[\n",
    "                {\n",
    "                    'ResourceType': 'instance',\n",
    "                    'Tags': [\n",
    "                        {\n",
    "                            'Key': 'Name',\n",
    "                            'Value': 'DataBase'\n",
    "                        },\n",
    "                    ]\n",
    "                },\n",
    "            ]\n",
    "        )\n",
    "        \n",
    "        instance = instances[0]\n",
    "        print(\"Esperando a que la instancia se inicie... ⏳\")\n",
    "        instance.wait_until_running()\n",
    "        instance.reload()\n",
    "        \n",
    "        print(f\"Instancia privada creada con ID: {instance.id} 🎉\")\n",
    "        print(f\"IP privada: {instance.private_ip_address} 📍\")\n",
    "        return instance\n",
    "    except ClientError as e:\n",
    "        print(f\"Error al crear la instancia: {e} ❌\")\n",
    "        return None\n"
   ]
  },
  {
   "cell_type": "markdown",
   "metadata": {},
   "source": [
    "#### 5. Inicia proceso de creación"
   ]
  },
  {
   "cell_type": "code",
   "execution_count": 37,
   "metadata": {},
   "outputs": [
    {
     "name": "stdout",
     "output_type": "stream",
     "text": [
      "Starting IAM role, security group, and instance setup... 🚀\n",
      "Creating IAM role... 👤\n",
      "IAM role or instance profile already exists. Continuing... ✅\n",
      "Checking for existing security group... 🔍\n",
      "Existing security group 'PrivateInstanceSSMSG' found with ID: sg-06baebce0e551c6d9 🔒\n",
      "Adding egress rule to the security group... 🔓\n",
      "Egress rule already exists in the security group. ✅\n",
      "Adding PostgreSQL ingress rule to the security group... 🔓\n",
      "PostgreSQL ingress rule already exists in the security group. ✅\n",
      "Creating private Ubuntu instance... 🖥️\n",
      "Waiting for instance to start... ⏳\n",
      "Private instance created with ID: i-0f84044cf749eb40e 🎉\n",
      "Private IP: 10.0.2.45 📍\n",
      "Private instance created successfully for use with Session Manager. 🎊\n"
     ]
    }
   ],
   "source": [
    "print(\"Iniciando configuración de IAM role, grupo de seguridad y instancia... 🚀\")\n",
    "if create_iam_role_and_instance_profile():\n",
    "    security_group_id = get_or_create_security_group()\n",
    "    if security_group_id:\n",
    "        instance = create_private_instance(security_group_id)\n",
    "        if instance:\n",
    "            print(\"Instancia privada creada con éxito para su uso con Session Manager. 🎊\")\n",
    "        else:\n",
    "            print(\"Error al crear la instancia privada. 😢\")\n",
    "    else:\n",
    "        print(\"Error al obtener o crear el grupo de seguridad. 😢\")\n",
    "else:\n",
    "    print(\"Error al crear el IAM role o el perfil de instancia. 😢\")\n"
   ]
  },
  {
   "cell_type": "markdown",
   "metadata": {},
   "source": [
    "# Contenedores usando Docker y ECR como registro de  contenedores 🐳🚀\n",
    "En esta sección, exploramos cómo usar contenedores Docker y Amazon Elastic Container Service (ECS) para desplegar y gestionar aplicaciones en AWS.\n",
    "\n",
    "**Docker:**\n",
    "- 🐳 **Docker:** Una plataforma para desarrollar, enviar y ejecutar aplicaciones dentro de contenedores ligeros y portátiles.\n",
    "- 📦 **Imágenes:** Archivos que contienen todo lo necesario para ejecutar una aplicación: código, runtime, bibliotecas y configuraciones.\n",
    "- 🚀 **Contenedores:** Instancias ejecutables de imágenes Docker que pueden iniciarse y detenerse rápidamente.\n",
    "\n",
    "**Amazon ECR:**\n",
    "- 📦 **ECR (Elastic Container Registry):** Un servicio de almacenamiento completamente gestionado para imágenes Docker, que facilita el almacenamiento, la gestión y el despliegue de imágenes de contenedores.\n",
    "- 🔒 **Seguridad:** Integración con IAM para controlar el acceso a los repositorios de imágenes.\n",
    "- 🔄 **Automatización:** Soporte para pipelines de CI/CD para automatizar el despliegue de imágenes.\n"
   ]
  },
  {
   "cell_type": "markdown",
   "metadata": {},
   "source": [
    "#### 1. Creación de repositorio ECR"
   ]
  },
  {
   "cell_type": "code",
   "execution_count": 4,
   "metadata": {},
   "outputs": [
    {
     "name": "stdout",
     "output_type": "stream",
     "text": [
      "Repositorio ECR creado exitosamente: 021891591921.dkr.ecr.us-east-1.amazonaws.com/spend-wise-app 🎉\n"
     ]
    }
   ],
   "source": [
    "import boto3\n",
    "from botocore.exceptions import ClientError\n",
    "\n",
    "# Crear un cliente para ECR\n",
    "ecr_client = boto3.client('ecr', region_name='us-east-1')\n",
    "\n",
    "# Nombre del repositorio ECR\n",
    "repository_name = 'spend-wise-app'\n",
    "\n",
    "try:\n",
    "    # Crear el repositorio ECR\n",
    "    response = ecr_client.create_repository(\n",
    "        repositoryName=repository_name,\n",
    "        imageTagMutability='MUTABLE',\n",
    "        imageScanningConfiguration={'scanOnPush': True}\n",
    "    )\n",
    "\n",
    "    # Extraer y mostrar detalles del repositorio creado\n",
    "    repository_uri = response['repository']['repositoryUri']\n",
    "    print(f\"Repositorio ECR creado exitosamente: {repository_uri} 🎉\")\n",
    "\n",
    "except ClientError as e:\n",
    "    # Manejo de errores específicos de AWS\n",
    "    if e.response['Error']['Code'] == 'RepositoryAlreadyExistsException':\n",
    "        print(f\"ℹ️ El repositorio {repository_name} ya existe.\")\n",
    "    else:\n",
    "        print(f\"❌ Error al crear el repositorio ECR: {e}\")\n"
   ]
  },
  {
   "cell_type": "markdown",
   "metadata": {},
   "source": [
    "Ejecutar comandos del sistema y muestra mensajes claros antes y después."
   ]
  },
  {
   "cell_type": "code",
   "execution_count": 5,
   "metadata": {},
   "outputs": [],
   "source": [
    "import subprocess\n",
    "import shlex\n",
    "\n",
    "def execute_command(command, shell=False):\n",
    "    \"\"\"\n",
    "    Ejecuta un comando y muestra su salida en tiempo real.\n",
    "    \"\"\"\n",
    "    if isinstance(command, list):\n",
    "        command_str = ' '.join(shlex.quote(str(arg)) for arg in command)\n",
    "    else:\n",
    "        command_str = command\n",
    "    \n",
    "    print(f\"\\n🔧 Ejecutando comando:\\n   {command_str}\\n\")\n",
    "    \n",
    "    try:\n",
    "        process = subprocess.Popen(\n",
    "            command,\n",
    "            shell=shell,\n",
    "            stdout=subprocess.PIPE,\n",
    "            stderr=subprocess.STDOUT,\n",
    "            text=True,\n",
    "            bufsize=1,\n",
    "            universal_newlines=True\n",
    "        )\n",
    "        \n",
    "        # Mostrar la salida en tiempo real\n",
    "        for line in process.stdout:\n",
    "            print(line, end='')\n",
    "        \n",
    "        # Esperar a que el proceso termine y obtener el código de salida\n",
    "        return_code = process.wait()\n",
    "        \n",
    "        if return_code == 0:\n",
    "            print(f\"\\n✅ Comando ejecutado exitosamente\")\n",
    "        else:\n",
    "            print(f\"\\n❌ El comando falló con código de salida {return_code}\")\n",
    "            raise subprocess.CalledProcessError(return_code, command)\n",
    "        \n",
    "    except subprocess.CalledProcessError as e:\n",
    "        print(f\"\\n❌ Error al ejecutar el comando: {e}\")\n",
    "        raise\n",
    "\n",
    "# Definir variables\n",
    "dockerfile_path = \"webservice/webapp\"\n",
    "image_name = \"spend-wise-app\"\n",
    "image_tag = \"latest\"\n",
    "full_image_name = f\"{image_name}:{image_tag}\"\n",
    "ecr_repository_uri = repository_uri  # Asumiendo que repository_uri está definido previamente\n",
    "ecr_image_uri = f\"{ecr_repository_uri}:{image_tag}\"\n",
    "region_name = \"us-east-1\"\n"
   ]
  },
  {
   "cell_type": "markdown",
   "metadata": {},
   "source": [
    "#### 2. Construyendo la imagen de docker"
   ]
  },
  {
   "cell_type": "code",
   "execution_count": 6,
   "metadata": {},
   "outputs": [
    {
     "name": "stdout",
     "output_type": "stream",
     "text": [
      "\n",
      "🔧 Ejecutando comando:\n",
      "   docker build -t spend-wise-app:latest webservice/webapp\n",
      "\n",
      "#0 building with \"default\" instance using docker driver\n",
      "\n",
      "#1 [internal] load build definition from Dockerfile\n",
      "#1 transferring dockerfile: 188B done\n",
      "#1 DONE 0.0s\n",
      "\n",
      "#2 [internal] load .dockerignore\n",
      "#2 transferring context: 2B done\n",
      "#2 DONE 0.0s\n",
      "\n",
      "#3 [internal] load metadata for docker.io/library/python:3.12\n",
      "#3 DONE 1.6s\n",
      "\n",
      "#4 [1/4] FROM docker.io/library/python:3.12@sha256:c7862834f921957523cc4dab6d7795a7a0d19f1cd156c1ecd3a3a08c1108c9a4\n",
      "#4 resolve docker.io/library/python:3.12@sha256:c7862834f921957523cc4dab6d7795a7a0d19f1cd156c1ecd3a3a08c1108c9a4 0.0s done\n",
      "#4 DONE 0.0s\n",
      "\n",
      "#5 [internal] load build context\n",
      "#5 transferring context: 69.53MB 0.8s done\n",
      "#5 DONE 0.9s\n",
      "\n",
      "#6 [2/4] WORKDIR /app\n",
      "#6 CACHED\n",
      "\n",
      "#7 [3/4] COPY . /app\n",
      "#7 CACHED\n",
      "\n",
      "#8 [4/4] RUN pip install --no-cache-dir -r requirements.txt\n",
      "#8 CACHED\n",
      "\n",
      "#9 exporting to image\n",
      "#9 exporting layers done\n",
      "#9 writing image sha256:cb8991afa77c520418991c6a348be0d92602d60f85139b387930928982074823 done\n",
      "#9 naming to docker.io/library/spend-wise-app:latest done\n",
      "#9 DONE 0.0s\n",
      "\n",
      "✅ Comando ejecutado exitosamente\n"
     ]
    }
   ],
   "source": [
    "# 2. Construir una imagen Docker\n",
    "build_command = [\"docker\", \"build\", \"-t\", full_image_name, dockerfile_path]\n",
    "execute_command(build_command)"
   ]
  },
  {
   "cell_type": "markdown",
   "metadata": {},
   "source": [
    "#### 3. Etiquetar la imagen Docker para ECR"
   ]
  },
  {
   "cell_type": "code",
   "execution_count": 7,
   "metadata": {},
   "outputs": [
    {
     "name": "stdout",
     "output_type": "stream",
     "text": [
      "\n",
      "🔧 Ejecutando comando:\n",
      "   docker tag spend-wise-app:latest 021891591921.dkr.ecr.us-east-1.amazonaws.com/spend-wise-app:latest\n",
      "\n",
      "\n",
      "✅ Comando ejecutado exitosamente\n"
     ]
    }
   ],
   "source": [
    "tag_command = [\"docker\", \"tag\", full_image_name, ecr_image_uri]\n",
    "execute_command(tag_command)"
   ]
  },
  {
   "cell_type": "markdown",
   "metadata": {},
   "source": [
    "#### 4. Autenticar Docker en ECR"
   ]
  },
  {
   "cell_type": "code",
   "execution_count": 8,
   "metadata": {},
   "outputs": [
    {
     "name": "stdout",
     "output_type": "stream",
     "text": [
      "\n",
      "🔧 Ejecutando comando:\n",
      "   aws ecr get-login-password --region us-east-1 | docker login --username AWS --password-stdin 021891591921.dkr.ecr.us-east-1.amazonaws.com/spend-wise-app\n",
      "\n",
      "WARNING! Your password will be stored unencrypted in /root/.docker/config.json.\n",
      "Configure a credential helper to remove this warning. See\n",
      "https://docs.docker.com/engine/reference/commandline/login/#credential-stores\n",
      "\n",
      "Login Succeeded\n",
      "\n",
      "✅ Comando ejecutado exitosamente\n"
     ]
    }
   ],
   "source": [
    "auth_command = f\"aws ecr get-login-password --region {region_name} | docker login --username AWS --password-stdin {ecr_repository_uri}\"\n",
    "execute_command(auth_command, shell=True)\n"
   ]
  },
  {
   "cell_type": "markdown",
   "metadata": {},
   "source": [
    "#### 5. Subir la imagen Docker a ECR"
   ]
  },
  {
   "cell_type": "code",
   "execution_count": 9,
   "metadata": {},
   "outputs": [
    {
     "name": "stdout",
     "output_type": "stream",
     "text": [
      "\n",
      "🔧 Ejecutando comando:\n",
      "   docker push 021891591921.dkr.ecr.us-east-1.amazonaws.com/spend-wise-app:latest\n",
      "\n",
      "The push refers to repository [021891591921.dkr.ecr.us-east-1.amazonaws.com/spend-wise-app]\n",
      "4a2d61c15125: Preparing\n",
      "f1aef0e66b72: Preparing\n",
      "774f5b7a188c: Preparing\n",
      "ba1a46ebf7eb: Preparing\n",
      "02d372948a25: Preparing\n",
      "bb45ff6c69ae: Preparing\n",
      "67ad16dc1c08: Preparing\n",
      "ffe60aac26fc: Preparing\n",
      "0905150af928: Preparing\n",
      "7cfafa82cfd2: Preparing\n",
      "f6faf32734e0: Preparing\n",
      "bb45ff6c69ae: Waiting\n",
      "f6faf32734e0: Waiting\n",
      "67ad16dc1c08: Waiting\n",
      "0905150af928: Waiting\n",
      "7cfafa82cfd2: Waiting\n",
      "ffe60aac26fc: Waiting\n",
      "774f5b7a188c: Pushed\n",
      "02d372948a25: Pushed\n",
      "ba1a46ebf7eb: Pushed\n",
      "f1aef0e66b72: Pushed\n",
      "bb45ff6c69ae: Pushed\n",
      "4a2d61c15125: Pushed\n",
      "67ad16dc1c08: Pushed\n",
      "7cfafa82cfd2: Pushed\n",
      "f6faf32734e0: Pushed\n",
      "0905150af928: Pushed\n",
      "ffe60aac26fc: Pushed\n",
      "latest: digest: sha256:a8a0e8c70d48ad56be5bc63ce36a2b58db616c0a7743c2a0755736ba28c58ed0 size: 2638\n",
      "\n",
      "✅ Comando ejecutado exitosamente\n"
     ]
    }
   ],
   "source": [
    "push_command = [\"docker\", \"push\", ecr_image_uri]\n",
    "execute_command(push_command)"
   ]
  },
  {
   "cell_type": "markdown",
   "metadata": {},
   "source": [
    "#### 6. Verificar la imagen subida en ECR"
   ]
  },
  {
   "cell_type": "code",
   "execution_count": 10,
   "metadata": {},
   "outputs": [
    {
     "name": "stdout",
     "output_type": "stream",
     "text": [
      "\n",
      "🔧 Ejecutando comando:\n",
      "   aws ecr describe-images --repository-name spend-wise-app --image-ids imageTag=latest\n",
      "\n",
      "{\n",
      "    \"imageDetails\": [\n",
      "        {\n",
      "            \"registryId\": \"021891591921\",\n",
      "            \"repositoryName\": \"spend-wise-app\",\n",
      "            \"imageDigest\": \"sha256:a8a0e8c70d48ad56be5bc63ce36a2b58db616c0a7743c2a0755736ba28c58ed0\",\n",
      "            \"imageTags\": [\n",
      "                \"latest\"\n",
      "            ],\n",
      "            \"imageSizeInBytes\": 427302693,\n",
      "            \"imagePushedAt\": \"2024-08-08T04:00:30+00:00\",\n",
      "            \"imageManifestMediaType\": \"application/vnd.docker.distribution.manifest.v2+json\",\n",
      "            \"artifactMediaType\": \"application/vnd.docker.container.image.v1+json\"\n",
      "        }\n",
      "    ]\n",
      "}\n",
      "\n",
      "✅ Comando ejecutado exitosamente\n"
     ]
    }
   ],
   "source": [
    "describe_images_command = f\"aws ecr describe-images --repository-name {repository_name} --image-ids imageTag={image_tag}\"\n",
    "execute_command(describe_images_command, shell=True)"
   ]
  },
  {
   "cell_type": "markdown",
   "metadata": {},
   "source": [
    "## 🚀 Despliegue de Imágenes Docker desde ECR en Instancia EC2 usando AWS SSM 🐳\n",
    "Exploraremos paso a paso el proceso de iniciar sesión en ECR, descargar la imagen y ejecutar el contenedor Docker en nuestra instancia EC2. 🔑⬇️🛠️"
   ]
  },
  {
   "cell_type": "code",
   "execution_count": 19,
   "metadata": {},
   "outputs": [
    {
     "name": "stdout",
     "output_type": "stream",
     "text": [
      "🚀 Preparando para ejecutar comandos en la instancia EC2... 🖥️\n",
      "📡 Enviando comandos a la instancia EC2 a través de SSM...\n",
      "🔄 Comando enviado, esperando a que se complete... Command ID: 39e0a43e-42fc-425d-a874-a776f1d69944\n",
      "✅ Comando finalizado con estado: Success\n",
      "📋 Salida del comando: Hit:1 http://us-east-1.ec2.archive.ubuntu.com/ubuntu noble InRelease\n",
      "Hit:2 http://us-east-1.ec2.archive.ubuntu.com/ubuntu noble-updates InRelease\n",
      "Hit:3 http://us-east-1.ec2.archive.ubuntu.com/ubuntu noble-backports InRelease\n",
      "Hit:4 http://security.ubuntu.com/ubuntu noble-security InRelease\n",
      "Hit:5 https://download.docker.com/linux/ubuntu noble InRelease\n",
      "Reading package lists...\n",
      "Reading package lists...\n",
      "Building dependency tree...\n",
      "Reading state information...\n",
      "python3-pip is already the newest version (24.0+dfsg-1ubuntu1).\n",
      "0 upgraded, 0 newly installed, 0 to remove and 32 not upgraded.\n",
      "latest: Pulling from spend-wise-app\n",
      "Digest: sha256:a8a0e8c70d48ad56be5bc63ce36a2b58db616c0a7743c2a0755736ba28c58ed0\n",
      "Status: Image is up to date for 021891591921.dkr.ecr.us-east-1.amazonaws.com/spend-wise-app:latest\n",
      "021891591921.dkr.ecr.us-east-1.amazonaws.com/spend-wise-app:latest\n",
      "0e9c9ea74dfe25c8a0897d565e3c4613475ef3dfc973c826813923facc586167\n",
      "\n",
      "❌ Errores del comando: error: externally-managed-environment\n",
      "\n",
      "× This environment is externally managed\n",
      "╰─> To install Python packages system-wide, try apt install\n",
      "    python3-xyz, where xyz is the package you are trying to\n",
      "    install.\n",
      "    \n",
      "    If you wish to install a non-Debian-packaged Python package,\n",
      "    create a virtual environment using python3 -m venv path/to/venv.\n",
      "    Then use path/to/venv/bin/python and path/to/venv/bin/pip. Make\n",
      "    sure you have python3-full installed.\n",
      "    \n",
      "    If you wish to install a non-Debian packaged Python application,\n",
      "    it may be easiest to use pipx install xyz, which will manage a\n",
      "    virtual environment for you. Make sure you have pipx installed.\n",
      "    \n",
      "    See /usr/share/doc/python3.12/README.venv for more information.\n",
      "\n",
      "note: If you believe this is a mistake, please contact your Python installation or OS distribution provider. You can override this, at the risk of breaking your Python installation or OS, by passing --break-system-packages.\n",
      "hint: See PEP 668 for the detailed specification.\n",
      "WARNING! Your password will be stored unencrypted in /root/.docker/config.json.\n",
      "Configure a credential helper to remove this warning. See\n",
      "https://docs.docker.com/engine/reference/commandline/login/#credential-stores\n",
      "\n",
      "/var/lib/amazon/ssm/i-08abba30d5494b6fc/document/orchestration/39e0a43e-42fc-425d-a874-a776f1d69944/awsrunShellScript/0.awsrunShellScript/_script.sh: 2: Login: not found\n",
      "\n",
      "🎉 Proceso completado exitosamente. El contenedor Docker debería estar ejecutándose en la instancia EC2. 🐳\n"
     ]
    }
   ],
   "source": [
    "import boto3\n",
    "import time\n",
    "\n",
    "def run_command(instance_id, commands):\n",
    "    ssm = boto3.client('ssm')\n",
    "    \n",
    "    print(\"📡 Enviando comandos a la instancia EC2 a través de SSM...\")\n",
    "    response = ssm.send_command(\n",
    "        InstanceIds=[instance_id],\n",
    "        DocumentName='AWS-RunShellScript',\n",
    "        Parameters={'commands': commands}\n",
    "    )\n",
    "    \n",
    "    command_id = response['Command']['CommandId']\n",
    "    print(f\"🔄 Comando enviado, esperando a que se complete... Command ID: {command_id}\")\n",
    "    \n",
    "    # Poll for command status\n",
    "    while True:\n",
    "        time.sleep(2)\n",
    "        output = ssm.get_command_invocation(\n",
    "            CommandId=command_id,\n",
    "            InstanceId=instance_id,\n",
    "        )\n",
    "        \n",
    "        if output['Status'] not in ['Pending', 'InProgress']:\n",
    "            break\n",
    "    \n",
    "    print(f\"✅ Comando finalizado con estado: {output['Status']}\")\n",
    "    print(f\"📋 Salida del comando: {output['StandardOutputContent']}\")\n",
    "    print(f\"❌ Errores del comando: {output['StandardErrorContent']}\")\n",
    "\n",
    "    if output['Status'] == 'Success':\n",
    "        print(\"🎉 Proceso completado exitosamente. El contenedor Docker debería estar ejecutándose en la instancia EC2. 🐳\")\n",
    "    else:\n",
    "        print(\"⚠️ El proceso no se completó correctamente. Revisa los errores y ajusta los comandos según sea necesario.\")\n",
    "\n",
    "# Ejemplo de uso\n",
    "instance_id = 'i-08abba30d5494b6fc'\n",
    "ecr_repository_uri = '021891591921.dkr.ecr.us-east-1.amazonaws.com/spend-wise-app'\n",
    "ecr_image_tag = 'latest'\n",
    "\n",
    "commands = [\n",
    "    # Instalar AWS CLI si no está instalado\n",
    "    \"apt-get update && apt-get install -y python3-pip && pip3 install awscli\",\n",
    "    \n",
    "    # Iniciar sesión en ECR\n",
    "    \"$(aws ecr get-login-password --region us-east-1 | docker login --username AWS --password-stdin 021891591921.dkr.ecr.us-east-1.amazonaws.com)\",\n",
    "    \n",
    "    # Descargar la imagen de ECR\n",
    "    f\"docker pull {ecr_repository_uri}:{ecr_image_tag}\",\n",
    "    \n",
    "    # Ejecutar el contenedor\n",
    "    f\"docker run -d --name spend-wise-app {ecr_repository_uri}:{ecr_image_tag}\"\n",
    "]\n",
    "\n",
    "print(\"🚀 Preparando para ejecutar comandos en la instancia EC2... 🖥️\")\n",
    "run_command(instance_id, commands)\n"
   ]
  },
  {
   "cell_type": "markdown",
   "metadata": {},
   "source": [
    "# 📂 Creación de Bucket S3 para Logs 🚀"
   ]
  },
  {
   "cell_type": "markdown",
   "metadata": {},
   "source": [
    "La creación de un bucket S3 para almacenar logs es una práctica esencial para mantener un registro de las actividades y eventos en tu infraestructura en la nube. 🌐\n",
    "\n",
    "### 🌐 Amazon S3 (Simple Storage Service) 🚀\n",
    "Amazon S3 es un servicio de almacenamiento de objetos en la nube que permite almacenar y recuperar datos desde cualquier lugar en la web. 📂\n",
    "\n",
    "#### Usos comunes:\n",
    "- Copias de seguridad y recuperación 🗃️\n",
    "- Almacenamiento de archivos multimedia 🎥📸\n",
    "- Distribución de contenidos 🌐\n",
    "- Datos de Big Data 📈\n",
    "- Datos para aplicaciones web/móviles 📱💻\n",
    "- Logs y auditorías 📜\n",
    "- Código de Creación de Bucket S3 🛠️"
   ]
  },
  {
   "cell_type": "code",
   "execution_count": 21,
   "metadata": {},
   "outputs": [
    {
     "name": "stdout",
     "output_type": "stream",
     "text": [
      "🔧 Importando bibliotecas...\n",
      "🔌 Cliente de S3 creado.\n",
      "🔢 Identificador aleatorio generado: 3472ab2d-84f8-49d0-a03e-9ef5cc2676a3\n",
      "🪣 Nombre del bucket generado: spend-wise-app-logs-3472ab2d-84f8-49d0-a03e-9ef5cc2676a3\n",
      "✅ Bucket spend-wise-app-logs-3472ab2d-84f8-49d0-a03e-9ef5cc2676a3 creado exitosamente.\n"
     ]
    }
   ],
   "source": [
    "import boto3\n",
    "import uuid\n",
    "\n",
    "# 🛠️ Importar bibliotecas necesarias\n",
    "print(\"🔧 Importando bibliotecas...\")\n",
    "\n",
    "# Crear un cliente de S3\n",
    "s3 = boto3.client('s3')\n",
    "print(\"🔌 Cliente de S3 creado.\")\n",
    "\n",
    "# Generar un identificador aleatorio\n",
    "random_id = str(uuid.uuid4())\n",
    "print(f\"🔢 Identificador aleatorio generado: {random_id}\")\n",
    "\n",
    "# Nombre del bucket\n",
    "bucket_name = f'spend-wise-app-logs-{random_id}'\n",
    "print(f\"🪣 Nombre del bucket generado: {bucket_name}\")\n",
    "\n",
    "# Crear el bucket\n",
    "try:\n",
    "    response = s3.create_bucket(\n",
    "        Bucket=bucket_name\n",
    "    )\n",
    "    print(f'✅ Bucket {bucket_name} creado exitosamente.')\n",
    "except Exception as e:\n",
    "    print(f'⚠️ Error al crear el bucket: {e}')\n"
   ]
  },
  {
   "cell_type": "markdown",
   "metadata": {},
   "source": [
    "# Serverless (AWS Lambda) ⚡"
   ]
  },
  {
   "cell_type": "markdown",
   "metadata": {},
   "source": [
    "La computación serverless permite ejecutar código sin provisionar ni administrar servidores. AWS Lambda es el servicio serverless de AWS.\n",
    "\n",
    "Características:\n",
    "- No hay que gestionar servidores 🛠️\n",
    "- Escalado automático e instantáneo 📈\n",
    "- Facturación por milisegundo de ejecución ⏱️\n",
    "- Ideal para cargas de trabajo intermitentes 🌐\n",
    "- Limitado en tiempo de ejecución y recursos ⏳"
   ]
  },
  {
   "cell_type": "markdown",
   "metadata": {},
   "source": [
    "### [wip]"
   ]
  },
  {
   "cell_type": "code",
   "execution_count": 22,
   "metadata": {},
   "outputs": [
    {
     "name": "stdout",
     "output_type": "stream",
     "text": [
      "🎉 Iniciando el proceso de despliegue de Lambda...\n",
      "\n",
      "👤 Verificando el rol IAM: my-lambda-execution-role\n",
      "🆕 Creando un nuevo rol: my-lambda-execution-role\n",
      "✅ Rol my-lambda-execution-role creado exitosamente\n",
      "🔑 Usando el ARN del rol IAM: arn:aws:iam::021891591921:role/my-lambda-execution-role\n",
      "\n",
      "🚀 Creando el repositorio ECR: my-lambda-repo\n",
      "✅ ¡Repositorio creado exitosamente!\n",
      "📦 URI del repositorio ECR: 021891591921.dkr.ecr.us-east-1.amazonaws.com/my-lambda-repo\n",
      "\n",
      "🏗️ Construyendo y empujando la imagen Docker:\n",
      "  1. Autenticarse con Amazon ECR\n",
      "  2. Construir la imagen Docker\n",
      "  3. Etiquetar la imagen\n",
      "  4. Empujar la imagen a ECR\n",
      "\n",
      "🔑 Obteniendo token de inicio de sesión de ECR...\n",
      "\n",
      "🏗️ Construyendo la imagen Docker...\n"
     ]
    },
    {
     "ename": "FileNotFoundError",
     "evalue": "[Errno 2] No such file or directory: 'lambda'",
     "output_type": "error",
     "traceback": [
      "\u001b[0;31m---------------------------------------------------------------------------\u001b[0m",
      "\u001b[0;31mFileNotFoundError\u001b[0m                         Traceback (most recent call last)",
      "Cell \u001b[0;32mIn[22], line 145\u001b[0m\n\u001b[1;32m    142\u001b[0m \u001b[38;5;28mprint\u001b[39m(\u001b[38;5;124mf\u001b[39m\u001b[38;5;124m\"\u001b[39m\u001b[38;5;124m📦 URI del repositorio ECR: \u001b[39m\u001b[38;5;132;01m{\u001b[39;00mrepo_uri\u001b[38;5;132;01m}\u001b[39;00m\u001b[38;5;124m\"\u001b[39m)\n\u001b[1;32m    144\u001b[0m \u001b[38;5;66;03m# Step 2: Construir y empujar la imagen Docker\u001b[39;00m\n\u001b[0;32m--> 145\u001b[0m \u001b[43mbuild_and_push_image\u001b[49m\u001b[43m(\u001b[49m\u001b[43mrepo_uri\u001b[49m\u001b[43m,\u001b[49m\u001b[43m \u001b[49m\u001b[43mdockerfile_path\u001b[49m\u001b[43m,\u001b[49m\u001b[43m \u001b[49m\u001b[43mimage_tag\u001b[49m\u001b[43m)\u001b[49m\n\u001b[1;32m    147\u001b[0m \u001b[38;5;66;03m# Step 3: Crear y desplegar la función Lambda\u001b[39;00m\n\u001b[1;32m    148\u001b[0m function_arn \u001b[38;5;241m=\u001b[39m create_lambda_function(function_name, repo_uri, image_tag, role_arn, bucket_name, url_to_fetch)\n",
      "Cell \u001b[0;32mIn[22], line 92\u001b[0m, in \u001b[0;36mbuild_and_push_image\u001b[0;34m(repo_uri, dockerfile_path, image_tag)\u001b[0m\n\u001b[1;32m     89\u001b[0m registry \u001b[38;5;241m=\u001b[39m token[\u001b[38;5;124m'\u001b[39m\u001b[38;5;124mauthorizationData\u001b[39m\u001b[38;5;124m'\u001b[39m][\u001b[38;5;241m0\u001b[39m][\u001b[38;5;124m'\u001b[39m\u001b[38;5;124mproxyEndpoint\u001b[39m\u001b[38;5;124m'\u001b[39m]\n\u001b[1;32m     91\u001b[0m \u001b[38;5;28mprint\u001b[39m(\u001b[38;5;124mf\u001b[39m\u001b[38;5;124m\"\u001b[39m\u001b[38;5;130;01m\\n\u001b[39;00m\u001b[38;5;124m🏗️ Construyendo la imagen Docker...\u001b[39m\u001b[38;5;124m\"\u001b[39m)\n\u001b[0;32m---> 92\u001b[0m \u001b[43msubprocess\u001b[49m\u001b[38;5;241;43m.\u001b[39;49m\u001b[43mrun\u001b[49m\u001b[43m(\u001b[49m\u001b[43m[\u001b[49m\u001b[38;5;124;43m'\u001b[39;49m\u001b[38;5;124;43mdocker\u001b[39;49m\u001b[38;5;124;43m'\u001b[39;49m\u001b[43m,\u001b[49m\u001b[43m \u001b[49m\u001b[38;5;124;43m'\u001b[39;49m\u001b[38;5;124;43mbuild\u001b[39;49m\u001b[38;5;124;43m'\u001b[39;49m\u001b[43m,\u001b[49m\u001b[43m \u001b[49m\u001b[38;5;124;43m'\u001b[39;49m\u001b[38;5;124;43m-t\u001b[39;49m\u001b[38;5;124;43m'\u001b[39;49m\u001b[43m,\u001b[49m\u001b[43m \u001b[49m\u001b[38;5;124;43mf\u001b[39;49m\u001b[38;5;124;43m'\u001b[39;49m\u001b[38;5;132;43;01m{\u001b[39;49;00m\u001b[43mrepo_uri\u001b[49m\u001b[38;5;132;43;01m}\u001b[39;49;00m\u001b[38;5;124;43m:\u001b[39;49m\u001b[38;5;132;43;01m{\u001b[39;49;00m\u001b[43mimage_tag\u001b[49m\u001b[38;5;132;43;01m}\u001b[39;49;00m\u001b[38;5;124;43m'\u001b[39;49m\u001b[43m,\u001b[49m\u001b[43m \u001b[49m\u001b[38;5;124;43m'\u001b[39;49m\u001b[38;5;124;43m-f\u001b[39;49m\u001b[38;5;124;43m'\u001b[39;49m\u001b[43m,\u001b[49m\u001b[43m \u001b[49m\u001b[43mdockerfile_path\u001b[49m\u001b[43m,\u001b[49m\u001b[43m \u001b[49m\u001b[38;5;124;43m'\u001b[39;49m\u001b[38;5;124;43m.\u001b[39;49m\u001b[38;5;124;43m'\u001b[39;49m\u001b[43m]\u001b[49m\u001b[43m,\u001b[49m\u001b[43m \u001b[49m\u001b[43mcwd\u001b[49m\u001b[38;5;241;43m=\u001b[39;49m\u001b[38;5;124;43m'\u001b[39;49m\u001b[38;5;124;43mlambda\u001b[39;49m\u001b[38;5;124;43m'\u001b[39;49m\u001b[43m,\u001b[49m\u001b[43m \u001b[49m\u001b[43mcheck\u001b[49m\u001b[38;5;241;43m=\u001b[39;49m\u001b[38;5;28;43;01mTrue\u001b[39;49;00m\u001b[43m)\u001b[49m\n\u001b[1;32m     93\u001b[0m \u001b[38;5;28mprint\u001b[39m(\u001b[38;5;124mf\u001b[39m\u001b[38;5;124m\"\u001b[39m\u001b[38;5;124m✅ Imagen Docker construida exitosamente!\u001b[39m\u001b[38;5;124m\"\u001b[39m)\n\u001b[1;32m     95\u001b[0m \u001b[38;5;28mprint\u001b[39m(\u001b[38;5;124mf\u001b[39m\u001b[38;5;124m\"\u001b[39m\u001b[38;5;130;01m\\n\u001b[39;00m\u001b[38;5;124m🔐 Iniciando sesión en ECR...\u001b[39m\u001b[38;5;124m\"\u001b[39m)\n",
      "File \u001b[0;32m/usr/local/lib/python3.12/subprocess.py:548\u001b[0m, in \u001b[0;36mrun\u001b[0;34m(input, capture_output, timeout, check, *popenargs, **kwargs)\u001b[0m\n\u001b[1;32m    545\u001b[0m     kwargs[\u001b[38;5;124m'\u001b[39m\u001b[38;5;124mstdout\u001b[39m\u001b[38;5;124m'\u001b[39m] \u001b[38;5;241m=\u001b[39m PIPE\n\u001b[1;32m    546\u001b[0m     kwargs[\u001b[38;5;124m'\u001b[39m\u001b[38;5;124mstderr\u001b[39m\u001b[38;5;124m'\u001b[39m] \u001b[38;5;241m=\u001b[39m PIPE\n\u001b[0;32m--> 548\u001b[0m \u001b[38;5;28;01mwith\u001b[39;00m \u001b[43mPopen\u001b[49m\u001b[43m(\u001b[49m\u001b[38;5;241;43m*\u001b[39;49m\u001b[43mpopenargs\u001b[49m\u001b[43m,\u001b[49m\u001b[43m \u001b[49m\u001b[38;5;241;43m*\u001b[39;49m\u001b[38;5;241;43m*\u001b[39;49m\u001b[43mkwargs\u001b[49m\u001b[43m)\u001b[49m \u001b[38;5;28;01mas\u001b[39;00m process:\n\u001b[1;32m    549\u001b[0m     \u001b[38;5;28;01mtry\u001b[39;00m:\n\u001b[1;32m    550\u001b[0m         stdout, stderr \u001b[38;5;241m=\u001b[39m process\u001b[38;5;241m.\u001b[39mcommunicate(\u001b[38;5;28minput\u001b[39m, timeout\u001b[38;5;241m=\u001b[39mtimeout)\n",
      "File \u001b[0;32m/usr/local/lib/python3.12/subprocess.py:1026\u001b[0m, in \u001b[0;36mPopen.__init__\u001b[0;34m(self, args, bufsize, executable, stdin, stdout, stderr, preexec_fn, close_fds, shell, cwd, env, universal_newlines, startupinfo, creationflags, restore_signals, start_new_session, pass_fds, user, group, extra_groups, encoding, errors, text, umask, pipesize, process_group)\u001b[0m\n\u001b[1;32m   1022\u001b[0m         \u001b[38;5;28;01mif\u001b[39;00m \u001b[38;5;28mself\u001b[39m\u001b[38;5;241m.\u001b[39mtext_mode:\n\u001b[1;32m   1023\u001b[0m             \u001b[38;5;28mself\u001b[39m\u001b[38;5;241m.\u001b[39mstderr \u001b[38;5;241m=\u001b[39m io\u001b[38;5;241m.\u001b[39mTextIOWrapper(\u001b[38;5;28mself\u001b[39m\u001b[38;5;241m.\u001b[39mstderr,\n\u001b[1;32m   1024\u001b[0m                     encoding\u001b[38;5;241m=\u001b[39mencoding, errors\u001b[38;5;241m=\u001b[39merrors)\n\u001b[0;32m-> 1026\u001b[0m     \u001b[38;5;28;43mself\u001b[39;49m\u001b[38;5;241;43m.\u001b[39;49m\u001b[43m_execute_child\u001b[49m\u001b[43m(\u001b[49m\u001b[43margs\u001b[49m\u001b[43m,\u001b[49m\u001b[43m \u001b[49m\u001b[43mexecutable\u001b[49m\u001b[43m,\u001b[49m\u001b[43m \u001b[49m\u001b[43mpreexec_fn\u001b[49m\u001b[43m,\u001b[49m\u001b[43m \u001b[49m\u001b[43mclose_fds\u001b[49m\u001b[43m,\u001b[49m\n\u001b[1;32m   1027\u001b[0m \u001b[43m                        \u001b[49m\u001b[43mpass_fds\u001b[49m\u001b[43m,\u001b[49m\u001b[43m \u001b[49m\u001b[43mcwd\u001b[49m\u001b[43m,\u001b[49m\u001b[43m \u001b[49m\u001b[43menv\u001b[49m\u001b[43m,\u001b[49m\n\u001b[1;32m   1028\u001b[0m \u001b[43m                        \u001b[49m\u001b[43mstartupinfo\u001b[49m\u001b[43m,\u001b[49m\u001b[43m \u001b[49m\u001b[43mcreationflags\u001b[49m\u001b[43m,\u001b[49m\u001b[43m \u001b[49m\u001b[43mshell\u001b[49m\u001b[43m,\u001b[49m\n\u001b[1;32m   1029\u001b[0m \u001b[43m                        \u001b[49m\u001b[43mp2cread\u001b[49m\u001b[43m,\u001b[49m\u001b[43m \u001b[49m\u001b[43mp2cwrite\u001b[49m\u001b[43m,\u001b[49m\n\u001b[1;32m   1030\u001b[0m \u001b[43m                        \u001b[49m\u001b[43mc2pread\u001b[49m\u001b[43m,\u001b[49m\u001b[43m \u001b[49m\u001b[43mc2pwrite\u001b[49m\u001b[43m,\u001b[49m\n\u001b[1;32m   1031\u001b[0m \u001b[43m                        \u001b[49m\u001b[43merrread\u001b[49m\u001b[43m,\u001b[49m\u001b[43m \u001b[49m\u001b[43merrwrite\u001b[49m\u001b[43m,\u001b[49m\n\u001b[1;32m   1032\u001b[0m \u001b[43m                        \u001b[49m\u001b[43mrestore_signals\u001b[49m\u001b[43m,\u001b[49m\n\u001b[1;32m   1033\u001b[0m \u001b[43m                        \u001b[49m\u001b[43mgid\u001b[49m\u001b[43m,\u001b[49m\u001b[43m \u001b[49m\u001b[43mgids\u001b[49m\u001b[43m,\u001b[49m\u001b[43m \u001b[49m\u001b[43muid\u001b[49m\u001b[43m,\u001b[49m\u001b[43m \u001b[49m\u001b[43mumask\u001b[49m\u001b[43m,\u001b[49m\n\u001b[1;32m   1034\u001b[0m \u001b[43m                        \u001b[49m\u001b[43mstart_new_session\u001b[49m\u001b[43m,\u001b[49m\u001b[43m \u001b[49m\u001b[43mprocess_group\u001b[49m\u001b[43m)\u001b[49m\n\u001b[1;32m   1035\u001b[0m \u001b[38;5;28;01mexcept\u001b[39;00m:\n\u001b[1;32m   1036\u001b[0m     \u001b[38;5;66;03m# Cleanup if the child failed starting.\u001b[39;00m\n\u001b[1;32m   1037\u001b[0m     \u001b[38;5;28;01mfor\u001b[39;00m f \u001b[38;5;129;01min\u001b[39;00m \u001b[38;5;28mfilter\u001b[39m(\u001b[38;5;28;01mNone\u001b[39;00m, (\u001b[38;5;28mself\u001b[39m\u001b[38;5;241m.\u001b[39mstdin, \u001b[38;5;28mself\u001b[39m\u001b[38;5;241m.\u001b[39mstdout, \u001b[38;5;28mself\u001b[39m\u001b[38;5;241m.\u001b[39mstderr)):\n",
      "File \u001b[0;32m/usr/local/lib/python3.12/subprocess.py:1955\u001b[0m, in \u001b[0;36mPopen._execute_child\u001b[0;34m(self, args, executable, preexec_fn, close_fds, pass_fds, cwd, env, startupinfo, creationflags, shell, p2cread, p2cwrite, c2pread, c2pwrite, errread, errwrite, restore_signals, gid, gids, uid, umask, start_new_session, process_group)\u001b[0m\n\u001b[1;32m   1953\u001b[0m     err_msg \u001b[38;5;241m=\u001b[39m os\u001b[38;5;241m.\u001b[39mstrerror(errno_num)\n\u001b[1;32m   1954\u001b[0m \u001b[38;5;28;01mif\u001b[39;00m err_filename \u001b[38;5;129;01mis\u001b[39;00m \u001b[38;5;129;01mnot\u001b[39;00m \u001b[38;5;28;01mNone\u001b[39;00m:\n\u001b[0;32m-> 1955\u001b[0m     \u001b[38;5;28;01mraise\u001b[39;00m child_exception_type(errno_num, err_msg, err_filename)\n\u001b[1;32m   1956\u001b[0m \u001b[38;5;28;01melse\u001b[39;00m:\n\u001b[1;32m   1957\u001b[0m     \u001b[38;5;28;01mraise\u001b[39;00m child_exception_type(errno_num, err_msg)\n",
      "\u001b[0;31mFileNotFoundError\u001b[0m: [Errno 2] No such file or directory: 'lambda'"
     ]
    }
   ],
   "source": [
    "import boto3\n",
    "import base64\n",
    "import os\n",
    "import subprocess\n",
    "import json\n",
    "\n",
    "# Inicializar clientes de boto3\n",
    "ecr_client = boto3.client('ecr')\n",
    "lambda_client = boto3.client('lambda')\n",
    "iam_client = boto3.client('iam')\n",
    "\n",
    "# Step 0: Crear o obtener el rol IAM\n",
    "def create_or_get_lambda_role(role_name, bucket_name):\n",
    "    print(f\"\\n👤 Verificando el rol IAM: {role_name}\")\n",
    "    try:\n",
    "        response = iam_client.get_role(RoleName=role_name)\n",
    "        print(f\"✅ El rol {role_name} ya existe\")\n",
    "        return response['Role']['Arn']\n",
    "    except iam_client.exceptions.NoSuchEntityException:\n",
    "        print(f\"🆕 Creando un nuevo rol: {role_name}\")\n",
    "        assume_role_policy = {\n",
    "            \"Version\": \"2012-10-17\",\n",
    "            \"Statement\": [\n",
    "                {\n",
    "                    \"Effect\": \"Allow\",\n",
    "                    \"Principal\": {\n",
    "                        \"Service\": \"lambda.amazonaws.com\"\n",
    "                    },\n",
    "                    \"Action\": \"sts:AssumeRole\"\n",
    "                }\n",
    "            ]\n",
    "        }\n",
    "        response = iam_client.create_role(\n",
    "            RoleName=role_name,\n",
    "            AssumeRolePolicyDocument=json.dumps(assume_role_policy)\n",
    "        )\n",
    "        \n",
    "        # Adjuntar política de ejecución básica\n",
    "        iam_client.attach_role_policy(\n",
    "            RoleName=role_name,\n",
    "            PolicyArn='arn:aws:iam::aws:policy/service-role/AWSLambdaBasicExecutionRole'\n",
    "        )\n",
    "        \n",
    "        # Adjuntar política personalizada para acceso a S3\n",
    "        s3_policy = {\n",
    "            \"Version\": \"2012-10-17\",\n",
    "            \"Statement\": [\n",
    "                {\n",
    "                    \"Effect\": \"Allow\",\n",
    "                    \"Action\": [\n",
    "                        \"s3:PutObject\",\n",
    "                        \"s3:GetObject\"\n",
    "                    ],\n",
    "                    \"Resource\": f\"arn:aws:s3:::{bucket_name}/*\"\n",
    "                }\n",
    "            ]\n",
    "        }\n",
    "        iam_client.put_role_policy(\n",
    "            RoleName=role_name,\n",
    "            PolicyName='S3AccessPolicy',\n",
    "            PolicyDocument=json.dumps(s3_policy)\n",
    "        )\n",
    "        \n",
    "        print(f\"✅ Rol {role_name} creado exitosamente\")\n",
    "        return response['Role']['Arn']\n",
    "\n",
    "# Step 1: Crear repositorio ECR\n",
    "def create_ecr_repository(repo_name):\n",
    "    print(f\"\\n🚀 Creando el repositorio ECR: {repo_name}\")\n",
    "    try:\n",
    "        response = ecr_client.create_repository(repositoryName=repo_name)\n",
    "        print(f\"✅ ¡Repositorio creado exitosamente!\")\n",
    "        return response['repository']['repositoryUri']\n",
    "    except ecr_client.exceptions.RepositoryAlreadyExistsException:\n",
    "        print(f\"ℹ️ El repositorio ya existe. Obteniendo URI...\")\n",
    "        return ecr_client.describe_repositories(repositoryNames=[repo_name])['repositories'][0]['repositoryUri']\n",
    "\n",
    "# Step 2: Construir y empujar la imagen Docker a ECR\n",
    "def build_and_push_image(repo_uri, dockerfile_path, image_tag):\n",
    "    print(\"\\n🏗️ Construyendo y empujando la imagen Docker:\")\n",
    "    print(\"  1. Autenticarse con Amazon ECR\")\n",
    "    print(\"  2. Construir la imagen Docker\")\n",
    "    print(\"  3. Etiquetar la imagen\")\n",
    "    print(\"  4. Empujar la imagen a ECR\")\n",
    "\n",
    "    print(f\"\\n🔑 Obteniendo token de inicio de sesión de ECR...\")\n",
    "    token = ecr_client.get_authorization_token()\n",
    "    username, password = base64.b64decode(token['authorizationData'][0]['authorizationToken']).decode().split(':')\n",
    "    registry = token['authorizationData'][0]['proxyEndpoint']\n",
    "\n",
    "    print(f\"\\n🏗️ Construyendo la imagen Docker...\")\n",
    "    subprocess.run(['docker', 'build', '-t', f'{repo_uri}:{image_tag}', '-f', dockerfile_path, '.'], cwd='lambda', check=True)\n",
    "    print(f\"✅ Imagen Docker construida exitosamente!\")\n",
    "\n",
    "    print(f\"\\n🔐 Iniciando sesión en ECR...\")\n",
    "    subprocess.run(['docker', 'login', '--username', username, '--password', password, registry], check=True)\n",
    "    print(f\"✅ Sesión iniciada en ECR exitosamente!\")\n",
    "\n",
    "    print(f\"\\n⬆️ Empujando la imagen a ECR...\")\n",
    "    subprocess.run(['docker', 'push', f'{repo_uri}:{image_tag}'], check=True)\n",
    "    print(f\"✅ Imagen empujada a ECR exitosamente!\")\n",
    "\n",
    "# Step 3: Crear y desplegar la función Lambda\n",
    "def create_lambda_function(function_name, repo_uri, image_tag, role_arn, bucket_name, url_to_fetch):\n",
    "    print(f\"\\n⚙️ Creando la función Lambda: {function_name}\")\n",
    "    \n",
    "    response = lambda_client.create_function(\n",
    "        FunctionName=function_name,\n",
    "        PackageType='Image',\n",
    "        Code={'ImageUri': f'{repo_uri}:{image_tag}'},\n",
    "        Role=role_arn,\n",
    "        Timeout=30,\n",
    "        MemorySize=256,\n",
    "        Environment={\n",
    "            'Variables': {\n",
    "                'BUCKET_NAME': bucket_name,\n",
    "                'URL_TO_FETCH': url_to_fetch\n",
    "            }\n",
    "        }\n",
    "    )\n",
    "    \n",
    "    print(f\"\\n✅ Función Lambda creada exitosamente!\")\n",
    "    return response['FunctionArn']\n",
    "\n",
    "# Ejecución principal\n",
    "repo_name = 'my-lambda-repo'\n",
    "image_tag = 'latest'\n",
    "function_name = 'my-lambda-function'\n",
    "dockerfile_path = 'Dockerfile'\n",
    "role_name = 'my-lambda-execution-role'\n",
    "bucket_name = 'nombre-unico-del-bucket'\n",
    "url_to_fetch = 'https://api.example.com/data'\n",
    "\n",
    "print(\"🎉 Iniciando el proceso de despliegue de Lambda...\")\n",
    "    \n",
    "# Step 0: Crear o obtener el rol IAM\n",
    "role_arn = create_or_get_lambda_role(role_name, bucket_name)\n",
    "print(f\"🔑 Usando el ARN del rol IAM: {role_arn}\")\n",
    "\n",
    "# Step 1: Crear repositorio ECR\n",
    "repo_uri = create_ecr_repository(repo_name)\n",
    "print(f\"📦 URI del repositorio ECR: {repo_uri}\")\n",
    "\n",
    "# Step 2: Construir y empujar la imagen Docker\n",
    "build_and_push_image(repo_uri, dockerfile_path, image_tag)\n",
    "\n",
    "# Step 3: Crear y desplegar la función Lambda\n",
    "function_arn = create_lambda_function(function_name, repo_uri, image_tag, role_arn, bucket_name, url_to_fetch)\n",
    "print(f\"🎊 Función Lambda creada con ARN: {function_arn}\")\n",
    "\n",
    "print(\"\\n🏁 Proceso de despliegue completado exitosamente!\")\n"
   ]
  },
  {
   "cell_type": "markdown",
   "metadata": {},
   "source": [
    "## [WIP] Contenedores (ECS en AWS)"
   ]
  },
  {
   "cell_type": "markdown",
   "metadata": {},
   "source": [
    "Los contenedores son unidades estándar de software que empaquetan el código y todas sus dependencias.\n",
    "AWS ECS (Elastic Container Service) es un servicio de orquestación de contenedores.\n",
    "\n",
    "Características:\n",
    "- Ligeros y portables\n",
    "- Aislamiento de aplicaciones\n",
    "- Rápido despliegue y escalado\n",
    "- Eficiente uso de recursos\n",
    "- Ideal para microservicios"
   ]
  },
  {
   "cell_type": "markdown",
   "metadata": {},
   "source": [
    "### [WIP] Ejemplo: Crear un cluster ECS"
   ]
  },
  {
   "cell_type": "code",
   "execution_count": null,
   "metadata": {},
   "outputs": [],
   "source": [
    "def create_ecs_cluster(cluster_name):\n",
    "    response = ecs.create_cluster(clusterName=cluster_name)\n",
    "    return response['cluster']['clusterArn']\n",
    "\n",
    "cluster_arn = create_ecs_cluster('MiClusterECS')\n",
    "print(f\"Cluster ECS creado con ARN: {cluster_arn}\")"
   ]
  },
  {
   "cell_type": "markdown",
   "metadata": {},
   "source": [
    "## Comparación de servicios"
   ]
  },
  {
   "cell_type": "markdown",
   "metadata": {},
   "source": [
    "1. IAM:\n",
    "   - Gestión centralizada de accesos\n",
    "   - Crucial para la seguridad en la nube\n",
    "   - Se integra con todos los servicios AWS\n",
    "   - Sin costo adicional\n",
    "\n",
    "2. Máquinas Virtuales (EC2):\n",
    "   - Mayor control y flexibilidad\n",
    "   - Requiere más gestión\n",
    "   - Mejor para aplicaciones que necesitan el sistema operativo completo\n",
    "   - Costo: Puede ser más alto para cargas de trabajo intermitentes\n",
    "\n",
    "3. Serverless (Lambda):\n",
    "   - Sin gestión de servidores\n",
    "   - Escalado automático\n",
    "   - Ideal para microservicios y funciones específicas\n",
    "   - Costo: Muy eficiente para cargas de trabajo variables\n",
    "\n",
    "4. Contenedores (ECS):\n",
    "   - Portabilidad y consistencia\n",
    "   - Menos sobrecarga que las VMs\n",
    "   - Bueno para microservicios y aplicaciones distribuidas\n",
    "   - Costo: Equilibrio entre VMs y serverless\n",
    "\n",
    "La elección depende de los requisitos específicos de tu aplicación, \n",
    "la experiencia de tu equipo y las necesidades de gestión y escalabilidad."
   ]
  }
 ],
 "metadata": {
  "kernelspec": {
   "display_name": "Python 3 (ipykernel)",
   "language": "python",
   "name": "python3"
  },
  "language_info": {
   "codemirror_mode": {
    "name": "ipython",
    "version": 3
   },
   "file_extension": ".py",
   "mimetype": "text/x-python",
   "name": "python",
   "nbconvert_exporter": "python",
   "pygments_lexer": "ipython3",
   "version": "3.12.5"
  }
 },
 "nbformat": 4,
 "nbformat_minor": 4
}
