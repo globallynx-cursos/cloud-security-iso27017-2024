{
 "cells": [
  {
   "cell_type": "markdown",
   "metadata": {},
   "source": [
    "# 📚 Cifrado ISO 27017 con AWS KMS y S3"
   ]
  },
  {
   "cell_type": "markdown",
   "metadata": {},
   "source": [
    "## Introducción sobre KMS y ISO 27017\n",
    "### KMS (Key Management Service)\n",
    "\n",
    "- 🔒 Servicio de AWS para crear y gestionar claves criptográficas.\n",
    "- 🔐 Protege datos cifrados en servicios como S3.\n",
    "\n",
    "## ISO 27017\n",
    "- 🌐 Estándar de seguridad en la nube.\n",
    "- 📜 Proporciona directrices para proteger datos en la nube.\n",
    "- ✅ KMS ayuda a cumplir con ISO 27017 cifrando y protegiendo datos sensibles.\n",
    "\n",
    "## Descripción demo\n",
    "- 📦 Desarrollar la clase KMSS3Manager para manejar claves KMS y buckets S3.\n",
    "- 🔑 Métodos incluidos para:\n",
    "    - Crear claves KMS.\n",
    "    - Crear buckets S3.\n",
    "    - Configurar cifrado del bucket con KMS.\n",
    "    - Subir y descargar archivos cifrados."
   ]
  },
  {
   "cell_type": "markdown",
   "metadata": {},
   "source": [
    "## 1. Importar bibliotecas necesarias\n",
    "#### En esta sección importamos las bibliotecas necesarias para interactuar con AWS KMS y S3.\n"
   ]
  },
  {
   "cell_type": "code",
   "execution_count": 2,
   "metadata": {},
   "outputs": [],
   "source": [
    "import boto3\n",
    "import json\n",
    "import uuid\n",
    "from botocore.exceptions import ClientError"
   ]
  },
  {
   "cell_type": "markdown",
   "metadata": {},
   "source": [
    "## 2. Definir la clase KMSS3Manager\n",
    "#### Definimos una clase que manejará la creación y configuración de claves KMS y buckets S3.\n"
   ]
  },
  {
   "cell_type": "code",
   "execution_count": 3,
   "metadata": {},
   "outputs": [],
   "source": [
    "class KMSS3Manager:\n",
    "    def __init__(self, region_name='us-east-1'):\n",
    "        self.kms_client = boto3.client('kms', region_name=region_name)\n",
    "        self.s3_client = boto3.client('s3', region_name=region_name)\n",
    "        self.key_id = None\n",
    "        self.bucket_name = None"
   ]
  },
  {
   "cell_type": "markdown",
   "metadata": {},
   "source": [
    "## 2.1 Crear clave KMS\n",
    "#### Este método crea una nueva clave KMS que se usará para cifrar datos en S3."
   ]
  },
  {
   "cell_type": "code",
   "execution_count": 15,
   "metadata": {},
   "outputs": [],
   "source": [
    "def create_kms_key(self, description=\"🔐 Clave para cifrado S3 alineado con ISO 27017\"):\n",
    "    try:\n",
    "        response = self.kms_client.create_key(\n",
    "            Description=description,\n",
    "            KeyUsage='ENCRYPT_DECRYPT',\n",
    "            Origin='AWS_KMS'\n",
    "        )\n",
    "        self.key_id = response['KeyMetadata']['KeyId']\n",
    "        print(f\"🔑 Nueva clave KMS creada. ID: {self.key_id}\")\n",
    "        return self.key_id\n",
    "    except ClientError as e:\n",
    "        print(f\"❌ Error al crear la clave KMS: {e}\")\n",
    "        return None\n",
    "\n",
    "# Asignar el método a la clase KMSS3Manager\n",
    "setattr(KMSS3Manager, \"create_kms_key\", create_kms_key)\n"
   ]
  },
  {
   "cell_type": "markdown",
   "metadata": {},
   "source": [
    "## 2.2 Crear bucket S3\n",
    "### Este método crea un nuevo bucket S3 con un nombre único, utilizando un prefijo y un UUID."
   ]
  },
  {
   "cell_type": "code",
   "execution_count": 16,
   "metadata": {},
   "outputs": [],
   "source": [
    "def create_s3_bucket(self, bucket_name_prefix):\n",
    "    bucket_name = f\"{bucket_name_prefix}-{uuid.uuid4()}\"\n",
    "    try:\n",
    "        self.s3_client.create_bucket(Bucket=bucket_name)\n",
    "        self.bucket_name = bucket_name\n",
    "        print(f\"🪣 Bucket S3 creado: {bucket_name}\")\n",
    "        return True\n",
    "    except ClientError as e:\n",
    "        print(f\"❌ Error al crear el bucket S3: {e}\")\n",
    "        return False\n",
    "\n",
    "# Asignar el método a la clase KMSS3Manager\n",
    "setattr(KMSS3Manager, \"create_s3_bucket\", create_s3_bucket)\n"
   ]
  },
  {
   "cell_type": "markdown",
   "metadata": {},
   "source": [
    "## 2.3 Configurar cifrado del bucket S3\n",
    "#### Este método configura el cifrado del bucket S3 usando la clave KMS creada anteriormente.\n",
    "   "
   ]
  },
  {
   "cell_type": "code",
   "execution_count": 17,
   "metadata": {},
   "outputs": [],
   "source": [
    "def configure_s3_encryption(self):\n",
    "    if not self.key_id or not self.bucket_name:\n",
    "        print(\"⚠️ Error: Se requiere una clave KMS y un bucket S3.\")\n",
    "        return False\n",
    "    try:\n",
    "        self.s3_client.put_bucket_encryption(\n",
    "            Bucket=self.bucket_name,\n",
    "            ServerSideEncryptionConfiguration={\n",
    "                'Rules': [{\n",
    "                    'ApplyServerSideEncryptionByDefault': {\n",
    "                        'SSEAlgorithm': 'aws:kms',\n",
    "                        'KMSMasterKeyID': self.key_id\n",
    "                    }\n",
    "                }]\n",
    "            }\n",
    "        )\n",
    "        print(f\"🔒 Cifrado configurado para el bucket {self.bucket_name}\")\n",
    "        return True\n",
    "    except ClientError as e:\n",
    "        print(f\"❌ Error al configurar el cifrado del bucket: {e}\")\n",
    "        return False\n",
    "\n",
    "# Asignar el método a la clase KMSS3Manager\n",
    "setattr(KMSS3Manager, \"configure_s3_encryption\", configure_s3_encryption)\n"
   ]
  },
  {
   "cell_type": "markdown",
   "metadata": {},
   "source": [
    "## 2.4 Subir archivo al bucket S3\n",
    "#### Este método permite subir archivos al bucket S3, asegurando que estén cifrados."
   ]
  },
  {
   "cell_type": "code",
   "execution_count": 18,
   "metadata": {},
   "outputs": [],
   "source": [
    "def upload_file(self, file_name, object_name=None):\n",
    "    if object_name is None:\n",
    "        object_name = file_name\n",
    "    try:\n",
    "        self.s3_client.upload_file(file_name, self.bucket_name, object_name)\n",
    "        print(f\"📤 Archivo {file_name} subido como {object_name}\")\n",
    "        return True\n",
    "    except ClientError as e:\n",
    "        print(f\"❌ Error al subir el archivo: {e}\")\n",
    "        return False\n",
    "\n",
    "# Asignar el método a la clase KMSS3Manager\n",
    "setattr(KMSS3Manager, \"upload_file\", upload_file)\n"
   ]
  },
  {
   "cell_type": "markdown",
   "metadata": {},
   "source": [
    "## 2.5 Descargar archivo del bucket S3\n",
    "#### Este método descarga archivos desde el bucket S3, verificando que estén cifrados."
   ]
  },
  {
   "cell_type": "code",
   "execution_count": 19,
   "metadata": {},
   "outputs": [],
   "source": [
    "def download_file(self, object_name, file_name):\n",
    "    try:\n",
    "        self.s3_client.download_file(self.bucket_name, object_name, file_name)\n",
    "        print(f\"📥 Archivo {object_name} descargado como {file_name}\")\n",
    "        return True\n",
    "    except ClientError as e:\n",
    "        print(f\"❌ Error al descargar el archivo: {e}\")\n",
    "        return False\n",
    "\n",
    "# Asignar el método a la clase KMSS3Manager\n",
    "setattr(KMSS3Manager, \"download_file\", download_file)\n"
   ]
  },
  {
   "cell_type": "markdown",
   "metadata": {},
   "source": [
    "## 2.6 Verificar cifrado del bucket S3\n",
    "#### Este método comprueba que el bucket S3 está configurado correctamente para usar cifrado KMS."
   ]
  },
  {
   "cell_type": "code",
   "execution_count": 20,
   "metadata": {},
   "outputs": [],
   "source": [
    "def verify_bucket_encryption(self):\n",
    "    try:\n",
    "        response = self.s3_client.get_bucket_encryption(Bucket=self.bucket_name)\n",
    "        rules = response['ServerSideEncryptionConfiguration']['Rules']\n",
    "        for rule in rules:\n",
    "            if rule['ApplyServerSideEncryptionByDefault']['SSEAlgorithm'] == 'aws:kms' and rule['ApplyServerSideEncryptionByDefault']['KMSMasterKeyID'] == self.key_id:\n",
    "                print(\"✅ El bucket está correctamente configurado para usar KMS.\")\n",
    "                return True\n",
    "        print(\"❌ El bucket no está configurado correctamente para usar KMS.\")\n",
    "        return False\n",
    "    except ClientError as e:\n",
    "        print(f\"❌ Error al verificar el cifrado del bucket: {e}\")\n",
    "        return False\n",
    "\n",
    "# Asignar el método a la clase KMSS3Manager\n",
    "setattr(KMSS3Manager, \"verify_bucket_encryption\", verify_bucket_encryption)\n"
   ]
  },
  {
   "cell_type": "markdown",
   "metadata": {},
   "source": [
    "## 2.7 Verificar cifrado del objeto en el bucket S3\n",
    "### Este método verifica que los objetos dentro del bucket S3 estén cifrados usando la clave KMS."
   ]
  },
  {
   "cell_type": "code",
   "execution_count": 21,
   "metadata": {},
   "outputs": [],
   "source": [
    "def verify_object_encryption(self, object_name):\n",
    "    try:\n",
    "        response = self.s3_client.head_object(Bucket=self.bucket_name, Key=object_name)\n",
    "        if 'ServerSideEncryption' in response and response['ServerSideEncryption'] == 'aws:kms':\n",
    "            print(f\"✅ El objeto {object_name} está cifrado con KMS.\")\n",
    "            return True\n",
    "        print(f\"❌ El objeto {object_name} no está cifrado con KMS.\")\n",
    "        return False\n",
    "    except ClientError as e:\n",
    "        print(f\"❌ Error al verificar el cifrado del objeto: {e}\")\n",
    "        return False\n",
    "\n",
    "# Asignar el método a la clase KMSS3Manager\n",
    "setattr(KMSS3Manager, \"verify_object_encryption\", verify_object_encryption)\n"
   ]
  },
  {
   "cell_type": "markdown",
   "metadata": {},
   "source": [
    "# 🌟 Ejemplo de uso\n",
    "\n",
    "## 3. Inicializar el gestor KMSS3Manager\n",
    "#### Creamos una instancia de la clase KMSS3Manager para gestionar nuestras operaciones"
   ]
  },
  {
   "cell_type": "code",
   "execution_count": 11,
   "metadata": {},
   "outputs": [],
   "source": [
    "manager = KMSS3Manager()"
   ]
  },
  {
   "cell_type": "markdown",
   "metadata": {},
   "source": [
    "## 4. Crear clave KMS\n",
    "#### Llamamos al método para crear una clave KMS."
   ]
  },
  {
   "cell_type": "code",
   "execution_count": 14,
   "metadata": {},
   "outputs": [
    {
     "name": "stdout",
     "output_type": "stream",
     "text": [
      "🔑 Nueva clave KMS creada. ID: 8b2b9b35-bd71-4e93-83fb-f92ace68a32d\n"
     ]
    }
   ],
   "source": [
    "key_id = manager.create_kms_key()"
   ]
  },
  {
   "cell_type": "markdown",
   "metadata": {},
   "source": [
    "## 5. Crear bucket S3 con un prefijo y UUID único\n",
    "#### Usamos un prefijo para el nombre del bucket y creamos un bucket único."
   ]
  },
  {
   "cell_type": "code",
   "execution_count": 22,
   "metadata": {},
   "outputs": [
    {
     "name": "stdout",
     "output_type": "stream",
     "text": [
      "🪣 Bucket S3 creado: bucket-sfe-test-d467cb8f-25a5-4c03-8ddc-2a8a78313f86\n"
     ]
    },
    {
     "data": {
      "text/plain": [
       "True"
      ]
     },
     "execution_count": 22,
     "metadata": {},
     "output_type": "execute_result"
    }
   ],
   "source": [
    "bucket_prefix = \"bucket-sfe-test\"\n",
    "manager.create_s3_bucket(bucket_prefix)"
   ]
  },
  {
   "cell_type": "markdown",
   "metadata": {},
   "source": [
    "## 6. Configurar cifrado del bucket\n",
    "#### Configuramos el cifrado del bucket utilizando la clave KMS creada"
   ]
  },
  {
   "cell_type": "code",
   "execution_count": 23,
   "metadata": {},
   "outputs": [
    {
     "name": "stdout",
     "output_type": "stream",
     "text": [
      "🔒 Cifrado configurado para el bucket bucket-sfe-test-d467cb8f-25a5-4c03-8ddc-2a8a78313f86\n"
     ]
    },
    {
     "data": {
      "text/plain": [
       "True"
      ]
     },
     "execution_count": 23,
     "metadata": {},
     "output_type": "execute_result"
    }
   ],
   "source": [
    "manager.configure_s3_encryption()"
   ]
  },
  {
   "cell_type": "markdown",
   "metadata": {},
   "source": [
    "## 7. Verificar la configuración de cifrado del bucket\n",
    "#### Verificamos que el bucket está configurado correctamente para usar cifrado KMS."
   ]
  },
  {
   "cell_type": "code",
   "execution_count": 24,
   "metadata": {},
   "outputs": [
    {
     "name": "stdout",
     "output_type": "stream",
     "text": [
      "✅ El bucket está correctamente configurado para usar KMS.\n"
     ]
    },
    {
     "data": {
      "text/plain": [
       "True"
      ]
     },
     "execution_count": 24,
     "metadata": {},
     "output_type": "execute_result"
    }
   ],
   "source": [
    "manager.verify_bucket_encryption()"
   ]
  },
  {
   "cell_type": "markdown",
   "metadata": {},
   "source": [
    "## 8. Subir un archivo al bucket S3\n",
    "#### Subimos un archivo al bucket S3. (Asumiendo que existe un archivo 'documento_secreto.txt')"
   ]
  },
  {
   "cell_type": "code",
   "execution_count": 25,
   "metadata": {},
   "outputs": [
    {
     "name": "stdout",
     "output_type": "stream",
     "text": [
      "📤 Archivo assets/documento_secreto.txt subido como assets/documento_secreto.txt\n"
     ]
    },
    {
     "data": {
      "text/plain": [
       "True"
      ]
     },
     "execution_count": 25,
     "metadata": {},
     "output_type": "execute_result"
    }
   ],
   "source": [
    "manager.upload_file('assets/documento_secreto.txt')"
   ]
  },
  {
   "cell_type": "markdown",
   "metadata": {},
   "source": [
    "## 9. Verificar el cifrado del objeto\n",
    "#### Verificamos que el archivo subido está cifrado con la clave KMS."
   ]
  },
  {
   "cell_type": "code",
   "execution_count": 26,
   "metadata": {},
   "outputs": [
    {
     "name": "stdout",
     "output_type": "stream",
     "text": [
      "✅ El objeto assets/documento_secreto.txt está cifrado con KMS.\n"
     ]
    },
    {
     "data": {
      "text/plain": [
       "True"
      ]
     },
     "execution_count": 26,
     "metadata": {},
     "output_type": "execute_result"
    }
   ],
   "source": [
    "manager.verify_object_encryption('assets/documento_secreto.txt')"
   ]
  },
  {
   "cell_type": "markdown",
   "metadata": {},
   "source": [
    "## 10. Descargar el archivo del bucket S3\n",
    "#### Descargamos el archivo desde el bucket S3."
   ]
  },
  {
   "cell_type": "code",
   "execution_count": 27,
   "metadata": {},
   "outputs": [
    {
     "name": "stdout",
     "output_type": "stream",
     "text": [
      "📥 Archivo assets/documento_secreto.txt descargado como documento_descargado.txt\n"
     ]
    },
    {
     "data": {
      "text/plain": [
       "True"
      ]
     },
     "execution_count": 27,
     "metadata": {},
     "output_type": "execute_result"
    }
   ],
   "source": [
    "manager.download_file('assets/documento_secreto.txt', 'documento_descargado.txt')"
   ]
  },
  {
   "cell_type": "code",
   "execution_count": 28,
   "metadata": {},
   "outputs": [
    {
     "name": "stdout",
     "output_type": "stream",
     "text": [
      "🚀 Flujo completado.\n"
     ]
    }
   ],
   "source": [
    "print(\"🚀 Flujo completado.\")"
   ]
  },
  {
   "cell_type": "code",
   "execution_count": null,
   "metadata": {},
   "outputs": [],
   "source": []
  }
 ],
 "metadata": {
  "kernelspec": {
   "display_name": "Python 3 (ipykernel)",
   "language": "python",
   "name": "python3"
  },
  "language_info": {
   "codemirror_mode": {
    "name": "ipython",
    "version": 3
   },
   "file_extension": ".py",
   "mimetype": "text/x-python",
   "name": "python",
   "nbconvert_exporter": "python",
   "pygments_lexer": "ipython3",
   "version": "3.12.5"
  }
 },
 "nbformat": 4,
 "nbformat_minor": 4
}
