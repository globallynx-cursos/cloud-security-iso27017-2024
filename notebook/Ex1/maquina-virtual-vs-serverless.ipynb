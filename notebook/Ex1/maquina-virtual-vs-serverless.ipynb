{
 "cells": [
  {
   "cell_type": "markdown",
   "metadata": {},
   "source": [
    "# **Introducción a los Servicios Fundamentales de AWS e implementación de seguridad**"
   ]
  },
  {
   "cell_type": "markdown",
   "metadata": {},
   "source": [
    "# Introducción\n",
    "\n",
    "En este notebook, exploraremos cuatro servicios fundamentales de AWS:\n",
    "\n",
    "1. **IAM (Identity and Access Management)** 🛡️\n",
    "2. **AWS Networking: VPC, Subnets, NAT, Internet Gateway, Route Tables, ACL** 🌐\n",
    "3. **Máquinas Virtuales (EC2)** 💻\n",
    "4. **Contenedores (ECS)** 📦\n",
    "5. **Computación Serverless (Lambda)** ⚡\n",
    "\n",
    "Veremos las características de cada uno y cómo se implementan en AWS mediante este ejercicio."
   ]
  },
  {
   "cell_type": "markdown",
   "metadata": {
    "jp-MarkdownHeadingCollapsed": true
   },
   "source": [
    "## Diagrama de ejercicio general\n",
    "\n",
    "![Diagram](assets/diagram.png)"
   ]
  },
  {
   "cell_type": "markdown",
   "metadata": {},
   "source": [
    "## Explicación Arquitectura en AWS \n",
    "\n",
    "En este ejercicio vamos a crear una arquitectura en AWS que utiliza una VPC con subnets públicas y privadas:\n",
    "\n",
    "- **Subnet pública**: alojará una aplicación web. 🌐\n",
    "- **Subnet privada**: contendrá una base de datos. 💾\n",
    "\n",
    "## Componentes clave:\n",
    "\n",
    "- **Internet Gateway**: permitirá el acceso externo. 🌍\n",
    "- **NAT Gateway**: permitirá que la base de datos acceda a internet sin ser expuesta. 🔒\n",
    "- **Security Groups**: protegerán los recursos controlando el tráfico. 🛡️\n",
    "- **ECR (Elastic Container Registry)**: almacenará imágenes de contenedores utilizadas por la aplicación. 📦\n",
    "- **Lambda**: se empleará para hacer llamadas al servicio web. ⚡\n",
    "- **S3**: almacenará los logs de las llamadas Lambda. La Lambda tendrá un rol con acceso exclusivo a un bucket S3. 🗃️\n",
    "- **Session Manager**: se usará para una conexión segura a las instancias. 🔐\n",
    "- **Tablas de enrutamiento**: gestionarán el flujo del tráfico dentro de la VPC. 🛣️\n",
    "\n",
    "Esta arquitectura asegura una comunicación eficiente y segura entre los diferentes componentes.\n"
   ]
  },
  {
   "cell_type": "markdown",
   "metadata": {},
   "source": [
    "# IAM (Identity and Access Management)"
   ]
  },
  {
   "cell_type": "markdown",
   "metadata": {},
   "source": [
    "**IAM** es un servicio web que ayuda a controlar de forma segura el acceso a los recursos de AWS. 🛡️\n",
    "\n",
    "Características:\n",
    "- Gestión centralizada de usuarios y accesos 👥\n",
    "- Autenticación y autorización granular 🔐\n",
    "- Integración con servicios AWS 🔗\n",
    "- Soporte para identidades federadas 🌍\n",
    "- Sin costo adicional 💸\n"
   ]
  },
  {
   "cell_type": "markdown",
   "metadata": {},
   "source": [
    "## Conceptos Clave\n",
    "\n",
    "- **Cuenta Root**: Al crear una cuenta de AWS, se crea una cuenta root por defecto. Esta cuenta tiene acceso completo a todos los recursos y servicios de AWS y **no debe ser compartida**. 🔑\n",
    "- **Usuarios**: Son entidades que creas en AWS para representar personas o servicios que interactúan con los recursos de AWS. Cada usuario tiene un conjunto único de credenciales. 👤\n",
    "- **Grupos**: Son colecciones de usuarios. No pueden contener otros grupos, solo usuarios. Los usuarios pueden pertenecer a uno o más grupos. 👥\n",
    "- **Roles**: Son similares a los usuarios, pero están destinados a ser asumidos por cualquier entidad que necesite acceso temporal a recursos específicos. 🎭\n",
    "- **Políticas**: Definen permisos y pueden ser adjuntadas a usuarios, grupos o roles. 📜\n"
   ]
  },
  {
   "cell_type": "markdown",
   "metadata": {},
   "source": [
    "### Ejemplo: Asignar nuevo usuario grupo con acceso a S3\n",
    "\n",
    "En este ejercicio, vamos a crear un usuario y un grupo en AWS. El grupo tendrá permisos exclusivamente para enlistar y crear buckets en S3.\n"
   ]
  },
  {
   "cell_type": "code",
   "execution_count": 2,
   "metadata": {},
   "outputs": [
    {
     "data": {
      "text/html": [
       "\n",
       "        <iframe\n",
       "            width=\"1000\"\n",
       "            height=\"500\"\n",
       "            src=\"assets/iam.pdf\"\n",
       "            frameborder=\"0\"\n",
       "            allowfullscreen\n",
       "            \n",
       "        ></iframe>\n",
       "        "
      ],
      "text/plain": [
       "<IPython.lib.display.IFrame at 0x7f55e8252690>"
      ]
     },
     "execution_count": 2,
     "metadata": {},
     "output_type": "execute_result"
    }
   ],
   "source": [
    "from IPython.display import IFrame\n",
    "\n",
    "pdf_path = 'assets/iam.pdf'\n",
    "\n",
    "IFrame(pdf_path, width=1000, height=500)\n"
   ]
  },
  {
   "cell_type": "markdown",
   "metadata": {},
   "source": [
    "### Ejemplo: Crear un Rol de Administrador y Asumirlo por el Usuario\n",
    "En este ejercicio, crearemos un rol de tipo Administrador, que tendrá permisos para crear y leer cualquier recurso en la cuenta de AWS. Además, otorgaremos al usuario los permisos necesarios para asumir este rol y ejecutar dichas acciones"
   ]
  },
  {
   "cell_type": "code",
   "execution_count": 1,
   "metadata": {},
   "outputs": [
    {
     "data": {
      "text/html": [
       "\n",
       "        <iframe\n",
       "            width=\"1000\"\n",
       "            height=\"500\"\n",
       "            src=\"assets/roleassume.pdf\"\n",
       "            frameborder=\"0\"\n",
       "            allowfullscreen\n",
       "            \n",
       "        ></iframe>\n",
       "        "
      ],
      "text/plain": [
       "<IPython.lib.display.IFrame at 0x7f55e8252bd0>"
      ]
     },
     "execution_count": 1,
     "metadata": {},
     "output_type": "execute_result"
    }
   ],
   "source": [
    "from IPython.display import IFrame\n",
    "\n",
    "pdf_path = 'assets/roleassume.pdf'\n",
    "\n",
    "IFrame(pdf_path, width=1000, height=500)"
   ]
  },
  {
   "cell_type": "markdown",
   "metadata": {},
   "source": [
    "### Documentación"
   ]
  },
  {
   "cell_type": "markdown",
   "metadata": {},
   "source": [
    "Consultar esta información para más detalles:\n",
    "- [Crear usuarios en IAM](https://docs.aws.amazon.com/es_es/IAM/latest/UserGuide/id_users_create.html)\n",
    "- [Crear grupos en IAM](https://docs.aws.amazon.com/es_es/IAM/latest/UserGuide/id_groups_create.html)\n",
    "- [Crear roles para servicios en IAM](https://docs.aws.amazon.com/es_es/IAM/latest/UserGuide/id_roles_create_for-service.html)\n",
    "- [Crear roles en IAM](https://docs.aws.amazon.com/es_es/IAM/latest/UserGuide/id_roles_create.html)\n",
    "- [Roles de IAM](https://docs.aws.amazon.com/es_es/IAM/latest/UserGuide/id_roles.html)\n",
    "- [Asumir roles de AWS](https://docs.aws.amazon.com/es_es/IAM/latest/UserGuide/id_roles_use.html)"
   ]
  },
  {
   "cell_type": "markdown",
   "metadata": {},
   "source": [
    "# Setup Inicial para ejecutar proyecto 🚀"
   ]
  },
  {
   "cell_type": "markdown",
   "metadata": {},
   "source": [
    "### Importar bibliotecas 🚀"
   ]
  },
  {
   "cell_type": "code",
   "execution_count": 3,
   "metadata": {},
   "outputs": [],
   "source": [
    "import boto3\n",
    "import json"
   ]
  },
  {
   "cell_type": "markdown",
   "metadata": {},
   "source": [
    "### Configurar el cliente de AWS (asegúrate de tener tus credenciales configuradas) 🚀"
   ]
  },
  {
   "cell_type": "code",
   "execution_count": 4,
   "metadata": {},
   "outputs": [],
   "source": [
    "iam = boto3.client('iam')\n",
    "ec2 = boto3.client('ec2')\n",
    "lambda_client = boto3.client('lambda')\n",
    "ecs = boto3.client('ecs')"
   ]
  },
  {
   "cell_type": "markdown",
   "metadata": {},
   "source": [
    "# AWS Networking: VPC, Subnets, NAT, Internet Gateway, Route Tables, ACL 🌐\n",
    "\n",
    "AWS Networking se centra en la configuración y gestión de redes dentro de AWS utilizando varios componentes clave:\n",
    "\n",
    "- **VPC (Virtual Private Cloud):** Una red virtual aislada dentro de AWS donde se despliegan recursos. 🏠\n",
    "- **Subnets:** Segmentos de una VPC que permiten organizar y asegurar los recursos de manera granular. 📊\n",
    "- **NAT (Network Address Translation):** Permite que instancias en subnets privadas accedan a Internet sin exponer sus direcciones IP privadas. 🔄\n",
    "- **Internet Gateway:** Un componente que permite la comunicación entre instancias en una VPC y la Internet. 🌍\n",
    "- **Route Tables:** Definen las reglas de enrutamiento para controlar el tráfico dentro de la VPC y hacia fuera. 🛣️\n",
    "- **ACL (Access Control Lists):** Listas de control de acceso que proporcionan una capa de seguridad adicional a nivel de subred, permitiendo o denegando tráfico. 🔒\n",
    "\n",
    "Estos componentes juntos permiten diseñar y gestionar redes seguras y eficientes en la nube de AWS.\n"
   ]
  },
  {
   "cell_type": "markdown",
   "metadata": {},
   "source": [
    "## Creación y Configuración de una VPC 🏗️"
   ]
  },
  {
   "cell_type": "markdown",
   "metadata": {},
   "source": [
    "Una Virtual Private Cloud (VPC) es una red virtual en la nube de AWS, aislada lógicamente de otras redes virtuales. A continuación, se detalla cómo crear y configurar una VPC usando Boto3, la biblioteca de AWS para Python."
   ]
  },
  {
   "cell_type": "code",
   "execution_count": 12,
   "metadata": {},
   "outputs": [
    {
     "name": "stdout",
     "output_type": "stream",
     "text": [
      "VPC creada con ID: vpc-054eacb87342c9240\n"
     ]
    },
    {
     "data": {
      "text/plain": [
       "{'ResponseMetadata': {'RequestId': '151f16ce-a9ce-4ffa-964a-b5e9353d4c8a',\n",
       "  'HTTPStatusCode': 200,\n",
       "  'HTTPHeaders': {'x-amzn-requestid': '151f16ce-a9ce-4ffa-964a-b5e9353d4c8a',\n",
       "   'cache-control': 'no-cache, no-store',\n",
       "   'strict-transport-security': 'max-age=31536000; includeSubDomains',\n",
       "   'content-type': 'text/xml;charset=UTF-8',\n",
       "   'content-length': '221',\n",
       "   'date': 'Tue, 06 Aug 2024 14:18:51 GMT',\n",
       "   'server': 'AmazonEC2'},\n",
       "  'RetryAttempts': 0}}"
      ]
     },
     "execution_count": 12,
     "metadata": {},
     "output_type": "execute_result"
    }
   ],
   "source": [
    "import boto3\n",
    "\n",
    "# Crea una VPC\n",
    "response = ec2.create_vpc(\n",
    "    CidrBlock='10.0.0.0/16'\n",
    ")\n",
    "\n",
    "vpc_id = response['Vpc']['VpcId']\n",
    "print(f'VPC creada con ID: {vpc_id}')\n",
    "\n",
    "# Habilita el DNS hostname para la VPC\n",
    "ec2.modify_vpc_attribute(\n",
    "    VpcId=vpc_id,\n",
    "    EnableDnsSupport={'Value': True}\n",
    ")\n",
    "\n",
    "ec2.modify_vpc_attribute(\n",
    "    VpcId=vpc_id,\n",
    "    EnableDnsHostnames={'Value': True}\n",
    ")\n",
    "\n",
    "# Crea una etiqueta para la VPC\n",
    "ec2.create_tags(\n",
    "    Resources=[vpc_id],\n",
    "    Tags=[{'Key': 'Name', 'Value': 'DemoVPC'}]\n",
    ")\n"
   ]
  },
  {
   "cell_type": "markdown",
   "metadata": {},
   "source": [
    "## Agregar Subnets\n"
   ]
  },
  {
   "cell_type": "code",
   "execution_count": 13,
   "metadata": {},
   "outputs": [
    {
     "name": "stdout",
     "output_type": "stream",
     "text": [
      "Subnet pública creada con ID: subnet-00cde9c01181ce876\n",
      "Subnet privada creada con ID: subnet-0299cfec4a384f661\n",
      "Internet Gateway creado con ID: igw-0ba5c6efc1677287f\n",
      "Tabla de rutas predeterminada con ID: rtb-0aa614349600d8ab3\n",
      "Tabla de rutas privada creada con ID: rtb-02f811a092171f3a4\n",
      "Configuración de VPC completa. La subnet pública tiene acceso a Internet y la subnet privada tiene su propia tabla de rutas.\n"
     ]
    }
   ],
   "source": [
    "# Crear la subnet pública\n",
    "response_public_subnet = ec2.create_subnet(\n",
    "    VpcId=vpc_id,\n",
    "    CidrBlock='10.0.1.0/24',\n",
    "    AvailabilityZone='us-east-1a'\n",
    ")\n",
    "\n",
    "public_subnet_id = response_public_subnet['Subnet']['SubnetId']\n",
    "print(f'Subnet pública creada con ID: {public_subnet_id}')\n",
    "\n",
    "# Crear una etiqueta para la subnet pública\n",
    "ec2.create_tags(\n",
    "    Resources=[public_subnet_id],\n",
    "    Tags=[{'Key': 'Name', 'Value': 'PublicSubnet'}]\n",
    ")\n",
    "\n",
    "# Crear la subnet privada\n",
    "response_private_subnet = ec2.create_subnet(\n",
    "    VpcId=vpc_id,\n",
    "    CidrBlock='10.0.2.0/24',\n",
    "    AvailabilityZone='us-east-1a'\n",
    ")\n",
    "\n",
    "private_subnet_id = response_private_subnet['Subnet']['SubnetId']\n",
    "print(f'Subnet privada creada con ID: {private_subnet_id}')\n",
    "\n",
    "# Crear una etiqueta para la subnet privada\n",
    "ec2.create_tags(\n",
    "    Resources=[private_subnet_id],\n",
    "    Tags=[{'Key': 'Name', 'Value': 'PrivateSubnet'}]\n",
    ")\n",
    "\n",
    "# Crear un Internet Gateway\n",
    "response_igw = ec2.create_internet_gateway()\n",
    "igw_id = response_igw['InternetGateway']['InternetGatewayId']\n",
    "print(f'Internet Gateway creado con ID: {igw_id}')\n",
    "\n",
    "# Adjuntar el Internet Gateway a la VPC\n",
    "ec2.attach_internet_gateway(\n",
    "    InternetGatewayId=igw_id,\n",
    "    VpcId=vpc_id\n",
    ")\n",
    "\n",
    "# Crear una etiqueta para el Internet Gateway\n",
    "ec2.create_tags(\n",
    "    Resources=[igw_id],\n",
    "    Tags=[{'Key': 'Name', 'Value': 'DemoIGW'}]\n",
    ")\n",
    "\n",
    "# Obtener la tabla de rutas predeterminada\n",
    "response_route_tables = ec2.describe_route_tables(\n",
    "    Filters=[\n",
    "        {\n",
    "            'Name': 'vpc-id',\n",
    "            'Values': [vpc_id]\n",
    "        }\n",
    "    ]\n",
    ")\n",
    "\n",
    "route_table_id = response_route_tables['RouteTables'][0]['RouteTableId']\n",
    "print(f'Tabla de rutas predeterminada con ID: {route_table_id}')\n",
    "\n",
    "# Crear una ruta en la tabla de rutas predeterminada que apunte al Internet Gateway\n",
    "ec2.create_route(\n",
    "    RouteTableId=route_table_id,\n",
    "    DestinationCidrBlock='0.0.0.0/0',\n",
    "    GatewayId=igw_id\n",
    ")\n",
    "\n",
    "# Asociar la tabla de rutas predeterminada con la subnet pública\n",
    "ec2.associate_route_table(\n",
    "    RouteTableId=route_table_id,\n",
    "    SubnetId=public_subnet_id\n",
    ")\n",
    "\n",
    "# Crear una nueva tabla de rutas para la subnet privada\n",
    "response_private_route_table = ec2.create_route_table(\n",
    "    VpcId=vpc_id\n",
    ")\n",
    "\n",
    "private_route_table_id = response_private_route_table['RouteTable']['RouteTableId']\n",
    "print(f'Tabla de rutas privada creada con ID: {private_route_table_id}')\n",
    "\n",
    "# Crear una etiqueta para la tabla de rutas privada\n",
    "ec2.create_tags(\n",
    "    Resources=[private_route_table_id],\n",
    "    Tags=[{'Key': 'Name', 'Value': 'PrivateRouteTable'}]\n",
    ")\n",
    "\n",
    "# Asociar la nueva tabla de rutas con la subnet privada\n",
    "ec2.associate_route_table(\n",
    "    RouteTableId=private_route_table_id,\n",
    "    SubnetId=private_subnet_id\n",
    ")\n",
    "\n",
    "print('Configuración de VPC completa. La subnet pública tiene acceso a Internet y la subnet privada tiene su propia tabla de rutas.')"
   ]
  },
  {
   "cell_type": "markdown",
   "metadata": {},
   "source": [
    "# Máquinas Virtuales (EC2 en AWS) 💻"
   ]
  },
  {
   "cell_type": "markdown",
   "metadata": {},
   "source": [
    "Las máquinas virtuales son emulaciones de sistemas informáticos completos. En AWS, se implementan como instancias EC2 (Elastic Compute Cloud).\n",
    "\n",
    "Características:\n",
    "- Emula hardware completo 🖥️\n",
    "- Control total sobre el sistema operativo ⚙️\n",
    "- Requiere gestión y mantenimiento del sistema operativo 🛠️\n",
    "- Escalado manual o automatizado, pero no instantáneo 📈\n",
    "- Facturación por hora/segundo de ejecución ⏲️"
   ]
  },
  {
   "cell_type": "markdown",
   "metadata": {},
   "source": [
    "## Ejemplo: Instancia EC2 AWS 🚀"
   ]
  },
  {
   "cell_type": "markdown",
   "metadata": {},
   "source": [
    "En esta sección, se explica cómo lanzar una instancia EC2 en AWS, configurar su grupo de seguridad para permitir conexiones SSH usando EC2 Instance Connect y ejecutar un script de instalación de Docker en el momento del lanzamiento de la instancia."
   ]
  },
  {
   "cell_type": "markdown",
   "metadata": {},
   "source": [
    "### Creación y Configuración de un Grupo de Seguridad para EC2 Instance Connect 🚀"
   ]
  },
  {
   "cell_type": "code",
   "execution_count": 6,
   "metadata": {},
   "outputs": [
    {
     "name": "stdout",
     "output_type": "stream",
     "text": [
      "Grupo de seguridad creado exitosamente con regla de entrada SSH\n"
     ]
    }
   ],
   "source": [
    "from botocore.exceptions import ClientError\n",
    "\n",
    "# Especifica tu VPC y las IDs de subred\n",
    "subnet_id = public_subnet_id\n",
    "\n",
    "# Crea o obtiene un grupo de seguridad existente\n",
    "security_group_name = 'EC2-InstanceConnect-SG'\n",
    "try:\n",
    "    security_group = ec2.create_security_group(\n",
    "        GroupName=security_group_name,\n",
    "        Description='Security group for EC2 Instance Connect',\n",
    "        VpcId=vpc_id\n",
    "    )\n",
    "    \n",
    "    # Agrega una regla de entrada para SSH desde el rango de IP de EC2 Instance Connect\n",
    "    ec2.authorize_security_group_ingress(\n",
    "        GroupId=security_group['GroupId'],\n",
    "        IpPermissions=[\n",
    "            {\n",
    "                'IpProtocol': 'tcp',\n",
    "                'FromPort': 22,\n",
    "                'ToPort': 22,\n",
    "                'IpRanges': [{'CidrIp': '18.206.107.24/29'}]  # Rango de IP de EC2 Instance Connect\n",
    "            }\n",
    "        ]\n",
    "    )\n",
    "    print(\"Grupo de seguridad creado exitosamente con regla de entrada SSH\")\n",
    "except ClientError as e:\n",
    "    if e.response['Error']['Code'] == 'InvalidGroup.Duplicate':\n",
    "        print(\"El grupo de seguridad ya existe. Usando el grupo existente.\")\n",
    "        security_groups = ec2.describe_security_groups(\n",
    "            Filters=[\n",
    "                {'Name': 'group-name', 'Values': [security_group_name]},\n",
    "                {'Name': 'vpc-id', 'Values': [vpc_id]}\n",
    "            ]\n",
    "        )['SecurityGroups']\n",
    "        if security_groups:\n",
    "            security_group = security_groups[0]\n",
    "        else:\n",
    "            raise Exception(f\"Grupo de seguridad {security_group_name} no encontrado en la VPC {vpc_id}\")\n",
    "    else:\n",
    "        raise e\n"
   ]
  },
  {
   "cell_type": "markdown",
   "metadata": {},
   "source": [
    "### Lanza la instancia EC2 e instala docker 🚀"
   ]
  },
  {
   "cell_type": "code",
   "execution_count": 7,
   "metadata": {},
   "outputs": [
    {
     "name": "stdout",
     "output_type": "stream",
     "text": [
      "Instancia EC2 creada con ID: i-069d1f9faca012a32\n",
      "Configuración completa. La instancia se está lanzando.\n",
      "Docker se instalará durante el lanzamiento de la instancia.\n",
      "Deberías poder conectarte usando EC2 Instance Connect una vez que esté lista.\n"
     ]
    }
   ],
   "source": [
    "# Lee el contenido de docker_install.sh\n",
    "with open('scripts/docker_install.sh', 'r') as file:\n",
    "    docker_install_script = file.read()\n",
    "    \n",
    "try:\n",
    "    user_data_script = f'''#!/bin/bash\n",
    "        yum update -y\n",
    "        yum install -y ec2-instance-connect\n",
    "        echo \"Instancia lanzada con EC2 Instance Connect instalado\"\n",
    "\n",
    "        # Script de instalación de Docker\n",
    "        {docker_install_script}\n",
    "    '''\n",
    "\n",
    "    response = ec2.run_instances(\n",
    "        ImageId='ami-04a81a99f5ec58529',  # AMI de Amazon Linux 2023\n",
    "        InstanceType='t2.micro',\n",
    "        MinCount=1,\n",
    "        MaxCount=1,\n",
    "        UserData=user_data_script,\n",
    "        NetworkInterfaces=[{\n",
    "            'SubnetId': subnet_id,\n",
    "            'DeviceIndex': 0,\n",
    "            'AssociatePublicIpAddress': True,\n",
    "            'Groups': [security_group['GroupId']]\n",
    "        }]\n",
    "    )\n",
    "\n",
    "    instance_id = response['Instances'][0]['InstanceId']\n",
    "    print(f\"Instancia EC2 creada con ID: {instance_id}\")\n",
    "\n",
    "    print(\"Configuración completa. La instancia se está lanzando.\")\n",
    "    print(\"Docker se instalará durante el lanzamiento de la instancia.\")\n",
    "    print(\"Deberías poder conectarte usando EC2 Instance Connect una vez que esté lista.\")\n",
    "except ClientError as e:\n",
    "    print(f\"Error al lanzar la instancia EC2: {e}\")"
   ]
  },
  {
   "cell_type": "markdown",
   "metadata": {},
   "source": [
    "# Containers usando Docker y ECR 🐳🚀\n",
    "En esta sección, exploramos cómo usar contenedores Docker y Amazon Elastic Container Service (ECS) para desplegar y gestionar aplicaciones en AWS.\n",
    "\n",
    "**Docker:**\n",
    "- 🐳 **Docker:** Una plataforma para desarrollar, enviar y ejecutar aplicaciones dentro de contenedores ligeros y portátiles.\n",
    "- 📦 **Imágenes:** Archivos que contienen todo lo necesario para ejecutar una aplicación: código, runtime, bibliotecas y configuraciones.\n",
    "- 🚀 **Contenedores:** Instancias ejecutables de imágenes Docker que pueden iniciarse y detenerse rápidamente.\n",
    "\n",
    "**Amazon ECR:**\n",
    "- 📦 **ECR (Elastic Container Registry):** Un servicio de almacenamiento completamente gestionado para imágenes Docker, que facilita el almacenamiento, la gestión y el despliegue de imágenes de contenedores.\n",
    "- 🔒 **Seguridad:** Integración con IAM para controlar el acceso a los repositorios de imágenes.\n",
    "- 🔄 **Automatización:** Soporte para pipelines de CI/CD para automatizar el despliegue de imágenes.\n"
   ]
  },
  {
   "cell_type": "markdown",
   "metadata": {},
   "source": [
    "### Creación de repositorio ECR"
   ]
  },
  {
   "cell_type": "code",
   "execution_count": 8,
   "metadata": {},
   "outputs": [
    {
     "name": "stdout",
     "output_type": "stream",
     "text": [
      "Repositorio ECR creado exitosamente: 021891591921.dkr.ecr.us-east-1.amazonaws.com/spend-wise-app\n"
     ]
    }
   ],
   "source": [
    "import boto3\n",
    "from botocore.exceptions import ClientError\n",
    "\n",
    "# Crear un cliente para ECR\n",
    "ecr_client = boto3.client('ecr')\n",
    "\n",
    "# Nombre del repositorio ECR\n",
    "repository_name = 'spend-wise-app'\n",
    "\n",
    "try:\n",
    "    # Crear el repositorio ECR\n",
    "    response = ecr_client.create_repository(\n",
    "        repositoryName=repository_name,\n",
    "        imageTagMutability='MUTABLE',\n",
    "        imageScanningConfiguration={'scanOnPush': True}\n",
    "    )\n",
    "\n",
    "    # Extraer y mostrar detalles del repositorio creado\n",
    "    repository_uri = response['repository']['repositoryUri']\n",
    "    print(f\"Repositorio ECR creado exitosamente: {repository_uri}\")\n",
    "\n",
    "except ClientError as e:\n",
    "    # Manejo de errores específicos de AWS\n",
    "    if e.response['Error']['Code'] == 'RepositoryAlreadyExistsException':\n",
    "        print(f\"El repositorio {repository_name} ya existe.\")\n",
    "    else:\n",
    "        print(f\"Error al crear el repositorio ECR: {e}\")\n"
   ]
  },
  {
   "cell_type": "code",
   "execution_count": null,
   "metadata": {},
   "outputs": [],
   "source": []
  },
  {
   "cell_type": "markdown",
   "metadata": {},
   "source": [
    "# Serverless (AWS Lambda) ⚡"
   ]
  },
  {
   "cell_type": "markdown",
   "metadata": {},
   "source": [
    "La computación serverless permite ejecutar código sin provisionar ni administrar servidores. AWS Lambda es el servicio serverless de AWS.\n",
    "\n",
    "Características:\n",
    "- No hay que gestionar servidores 🛠️\n",
    "- Escalado automático e instantáneo 📈\n",
    "- Facturación por milisegundo de ejecución ⏱️\n",
    "- Ideal para cargas de trabajo intermitentes 🌐\n",
    "- Limitado en tiempo de ejecución y recursos ⏳"
   ]
  },
  {
   "cell_type": "markdown",
   "metadata": {},
   "source": [
    "### Ejemplo: Crear una función Lambda"
   ]
  },
  {
   "cell_type": "code",
   "execution_count": null,
   "metadata": {},
   "outputs": [],
   "source": [
    "def create_lambda_function():\n",
    "    with open('lambda_function.zip', 'rb') as f:\n",
    "        zipped_code = f.read()\n",
    "    \n",
    "    response = lambda_client.create_function(\n",
    "        FunctionName='MyLambdaFunction',\n",
    "        Runtime='python3.8',\n",
    "        Role='arn:aws:iam::XXXXXXXXXXXX:role/lambda-role',  # IAM role ARN\n",
    "        Handler='lambda_function.handler',\n",
    "        Code=dict(ZipFile=zipped_code),\n",
    "        Timeout=30\n",
    "    )\n",
    "    return response['FunctionArn']\n",
    "\n",
    "lambda_arn = create_lambda_function()\n",
    "print(f\"Función Lambda creada con ARN: {lambda_arn}\")"
   ]
  },
  {
   "cell_type": "markdown",
   "metadata": {},
   "source": [
    "## Contenedores (ECS en AWS)"
   ]
  },
  {
   "cell_type": "markdown",
   "metadata": {},
   "source": [
    "Los contenedores son unidades estándar de software que empaquetan el código y todas sus dependencias.\n",
    "AWS ECS (Elastic Container Service) es un servicio de orquestación de contenedores.\n",
    "\n",
    "Características:\n",
    "- Ligeros y portables\n",
    "- Aislamiento de aplicaciones\n",
    "- Rápido despliegue y escalado\n",
    "- Eficiente uso de recursos\n",
    "- Ideal para microservicios"
   ]
  },
  {
   "cell_type": "markdown",
   "metadata": {},
   "source": [
    "### Ejemplo: Crear un cluster ECS"
   ]
  },
  {
   "cell_type": "code",
   "execution_count": null,
   "metadata": {},
   "outputs": [],
   "source": [
    "def create_ecs_cluster(cluster_name):\n",
    "    response = ecs.create_cluster(clusterName=cluster_name)\n",
    "    return response['cluster']['clusterArn']\n",
    "\n",
    "cluster_arn = create_ecs_cluster('MiClusterECS')\n",
    "print(f\"Cluster ECS creado con ARN: {cluster_arn}\")"
   ]
  },
  {
   "cell_type": "markdown",
   "metadata": {},
   "source": [
    "## Comparación de servicios"
   ]
  },
  {
   "cell_type": "markdown",
   "metadata": {},
   "source": [
    "1. IAM:\n",
    "   - Gestión centralizada de accesos\n",
    "   - Crucial para la seguridad en la nube\n",
    "   - Se integra con todos los servicios AWS\n",
    "   - Sin costo adicional\n",
    "\n",
    "2. Máquinas Virtuales (EC2):\n",
    "   - Mayor control y flexibilidad\n",
    "   - Requiere más gestión\n",
    "   - Mejor para aplicaciones que necesitan el sistema operativo completo\n",
    "   - Costo: Puede ser más alto para cargas de trabajo intermitentes\n",
    "\n",
    "3. Serverless (Lambda):\n",
    "   - Sin gestión de servidores\n",
    "   - Escalado automático\n",
    "   - Ideal para microservicios y funciones específicas\n",
    "   - Costo: Muy eficiente para cargas de trabajo variables\n",
    "\n",
    "4. Contenedores (ECS):\n",
    "   - Portabilidad y consistencia\n",
    "   - Menos sobrecarga que las VMs\n",
    "   - Bueno para microservicios y aplicaciones distribuidas\n",
    "   - Costo: Equilibrio entre VMs y serverless\n",
    "\n",
    "La elección depende de los requisitos específicos de tu aplicación, \n",
    "la experiencia de tu equipo y las necesidades de gestión y escalabilidad."
   ]
  }
 ],
 "metadata": {
  "kernelspec": {
   "display_name": "Python 3 (ipykernel)",
   "language": "python",
   "name": "python3"
  },
  "language_info": {
   "codemirror_mode": {
    "name": "ipython",
    "version": 3
   },
   "file_extension": ".py",
   "mimetype": "text/x-python",
   "name": "python",
   "nbconvert_exporter": "python",
   "pygments_lexer": "ipython3",
   "version": "3.12.4"
  }
 },
 "nbformat": 4,
 "nbformat_minor": 4
}
